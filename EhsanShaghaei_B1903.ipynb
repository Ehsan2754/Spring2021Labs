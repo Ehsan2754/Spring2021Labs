{
  "nbformat": 4,
  "nbformat_minor": 0,
  "metadata": {
    "colab": {
      "name": "EhsanShaghaei_B1903.ipynb",
      "provenance": [],
      "collapsed_sections": [
        "1he6Z6YNr_N-",
        "24566VWdsBrG",
        "qsXHHhjDumYj",
        "h8YEmKl7wBnA",
        "jbfZokNhxU4y",
        "r1lUVe42yPDb",
        "rB3kbnPQaKrO",
        "hs6VlS9TaQsT",
        "EcvMkYyWEW7J",
        "OZQZ8KLLEgNQ",
        "7y7vitk9UxcV",
        "QE1xw2VNUxc4",
        "Prn_kABCUxdB",
        "VyHdqeg_UxdD",
        "NoqhcYDOdeoF",
        "Ej1htbw_f4kA",
        "nrMSXqikgxCO",
        "1pyYuRDSimyQ"
      ],
      "authorship_tag": "ABX9TyOzQPWb67BRUmzCeN33Jvst",
      "include_colab_link": true
    },
    "kernelspec": {
      "display_name": "Python 3",
      "name": "python3"
    }
  },
  "cells": [
    {
      "cell_type": "markdown",
      "metadata": {
        "id": "view-in-github",
        "colab_type": "text"
      },
      "source": [
        "<a href=\"https://colab.research.google.com/github/Ehsan2754/Spring2021Labs/blob/main/EhsanShaghaei_B1903.ipynb\" target=\"_parent\"><img src=\"https://colab.research.google.com/assets/colab-badge.svg\" alt=\"Open In Colab\"/></a>"
      ]
    },
    {
      "cell_type": "markdown",
      "metadata": {
        "id": "yWXOjJJrqUBB"
      },
      "source": [
        "# Lab 1\r\n"
      ]
    },
    {
      "cell_type": "markdown",
      "metadata": {
        "id": "1he6Z6YNr_N-"
      },
      "source": [
        "## Task 1"
      ]
    },
    {
      "cell_type": "markdown",
      "metadata": {
        "id": "24566VWdsBrG"
      },
      "source": [
        "### Task 1.1\r\n",
        "Convert to State Space represantation, and to a state-space representation"
      ]
    },
    {
      "cell_type": "markdown",
      "metadata": {
        "id": "N2XF__vTsHTU"
      },
      "source": [
        "#### Task 1.1.1\r\n",
        "**problem.**\r\n",
        "$$ 10 y^{(4)} -7  y^{(3)} + 2   \\ddot y + 0.5 \\dot y + 4y  = 15 $$\r\n",
        "**solution.**\r\n",
        "$$ \r\n",
        "\\begin{bmatrix}\r\n",
        "\\dot{x_0}\\\\\r\n",
        "\\dot{x_1}\\\\\r\n",
        "\\dot{x_2}\\\\\r\n",
        "\\dot{x_3}\r\n",
        "\\end{bmatrix}=\r\n",
        "\\begin{bmatrix}\r\n",
        "0&1&0&0\\\\\r\n",
        "0&0&1&0\\\\\r\n",
        "0&0&0&1\\\\\r\n",
        "\\frac{-2}{5}&\\frac{-1}{20}&\\frac{-1}{5}&\\frac{7}{10}\r\n",
        "\\end{bmatrix}\r\n",
        "\\begin{bmatrix}\r\n",
        "{x_0}\\\\\r\n",
        "{x_1}\\\\\r\n",
        "{x_2}\\\\\r\n",
        "{x_3}\r\n",
        "\\end{bmatrix}+\r\n",
        "\\begin{bmatrix}\r\n",
        "0\\\\\r\n",
        "0\\\\\r\n",
        "0\\\\\r\n",
        "\\frac{3}{2}\r\n",
        "\\end{bmatrix}\r\n",
        "$$"
      ]
    },
    {
      "cell_type": "code",
      "metadata": {
        "colab": {
          "base_uri": "https://localhost:8080/",
          "height": 385
        },
        "id": "CHsrJf6ysdTj",
        "outputId": "15f56b4f-51aa-490a-cb48-541a850298e9"
      },
      "source": [
        "# importing libraries\r\n",
        "import numpy as np\r\n",
        "from scipy.integrate import odeint\r\n",
        "import matplotlib.pyplot as plt\r\n",
        "\r\n",
        "n = 4 # order of the equation\r\n",
        "A = np.array(\r\n",
        "              [\r\n",
        "              [0,1,0,0],\r\n",
        "              [0,0,1,0],\r\n",
        "              [0,0,0,1],\r\n",
        "              [-4/10,-0.5/10,-2/10,7/10]\r\n",
        "              ]\r\n",
        "             )\r\n",
        "\r\n",
        "# x_dot from state space\r\n",
        "def StateSpace(x, t):\r\n",
        "    return A.dot(x) + np.array([0,0,0,1.5])\r\n",
        "\r\n",
        "# time horizon \r\n",
        "time = np.linspace(0, 1, 1000)   \r\n",
        "x0 = np.array([1,1,1,1])  # initial state\r\n",
        "\r\n",
        "# the solution in the a dictionary form\r\n",
        "solution = {\"SS\": odeint(StateSpace, x0, time)}\r\n",
        "print(x0)\r\n",
        "print(A)\r\n",
        "print(np.shape(solution['SS']))\r\n",
        "plt.plot(time, solution[\"SS\"])\r\n",
        "plt.xlabel('time')\r\n",
        "plt.ylabel('x(t)')\r\n",
        "plt.show()"
      ],
      "execution_count": 1,
      "outputs": [
        {
          "output_type": "stream",
          "text": [
            "[1 1 1 1]\n",
            "[[ 0.    1.    0.    0.  ]\n",
            " [ 0.    0.    1.    0.  ]\n",
            " [ 0.    0.    0.    1.  ]\n",
            " [-0.4  -0.05 -0.2   0.7 ]]\n",
            "(1000, 4)\n"
          ],
          "name": "stdout"
        },
        {
          "output_type": "display_data",
          "data": {
            "image/png": "[encoded data removed]",
            "text/plain": [
              "<Figure size 432x288 with 1 Axes>"
            ]
          },
          "metadata": {
            "tags": [],
            "needs_background": "light"
          }
        }
      ]
    },
    {
      "cell_type": "markdown",
      "metadata": {
        "id": "qsXHHhjDumYj"
      },
      "source": [
        "#### Task 1.1.2\r\n",
        "**problem.**\r\n",
        "$$5  y^{(4)} -17 y^{(3)} - 3   \\ddot y + 1.5 \\dot y + 2y  = 25$$\r\n",
        "**solution.**\r\n",
        "$$ \r\n",
        "\\begin{bmatrix}\r\n",
        "\\dot{x_0}\\\\\r\n",
        "\\dot{x_1}\\\\\r\n",
        "\\dot{x_2}\\\\\r\n",
        "\\dot{x_3}\r\n",
        "\\end{bmatrix}=\r\n",
        "\\begin{bmatrix}\r\n",
        "0&1&0&0\\\\\r\n",
        "0&0&1&0\\\\\r\n",
        "0&0&0&1\\\\\r\n",
        "\\frac{-2}{5}&\\frac{-3}{10}&\\frac{3}{5}&\\frac{17}{5}\r\n",
        "\\end{bmatrix}\r\n",
        "\\begin{bmatrix}\r\n",
        "{x_0}\\\\\r\n",
        "{x_1}\\\\\r\n",
        "{x_2}\\\\\r\n",
        "{x_3}\r\n",
        "\\end{bmatrix}+\r\n",
        "\\begin{bmatrix}\r\n",
        "0\\\\\r\n",
        "0\\\\\r\n",
        "0\\\\\r\n",
        "5\r\n",
        "\\end{bmatrix}\r\n",
        "$$"
      ]
    },
    {
      "cell_type": "code",
      "metadata": {
        "colab": {
          "base_uri": "https://localhost:8080/",
          "height": 512
        },
        "id": "ptsbKtpqviK8",
        "outputId": "695f5c46-9d8a-428b-ad71-02756d9f7219"
      },
      "source": [
        "# importing libraries\r\n",
        "import numpy as np\r\n",
        "from scipy.integrate import odeint\r\n",
        "import matplotlib.pyplot as plt\r\n",
        "\r\n",
        "n = 4 # order of the equation\r\n",
        "A = np.array(\r\n",
        "              [\r\n",
        "              [0,1,0,0],\r\n",
        "              [0,0,1,0],\r\n",
        "              [0,0,0,1],\r\n",
        "              [-2/5,-0.3,3/5,17/5]\r\n",
        "              ]\r\n",
        "             )\r\n",
        "\r\n",
        "# x_dot from state space\r\n",
        "def StateSpace(x, t):\r\n",
        "    return A.dot(x) + np.array([0,0,0,5])\r\n",
        "\r\n",
        "# time horizon \r\n",
        "time = np.linspace(0, 1, 1000)   \r\n",
        "x0 = np.array([1,1,1,1])  # initial state\r\n",
        "\r\n",
        "# the solution in the a dictionary form\r\n",
        "solution = {\"SS\": odeint(StateSpace, x0, time)}\r\n",
        "print(x0)\r\n",
        "print(A)\r\n",
        "print(np.shape(solution['SS']))\r\n",
        "plt.plot(time, solution[\"SS\"])\r\n",
        "plt.xlabel('time')\r\n",
        "plt.ylabel('x(t)')\r\n",
        "plt.show()"
      ],
      "execution_count": null,
      "outputs": [
        {
          "output_type": "stream",
          "text": [
            "[1 1 1 1]\n",
            "[[ 0.   1.   0.   0. ]\n",
            " [ 0.   0.   1.   0. ]\n",
            " [ 0.   0.   0.   1. ]\n",
            " [-0.4 -0.3  0.6  3.4]]\n",
            "(1000, 4)\n"
          ],
          "name": "stdout"
        },
        {
          "output_type": "error",
          "ename": "KeyboardInterrupt",
          "evalue": "ignored",
          "traceback": [
            "\u001b[0;31m---------------------------------------------------------------------------\u001b[0m",
            "\u001b[0;31mKeyboardInterrupt\u001b[0m                         Traceback (most recent call last)",
            "\u001b[0;32m<ipython-input-15-378941cb05f4>\u001b[0m in \u001b[0;36m<module>\u001b[0;34m()\u001b[0m\n\u001b[1;32m     30\u001b[0m \u001b[0mplt\u001b[0m\u001b[0;34m.\u001b[0m\u001b[0mxlabel\u001b[0m\u001b[0;34m(\u001b[0m\u001b[0;34m'time'\u001b[0m\u001b[0;34m)\u001b[0m\u001b[0;34m\u001b[0m\u001b[0;34m\u001b[0m\u001b[0m\n\u001b[1;32m     31\u001b[0m \u001b[0mplt\u001b[0m\u001b[0;34m.\u001b[0m\u001b[0mylabel\u001b[0m\u001b[0;34m(\u001b[0m\u001b[0;34m'x(t)'\u001b[0m\u001b[0;34m)\u001b[0m\u001b[0;34m\u001b[0m\u001b[0;34m\u001b[0m\u001b[0m\n\u001b[0;32m---> 32\u001b[0;31m \u001b[0mplt\u001b[0m\u001b[0;34m.\u001b[0m\u001b[0mshow\u001b[0m\u001b[0;34m(\u001b[0m\u001b[0;34m)\u001b[0m\u001b[0;34m\u001b[0m\u001b[0;34m\u001b[0m\u001b[0m\n\u001b[0m",
            "\u001b[0;32m/usr/local/lib/python3.6/dist-packages/matplotlib/pyplot.py\u001b[0m in \u001b[0;36mshow\u001b[0;34m(*args, **kw)\u001b[0m\n\u001b[1;32m    270\u001b[0m     \"\"\"\n\u001b[1;32m    271\u001b[0m     \u001b[0;32mglobal\u001b[0m \u001b[0m_show\u001b[0m\u001b[0;34m\u001b[0m\u001b[0;34m\u001b[0m\u001b[0m\n\u001b[0;32m--> 272\u001b[0;31m     \u001b[0;32mreturn\u001b[0m \u001b[0m_show\u001b[0m\u001b[0;34m(\u001b[0m\u001b[0;34m*\u001b[0m\u001b[0margs\u001b[0m\u001b[0;34m,\u001b[0m \u001b[0;34m**\u001b[0m\u001b[0mkw\u001b[0m\u001b[0;34m)\u001b[0m\u001b[0;34m\u001b[0m\u001b[0;34m\u001b[0m\u001b[0m\n\u001b[0m\u001b[1;32m    273\u001b[0m \u001b[0;34m\u001b[0m\u001b[0m\n\u001b[1;32m    274\u001b[0m \u001b[0;34m\u001b[0m\u001b[0m\n",
            "\u001b[0;32m/usr/local/lib/python3.6/dist-packages/ipykernel/pylab/backend_inline.py\u001b[0m in \u001b[0;36mshow\u001b[0;34m(close, block)\u001b[0m\n\u001b[1;32m     37\u001b[0m             display(\n\u001b[1;32m     38\u001b[0m                 \u001b[0mfigure_manager\u001b[0m\u001b[0;34m.\u001b[0m\u001b[0mcanvas\u001b[0m\u001b[0;34m.\u001b[0m\u001b[0mfigure\u001b[0m\u001b[0;34m,\u001b[0m\u001b[0;34m\u001b[0m\u001b[0;34m\u001b[0m\u001b[0m\n\u001b[0;32m---> 39\u001b[0;31m                 \u001b[0mmetadata\u001b[0m\u001b[0;34m=\u001b[0m\u001b[0m_fetch_figure_metadata\u001b[0m\u001b[0;34m(\u001b[0m\u001b[0mfigure_manager\u001b[0m\u001b[0;34m.\u001b[0m\u001b[0mcanvas\u001b[0m\u001b[0;34m.\u001b[0m\u001b[0mfigure\u001b[0m\u001b[0;34m)\u001b[0m\u001b[0;34m\u001b[0m\u001b[0;34m\u001b[0m\u001b[0m\n\u001b[0m\u001b[1;32m     40\u001b[0m             )\n\u001b[1;32m     41\u001b[0m     \u001b[0;32mfinally\u001b[0m\u001b[0;34m:\u001b[0m\u001b[0;34m\u001b[0m\u001b[0;34m\u001b[0m\u001b[0m\n",
            "\u001b[0;32m/usr/local/lib/python3.6/dist-packages/IPython/core/display.py\u001b[0m in \u001b[0;36mdisplay\u001b[0;34m(*objs, **kwargs)\u001b[0m\n\u001b[1;32m    304\u001b[0m             \u001b[0mpublish_display_data\u001b[0m\u001b[0;34m(\u001b[0m\u001b[0mdata\u001b[0m\u001b[0;34m=\u001b[0m\u001b[0mobj\u001b[0m\u001b[0;34m,\u001b[0m \u001b[0mmetadata\u001b[0m\u001b[0;34m=\u001b[0m\u001b[0mmetadata\u001b[0m\u001b[0;34m,\u001b[0m \u001b[0;34m**\u001b[0m\u001b[0mkwargs\u001b[0m\u001b[0;34m)\u001b[0m\u001b[0;34m\u001b[0m\u001b[0;34m\u001b[0m\u001b[0m\n\u001b[1;32m    305\u001b[0m         \u001b[0;32melse\u001b[0m\u001b[0;34m:\u001b[0m\u001b[0;34m\u001b[0m\u001b[0;34m\u001b[0m\u001b[0m\n\u001b[0;32m--> 306\u001b[0;31m             \u001b[0mformat_dict\u001b[0m\u001b[0;34m,\u001b[0m \u001b[0mmd_dict\u001b[0m \u001b[0;34m=\u001b[0m \u001b[0mformat\u001b[0m\u001b[0;34m(\u001b[0m\u001b[0mobj\u001b[0m\u001b[0;34m,\u001b[0m \u001b[0minclude\u001b[0m\u001b[0;34m=\u001b[0m\u001b[0minclude\u001b[0m\u001b[0;34m,\u001b[0m \u001b[0mexclude\u001b[0m\u001b[0;34m=\u001b[0m\u001b[0mexclude\u001b[0m\u001b[0;34m)\u001b[0m\u001b[0;34m\u001b[0m\u001b[0;34m\u001b[0m\u001b[0m\n\u001b[0m\u001b[1;32m    307\u001b[0m             \u001b[0;32mif\u001b[0m \u001b[0;32mnot\u001b[0m \u001b[0mformat_dict\u001b[0m\u001b[0;34m:\u001b[0m\u001b[0;34m\u001b[0m\u001b[0;34m\u001b[0m\u001b[0m\n\u001b[1;32m    308\u001b[0m                 \u001b[0;31m# nothing to display (e.g. _ipython_display_ took over)\u001b[0m\u001b[0;34m\u001b[0m\u001b[0;34m\u001b[0m\u001b[0;34m\u001b[0m\u001b[0m\n",
            "\u001b[0;32m/usr/local/lib/python3.6/dist-packages/IPython/core/formatters.py\u001b[0m in \u001b[0;36mformat\u001b[0;34m(self, obj, include, exclude)\u001b[0m\n\u001b[1;32m    171\u001b[0m             \u001b[0mmd\u001b[0m \u001b[0;34m=\u001b[0m \u001b[0;32mNone\u001b[0m\u001b[0;34m\u001b[0m\u001b[0;34m\u001b[0m\u001b[0m\n\u001b[1;32m    172\u001b[0m             \u001b[0;32mtry\u001b[0m\u001b[0;34m:\u001b[0m\u001b[0;34m\u001b[0m\u001b[0;34m\u001b[0m\u001b[0m\n\u001b[0;32m--> 173\u001b[0;31m                 \u001b[0mdata\u001b[0m \u001b[0;34m=\u001b[0m \u001b[0mformatter\u001b[0m\u001b[0;34m(\u001b[0m\u001b[0mobj\u001b[0m\u001b[0;34m)\u001b[0m\u001b[0;34m\u001b[0m\u001b[0;34m\u001b[0m\u001b[0m\n\u001b[0m\u001b[1;32m    174\u001b[0m             \u001b[0;32mexcept\u001b[0m\u001b[0;34m:\u001b[0m\u001b[0;34m\u001b[0m\u001b[0;34m\u001b[0m\u001b[0m\n\u001b[1;32m    175\u001b[0m                 \u001b[0;31m# FIXME: log the exception\u001b[0m\u001b[0;34m\u001b[0m\u001b[0;34m\u001b[0m\u001b[0;34m\u001b[0m\u001b[0m\n",
            "\u001b[0;32m<decorator-gen-9>\u001b[0m in \u001b[0;36m__call__\u001b[0;34m(self, obj)\u001b[0m\n",
            "\u001b[0;32m/usr/local/lib/python3.6/dist-packages/IPython/core/formatters.py\u001b[0m in \u001b[0;36mcatch_format_error\u001b[0;34m(method, self, *args, **kwargs)\u001b[0m\n\u001b[1;32m    215\u001b[0m     \u001b[0;34m\"\"\"show traceback on failed format call\"\"\"\u001b[0m\u001b[0;34m\u001b[0m\u001b[0;34m\u001b[0m\u001b[0m\n\u001b[1;32m    216\u001b[0m     \u001b[0;32mtry\u001b[0m\u001b[0;34m:\u001b[0m\u001b[0;34m\u001b[0m\u001b[0;34m\u001b[0m\u001b[0m\n\u001b[0;32m--> 217\u001b[0;31m         \u001b[0mr\u001b[0m \u001b[0;34m=\u001b[0m \u001b[0mmethod\u001b[0m\u001b[0;34m(\u001b[0m\u001b[0mself\u001b[0m\u001b[0;34m,\u001b[0m \u001b[0;34m*\u001b[0m\u001b[0margs\u001b[0m\u001b[0;34m,\u001b[0m \u001b[0;34m**\u001b[0m\u001b[0mkwargs\u001b[0m\u001b[0;34m)\u001b[0m\u001b[0;34m\u001b[0m\u001b[0;34m\u001b[0m\u001b[0m\n\u001b[0m\u001b[1;32m    218\u001b[0m     \u001b[0;32mexcept\u001b[0m \u001b[0mNotImplementedError\u001b[0m\u001b[0;34m:\u001b[0m\u001b[0;34m\u001b[0m\u001b[0;34m\u001b[0m\u001b[0m\n\u001b[1;32m    219\u001b[0m         \u001b[0;31m# don't warn on NotImplementedErrors\u001b[0m\u001b[0;34m\u001b[0m\u001b[0;34m\u001b[0m\u001b[0;34m\u001b[0m\u001b[0m\n",
            "\u001b[0;32m/usr/local/lib/python3.6/dist-packages/IPython/core/formatters.py\u001b[0m in \u001b[0;36m__call__\u001b[0;34m(self, obj)\u001b[0m\n\u001b[1;32m    332\u001b[0m                 \u001b[0;32mpass\u001b[0m\u001b[0;34m\u001b[0m\u001b[0;34m\u001b[0m\u001b[0m\n\u001b[1;32m    333\u001b[0m             \u001b[0;32melse\u001b[0m\u001b[0;34m:\u001b[0m\u001b[0;34m\u001b[0m\u001b[0;34m\u001b[0m\u001b[0m\n\u001b[0;32m--> 334\u001b[0;31m                 \u001b[0;32mreturn\u001b[0m \u001b[0mprinter\u001b[0m\u001b[0;34m(\u001b[0m\u001b[0mobj\u001b[0m\u001b[0;34m)\u001b[0m\u001b[0;34m\u001b[0m\u001b[0;34m\u001b[0m\u001b[0m\n\u001b[0m\u001b[1;32m    335\u001b[0m             \u001b[0;31m# Finally look for special method names\u001b[0m\u001b[0;34m\u001b[0m\u001b[0;34m\u001b[0m\u001b[0;34m\u001b[0m\u001b[0m\n\u001b[1;32m    336\u001b[0m             \u001b[0mmethod\u001b[0m \u001b[0;34m=\u001b[0m \u001b[0mget_real_method\u001b[0m\u001b[0;34m(\u001b[0m\u001b[0mobj\u001b[0m\u001b[0;34m,\u001b[0m \u001b[0mself\u001b[0m\u001b[0;34m.\u001b[0m\u001b[0mprint_method\u001b[0m\u001b[0;34m)\u001b[0m\u001b[0;34m\u001b[0m\u001b[0;34m\u001b[0m\u001b[0m\n",
            "\u001b[0;32m/usr/local/lib/python3.6/dist-packages/IPython/core/pylabtools.py\u001b[0m in \u001b[0;36m<lambda>\u001b[0;34m(fig)\u001b[0m\n\u001b[1;32m    239\u001b[0m \u001b[0;34m\u001b[0m\u001b[0m\n\u001b[1;32m    240\u001b[0m     \u001b[0;32mif\u001b[0m \u001b[0;34m'png'\u001b[0m \u001b[0;32min\u001b[0m \u001b[0mformats\u001b[0m\u001b[0;34m:\u001b[0m\u001b[0;34m\u001b[0m\u001b[0;34m\u001b[0m\u001b[0m\n\u001b[0;32m--> 241\u001b[0;31m         \u001b[0mpng_formatter\u001b[0m\u001b[0;34m.\u001b[0m\u001b[0mfor_type\u001b[0m\u001b[0;34m(\u001b[0m\u001b[0mFigure\u001b[0m\u001b[0;34m,\u001b[0m \u001b[0;32mlambda\u001b[0m \u001b[0mfig\u001b[0m\u001b[0;34m:\u001b[0m \u001b[0mprint_figure\u001b[0m\u001b[0;34m(\u001b[0m\u001b[0mfig\u001b[0m\u001b[0;34m,\u001b[0m \u001b[0;34m'png'\u001b[0m\u001b[0;34m,\u001b[0m \u001b[0;34m**\u001b[0m\u001b[0mkwargs\u001b[0m\u001b[0;34m)\u001b[0m\u001b[0;34m)\u001b[0m\u001b[0;34m\u001b[0m\u001b[0;34m\u001b[0m\u001b[0m\n\u001b[0m\u001b[1;32m    242\u001b[0m     \u001b[0;32mif\u001b[0m \u001b[0;34m'retina'\u001b[0m \u001b[0;32min\u001b[0m \u001b[0mformats\u001b[0m \u001b[0;32mor\u001b[0m \u001b[0;34m'png2x'\u001b[0m \u001b[0;32min\u001b[0m \u001b[0mformats\u001b[0m\u001b[0;34m:\u001b[0m\u001b[0;34m\u001b[0m\u001b[0;34m\u001b[0m\u001b[0m\n\u001b[1;32m    243\u001b[0m         \u001b[0mpng_formatter\u001b[0m\u001b[0;34m.\u001b[0m\u001b[0mfor_type\u001b[0m\u001b[0;34m(\u001b[0m\u001b[0mFigure\u001b[0m\u001b[0;34m,\u001b[0m \u001b[0;32mlambda\u001b[0m \u001b[0mfig\u001b[0m\u001b[0;34m:\u001b[0m \u001b[0mretina_figure\u001b[0m\u001b[0;34m(\u001b[0m\u001b[0mfig\u001b[0m\u001b[0;34m,\u001b[0m \u001b[0;34m**\u001b[0m\u001b[0mkwargs\u001b[0m\u001b[0;34m)\u001b[0m\u001b[0;34m)\u001b[0m\u001b[0;34m\u001b[0m\u001b[0;34m\u001b[0m\u001b[0m\n",
            "\u001b[0;32m/usr/local/lib/python3.6/dist-packages/IPython/core/pylabtools.py\u001b[0m in \u001b[0;36mprint_figure\u001b[0;34m(fig, fmt, bbox_inches, **kwargs)\u001b[0m\n\u001b[1;32m    123\u001b[0m \u001b[0;34m\u001b[0m\u001b[0m\n\u001b[1;32m    124\u001b[0m     \u001b[0mbytes_io\u001b[0m \u001b[0;34m=\u001b[0m \u001b[0mBytesIO\u001b[0m\u001b[0;34m(\u001b[0m\u001b[0;34m)\u001b[0m\u001b[0;34m\u001b[0m\u001b[0;34m\u001b[0m\u001b[0m\n\u001b[0;32m--> 125\u001b[0;31m     \u001b[0mfig\u001b[0m\u001b[0;34m.\u001b[0m\u001b[0mcanvas\u001b[0m\u001b[0;34m.\u001b[0m\u001b[0mprint_figure\u001b[0m\u001b[0;34m(\u001b[0m\u001b[0mbytes_io\u001b[0m\u001b[0;34m,\u001b[0m \u001b[0;34m**\u001b[0m\u001b[0mkw\u001b[0m\u001b[0;34m)\u001b[0m\u001b[0;34m\u001b[0m\u001b[0;34m\u001b[0m\u001b[0m\n\u001b[0m\u001b[1;32m    126\u001b[0m     \u001b[0mdata\u001b[0m \u001b[0;34m=\u001b[0m \u001b[0mbytes_io\u001b[0m\u001b[0;34m.\u001b[0m\u001b[0mgetvalue\u001b[0m\u001b[0;34m(\u001b[0m\u001b[0;34m)\u001b[0m\u001b[0;34m\u001b[0m\u001b[0;34m\u001b[0m\u001b[0m\n\u001b[1;32m    127\u001b[0m     \u001b[0;32mif\u001b[0m \u001b[0mfmt\u001b[0m \u001b[0;34m==\u001b[0m \u001b[0;34m'svg'\u001b[0m\u001b[0;34m:\u001b[0m\u001b[0;34m\u001b[0m\u001b[0;34m\u001b[0m\u001b[0m\n",
            "\u001b[0;32m/usr/local/lib/python3.6/dist-packages/matplotlib/backend_bases.py\u001b[0m in \u001b[0;36mprint_figure\u001b[0;34m(self, filename, dpi, facecolor, edgecolor, orientation, format, bbox_inches, **kwargs)\u001b[0m\n\u001b[1;32m   2124\u001b[0m                     \u001b[0morientation\u001b[0m\u001b[0;34m=\u001b[0m\u001b[0morientation\u001b[0m\u001b[0;34m,\u001b[0m\u001b[0;34m\u001b[0m\u001b[0;34m\u001b[0m\u001b[0m\n\u001b[1;32m   2125\u001b[0m                     \u001b[0mbbox_inches_restore\u001b[0m\u001b[0;34m=\u001b[0m\u001b[0m_bbox_inches_restore\u001b[0m\u001b[0;34m,\u001b[0m\u001b[0;34m\u001b[0m\u001b[0;34m\u001b[0m\u001b[0m\n\u001b[0;32m-> 2126\u001b[0;31m                     **kwargs)\n\u001b[0m\u001b[1;32m   2127\u001b[0m             \u001b[0;32mfinally\u001b[0m\u001b[0;34m:\u001b[0m\u001b[0;34m\u001b[0m\u001b[0;34m\u001b[0m\u001b[0m\n\u001b[1;32m   2128\u001b[0m                 \u001b[0;32mif\u001b[0m \u001b[0mbbox_inches\u001b[0m \u001b[0;32mand\u001b[0m \u001b[0mrestore_bbox\u001b[0m\u001b[0;34m:\u001b[0m\u001b[0;34m\u001b[0m\u001b[0;34m\u001b[0m\u001b[0m\n",
            "\u001b[0;32m/usr/local/lib/python3.6/dist-packages/matplotlib/backends/backend_agg.py\u001b[0m in \u001b[0;36mprint_png\u001b[0;34m(self, filename_or_obj, metadata, pil_kwargs, *args, **kwargs)\u001b[0m\n\u001b[1;32m    512\u001b[0m         }\n\u001b[1;32m    513\u001b[0m \u001b[0;34m\u001b[0m\u001b[0m\n\u001b[0;32m--> 514\u001b[0;31m         \u001b[0mFigureCanvasAgg\u001b[0m\u001b[0;34m.\u001b[0m\u001b[0mdraw\u001b[0m\u001b[0;34m(\u001b[0m\u001b[0mself\u001b[0m\u001b[0;34m)\u001b[0m\u001b[0;34m\u001b[0m\u001b[0;34m\u001b[0m\u001b[0m\n\u001b[0m\u001b[1;32m    515\u001b[0m         \u001b[0;32mif\u001b[0m \u001b[0mpil_kwargs\u001b[0m \u001b[0;32mis\u001b[0m \u001b[0;32mnot\u001b[0m \u001b[0;32mNone\u001b[0m\u001b[0;34m:\u001b[0m\u001b[0;34m\u001b[0m\u001b[0;34m\u001b[0m\u001b[0m\n\u001b[1;32m    516\u001b[0m             \u001b[0;32mfrom\u001b[0m \u001b[0mPIL\u001b[0m \u001b[0;32mimport\u001b[0m \u001b[0mImage\u001b[0m\u001b[0;34m\u001b[0m\u001b[0;34m\u001b[0m\u001b[0m\n",
            "\u001b[0;32m/usr/local/lib/python3.6/dist-packages/matplotlib/backends/backend_agg.py\u001b[0m in \u001b[0;36mdraw\u001b[0;34m(self)\u001b[0m\n\u001b[1;32m    391\u001b[0m              (self.toolbar._wait_cursor_for_draw_cm() if self.toolbar\n\u001b[1;32m    392\u001b[0m               else nullcontext()):\n\u001b[0;32m--> 393\u001b[0;31m             \u001b[0mself\u001b[0m\u001b[0;34m.\u001b[0m\u001b[0mfigure\u001b[0m\u001b[0;34m.\u001b[0m\u001b[0mdraw\u001b[0m\u001b[0;34m(\u001b[0m\u001b[0mself\u001b[0m\u001b[0;34m.\u001b[0m\u001b[0mrenderer\u001b[0m\u001b[0;34m)\u001b[0m\u001b[0;34m\u001b[0m\u001b[0;34m\u001b[0m\u001b[0m\n\u001b[0m\u001b[1;32m    394\u001b[0m             \u001b[0;31m# A GUI class may be need to update a window using this draw, so\u001b[0m\u001b[0;34m\u001b[0m\u001b[0;34m\u001b[0m\u001b[0;34m\u001b[0m\u001b[0m\n\u001b[1;32m    395\u001b[0m             \u001b[0;31m# don't forget to call the superclass.\u001b[0m\u001b[0;34m\u001b[0m\u001b[0;34m\u001b[0m\u001b[0;34m\u001b[0m\u001b[0m\n",
            "\u001b[0;32m/usr/local/lib/python3.6/dist-packages/matplotlib/artist.py\u001b[0m in \u001b[0;36mdraw_wrapper\u001b[0;34m(artist, renderer, *args, **kwargs)\u001b[0m\n\u001b[1;32m     36\u001b[0m                 \u001b[0mrenderer\u001b[0m\u001b[0;34m.\u001b[0m\u001b[0mstart_filter\u001b[0m\u001b[0;34m(\u001b[0m\u001b[0;34m)\u001b[0m\u001b[0;34m\u001b[0m\u001b[0;34m\u001b[0m\u001b[0m\n\u001b[1;32m     37\u001b[0m \u001b[0;34m\u001b[0m\u001b[0m\n\u001b[0;32m---> 38\u001b[0;31m             \u001b[0;32mreturn\u001b[0m \u001b[0mdraw\u001b[0m\u001b[0;34m(\u001b[0m\u001b[0martist\u001b[0m\u001b[0;34m,\u001b[0m \u001b[0mrenderer\u001b[0m\u001b[0;34m,\u001b[0m \u001b[0;34m*\u001b[0m\u001b[0margs\u001b[0m\u001b[0;34m,\u001b[0m \u001b[0;34m**\u001b[0m\u001b[0mkwargs\u001b[0m\u001b[0;34m)\u001b[0m\u001b[0;34m\u001b[0m\u001b[0;34m\u001b[0m\u001b[0m\n\u001b[0m\u001b[1;32m     39\u001b[0m         \u001b[0;32mfinally\u001b[0m\u001b[0;34m:\u001b[0m\u001b[0;34m\u001b[0m\u001b[0;34m\u001b[0m\u001b[0m\n\u001b[1;32m     40\u001b[0m             \u001b[0;32mif\u001b[0m \u001b[0martist\u001b[0m\u001b[0;34m.\u001b[0m\u001b[0mget_agg_filter\u001b[0m\u001b[0;34m(\u001b[0m\u001b[0;34m)\u001b[0m \u001b[0;32mis\u001b[0m \u001b[0;32mnot\u001b[0m \u001b[0;32mNone\u001b[0m\u001b[0;34m:\u001b[0m\u001b[0;34m\u001b[0m\u001b[0;34m\u001b[0m\u001b[0m\n",
            "\u001b[0;32m/usr/local/lib/python3.6/dist-packages/matplotlib/figure.py\u001b[0m in \u001b[0;36mdraw\u001b[0;34m(self, renderer)\u001b[0m\n\u001b[1;32m   1734\u001b[0m             \u001b[0mself\u001b[0m\u001b[0;34m.\u001b[0m\u001b[0mpatch\u001b[0m\u001b[0;34m.\u001b[0m\u001b[0mdraw\u001b[0m\u001b[0;34m(\u001b[0m\u001b[0mrenderer\u001b[0m\u001b[0;34m)\u001b[0m\u001b[0;34m\u001b[0m\u001b[0;34m\u001b[0m\u001b[0m\n\u001b[1;32m   1735\u001b[0m             mimage._draw_list_compositing_images(\n\u001b[0;32m-> 1736\u001b[0;31m                 renderer, self, artists, self.suppressComposite)\n\u001b[0m\u001b[1;32m   1737\u001b[0m \u001b[0;34m\u001b[0m\u001b[0m\n\u001b[1;32m   1738\u001b[0m             \u001b[0mrenderer\u001b[0m\u001b[0;34m.\u001b[0m\u001b[0mclose_group\u001b[0m\u001b[0;34m(\u001b[0m\u001b[0;34m'figure'\u001b[0m\u001b[0;34m)\u001b[0m\u001b[0;34m\u001b[0m\u001b[0;34m\u001b[0m\u001b[0m\n",
            "\u001b[0;32m/usr/local/lib/python3.6/dist-packages/matplotlib/image.py\u001b[0m in \u001b[0;36m_draw_list_compositing_images\u001b[0;34m(renderer, parent, artists, suppress_composite)\u001b[0m\n\u001b[1;32m    135\u001b[0m     \u001b[0;32mif\u001b[0m \u001b[0mnot_composite\u001b[0m \u001b[0;32mor\u001b[0m \u001b[0;32mnot\u001b[0m \u001b[0mhas_images\u001b[0m\u001b[0;34m:\u001b[0m\u001b[0;34m\u001b[0m\u001b[0;34m\u001b[0m\u001b[0m\n\u001b[1;32m    136\u001b[0m         \u001b[0;32mfor\u001b[0m \u001b[0ma\u001b[0m \u001b[0;32min\u001b[0m \u001b[0martists\u001b[0m\u001b[0;34m:\u001b[0m\u001b[0;34m\u001b[0m\u001b[0;34m\u001b[0m\u001b[0m\n\u001b[0;32m--> 137\u001b[0;31m             \u001b[0ma\u001b[0m\u001b[0;34m.\u001b[0m\u001b[0mdraw\u001b[0m\u001b[0;34m(\u001b[0m\u001b[0mrenderer\u001b[0m\u001b[0;34m)\u001b[0m\u001b[0;34m\u001b[0m\u001b[0;34m\u001b[0m\u001b[0m\n\u001b[0m\u001b[1;32m    138\u001b[0m     \u001b[0;32melse\u001b[0m\u001b[0;34m:\u001b[0m\u001b[0;34m\u001b[0m\u001b[0;34m\u001b[0m\u001b[0m\n\u001b[1;32m    139\u001b[0m         \u001b[0;31m# Composite any adjacent images together\u001b[0m\u001b[0;34m\u001b[0m\u001b[0;34m\u001b[0m\u001b[0;34m\u001b[0m\u001b[0m\n",
            "\u001b[0;32m/usr/local/lib/python3.6/dist-packages/matplotlib/artist.py\u001b[0m in \u001b[0;36mdraw_wrapper\u001b[0;34m(artist, renderer, *args, **kwargs)\u001b[0m\n\u001b[1;32m     36\u001b[0m                 \u001b[0mrenderer\u001b[0m\u001b[0;34m.\u001b[0m\u001b[0mstart_filter\u001b[0m\u001b[0;34m(\u001b[0m\u001b[0;34m)\u001b[0m\u001b[0;34m\u001b[0m\u001b[0;34m\u001b[0m\u001b[0m\n\u001b[1;32m     37\u001b[0m \u001b[0;34m\u001b[0m\u001b[0m\n\u001b[0;32m---> 38\u001b[0;31m             \u001b[0;32mreturn\u001b[0m \u001b[0mdraw\u001b[0m\u001b[0;34m(\u001b[0m\u001b[0martist\u001b[0m\u001b[0;34m,\u001b[0m \u001b[0mrenderer\u001b[0m\u001b[0;34m,\u001b[0m \u001b[0;34m*\u001b[0m\u001b[0margs\u001b[0m\u001b[0;34m,\u001b[0m \u001b[0;34m**\u001b[0m\u001b[0mkwargs\u001b[0m\u001b[0;34m)\u001b[0m\u001b[0;34m\u001b[0m\u001b[0;34m\u001b[0m\u001b[0m\n\u001b[0m\u001b[1;32m     39\u001b[0m         \u001b[0;32mfinally\u001b[0m\u001b[0;34m:\u001b[0m\u001b[0;34m\u001b[0m\u001b[0;34m\u001b[0m\u001b[0m\n\u001b[1;32m     40\u001b[0m             \u001b[0;32mif\u001b[0m \u001b[0martist\u001b[0m\u001b[0;34m.\u001b[0m\u001b[0mget_agg_filter\u001b[0m\u001b[0;34m(\u001b[0m\u001b[0;34m)\u001b[0m \u001b[0;32mis\u001b[0m \u001b[0;32mnot\u001b[0m \u001b[0;32mNone\u001b[0m\u001b[0;34m:\u001b[0m\u001b[0;34m\u001b[0m\u001b[0;34m\u001b[0m\u001b[0m\n",
            "\u001b[0;32m/usr/local/lib/python3.6/dist-packages/matplotlib/axes/_base.py\u001b[0m in \u001b[0;36mdraw\u001b[0;34m(self, renderer, inframe)\u001b[0m\n\u001b[1;32m   2628\u001b[0m             \u001b[0mrenderer\u001b[0m\u001b[0;34m.\u001b[0m\u001b[0mstop_rasterizing\u001b[0m\u001b[0;34m(\u001b[0m\u001b[0;34m)\u001b[0m\u001b[0;34m\u001b[0m\u001b[0;34m\u001b[0m\u001b[0m\n\u001b[1;32m   2629\u001b[0m \u001b[0;34m\u001b[0m\u001b[0m\n\u001b[0;32m-> 2630\u001b[0;31m         \u001b[0mmimage\u001b[0m\u001b[0;34m.\u001b[0m\u001b[0m_draw_list_compositing_images\u001b[0m\u001b[0;34m(\u001b[0m\u001b[0mrenderer\u001b[0m\u001b[0;34m,\u001b[0m \u001b[0mself\u001b[0m\u001b[0;34m,\u001b[0m \u001b[0martists\u001b[0m\u001b[0;34m)\u001b[0m\u001b[0;34m\u001b[0m\u001b[0;34m\u001b[0m\u001b[0m\n\u001b[0m\u001b[1;32m   2631\u001b[0m \u001b[0;34m\u001b[0m\u001b[0m\n\u001b[1;32m   2632\u001b[0m         \u001b[0mrenderer\u001b[0m\u001b[0;34m.\u001b[0m\u001b[0mclose_group\u001b[0m\u001b[0;34m(\u001b[0m\u001b[0;34m'axes'\u001b[0m\u001b[0;34m)\u001b[0m\u001b[0;34m\u001b[0m\u001b[0;34m\u001b[0m\u001b[0m\n",
            "\u001b[0;32m/usr/local/lib/python3.6/dist-packages/matplotlib/image.py\u001b[0m in \u001b[0;36m_draw_list_compositing_images\u001b[0;34m(renderer, parent, artists, suppress_composite)\u001b[0m\n\u001b[1;32m    135\u001b[0m     \u001b[0;32mif\u001b[0m \u001b[0mnot_composite\u001b[0m \u001b[0;32mor\u001b[0m \u001b[0;32mnot\u001b[0m \u001b[0mhas_images\u001b[0m\u001b[0;34m:\u001b[0m\u001b[0;34m\u001b[0m\u001b[0;34m\u001b[0m\u001b[0m\n\u001b[1;32m    136\u001b[0m         \u001b[0;32mfor\u001b[0m \u001b[0ma\u001b[0m \u001b[0;32min\u001b[0m \u001b[0martists\u001b[0m\u001b[0;34m:\u001b[0m\u001b[0;34m\u001b[0m\u001b[0;34m\u001b[0m\u001b[0m\n\u001b[0;32m--> 137\u001b[0;31m             \u001b[0ma\u001b[0m\u001b[0;34m.\u001b[0m\u001b[0mdraw\u001b[0m\u001b[0;34m(\u001b[0m\u001b[0mrenderer\u001b[0m\u001b[0;34m)\u001b[0m\u001b[0;34m\u001b[0m\u001b[0;34m\u001b[0m\u001b[0m\n\u001b[0m\u001b[1;32m    138\u001b[0m     \u001b[0;32melse\u001b[0m\u001b[0;34m:\u001b[0m\u001b[0;34m\u001b[0m\u001b[0;34m\u001b[0m\u001b[0m\n\u001b[1;32m    139\u001b[0m         \u001b[0;31m# Composite any adjacent images together\u001b[0m\u001b[0;34m\u001b[0m\u001b[0;34m\u001b[0m\u001b[0;34m\u001b[0m\u001b[0m\n",
            "\u001b[0;32m/usr/local/lib/python3.6/dist-packages/matplotlib/artist.py\u001b[0m in \u001b[0;36mdraw_wrapper\u001b[0;34m(artist, renderer, *args, **kwargs)\u001b[0m\n\u001b[1;32m     36\u001b[0m                 \u001b[0mrenderer\u001b[0m\u001b[0;34m.\u001b[0m\u001b[0mstart_filter\u001b[0m\u001b[0;34m(\u001b[0m\u001b[0;34m)\u001b[0m\u001b[0;34m\u001b[0m\u001b[0;34m\u001b[0m\u001b[0m\n\u001b[1;32m     37\u001b[0m \u001b[0;34m\u001b[0m\u001b[0m\n\u001b[0;32m---> 38\u001b[0;31m             \u001b[0;32mreturn\u001b[0m \u001b[0mdraw\u001b[0m\u001b[0;34m(\u001b[0m\u001b[0martist\u001b[0m\u001b[0;34m,\u001b[0m \u001b[0mrenderer\u001b[0m\u001b[0;34m,\u001b[0m \u001b[0;34m*\u001b[0m\u001b[0margs\u001b[0m\u001b[0;34m,\u001b[0m \u001b[0;34m**\u001b[0m\u001b[0mkwargs\u001b[0m\u001b[0;34m)\u001b[0m\u001b[0;34m\u001b[0m\u001b[0;34m\u001b[0m\u001b[0m\n\u001b[0m\u001b[1;32m     39\u001b[0m         \u001b[0;32mfinally\u001b[0m\u001b[0;34m:\u001b[0m\u001b[0;34m\u001b[0m\u001b[0;34m\u001b[0m\u001b[0m\n\u001b[1;32m     40\u001b[0m             \u001b[0;32mif\u001b[0m \u001b[0martist\u001b[0m\u001b[0;34m.\u001b[0m\u001b[0mget_agg_filter\u001b[0m\u001b[0;34m(\u001b[0m\u001b[0;34m)\u001b[0m \u001b[0;32mis\u001b[0m \u001b[0;32mnot\u001b[0m \u001b[0;32mNone\u001b[0m\u001b[0;34m:\u001b[0m\u001b[0;34m\u001b[0m\u001b[0;34m\u001b[0m\u001b[0m\n",
            "\u001b[0;32m/usr/local/lib/python3.6/dist-packages/matplotlib/axis.py\u001b[0m in \u001b[0;36mdraw\u001b[0;34m(self, renderer, *args, **kwargs)\u001b[0m\n\u001b[1;32m   1237\u001b[0m         \u001b[0;31m# the actual bbox\u001b[0m\u001b[0;34m\u001b[0m\u001b[0;34m\u001b[0m\u001b[0;34m\u001b[0m\u001b[0m\n\u001b[1;32m   1238\u001b[0m \u001b[0;34m\u001b[0m\u001b[0m\n\u001b[0;32m-> 1239\u001b[0;31m         \u001b[0mself\u001b[0m\u001b[0;34m.\u001b[0m\u001b[0m_update_label_position\u001b[0m\u001b[0;34m(\u001b[0m\u001b[0mrenderer\u001b[0m\u001b[0;34m)\u001b[0m\u001b[0;34m\u001b[0m\u001b[0;34m\u001b[0m\u001b[0m\n\u001b[0m\u001b[1;32m   1240\u001b[0m \u001b[0;34m\u001b[0m\u001b[0m\n\u001b[1;32m   1241\u001b[0m         \u001b[0mself\u001b[0m\u001b[0;34m.\u001b[0m\u001b[0mlabel\u001b[0m\u001b[0;34m.\u001b[0m\u001b[0mdraw\u001b[0m\u001b[0;34m(\u001b[0m\u001b[0mrenderer\u001b[0m\u001b[0;34m)\u001b[0m\u001b[0;34m\u001b[0m\u001b[0;34m\u001b[0m\u001b[0m\n",
            "\u001b[0;32m/usr/local/lib/python3.6/dist-packages/matplotlib/axis.py\u001b[0m in \u001b[0;36m_update_label_position\u001b[0;34m(self, renderer)\u001b[0m\n\u001b[1;32m   2311\u001b[0m         \u001b[0;31m# get bounding boxes for this axis and any siblings\u001b[0m\u001b[0;34m\u001b[0m\u001b[0;34m\u001b[0m\u001b[0;34m\u001b[0m\u001b[0m\n\u001b[1;32m   2312\u001b[0m         \u001b[0;31m# that have been set by `fig.align_ylabels()`\u001b[0m\u001b[0;34m\u001b[0m\u001b[0;34m\u001b[0m\u001b[0;34m\u001b[0m\u001b[0m\n\u001b[0;32m-> 2313\u001b[0;31m         \u001b[0mbboxes\u001b[0m\u001b[0;34m,\u001b[0m \u001b[0mbboxes2\u001b[0m \u001b[0;34m=\u001b[0m \u001b[0mself\u001b[0m\u001b[0;34m.\u001b[0m\u001b[0m_get_tick_boxes_siblings\u001b[0m\u001b[0;34m(\u001b[0m\u001b[0mrenderer\u001b[0m\u001b[0;34m=\u001b[0m\u001b[0mrenderer\u001b[0m\u001b[0;34m)\u001b[0m\u001b[0;34m\u001b[0m\u001b[0;34m\u001b[0m\u001b[0m\n\u001b[0m\u001b[1;32m   2314\u001b[0m \u001b[0;34m\u001b[0m\u001b[0m\n\u001b[1;32m   2315\u001b[0m         \u001b[0mx\u001b[0m\u001b[0;34m,\u001b[0m \u001b[0my\u001b[0m \u001b[0;34m=\u001b[0m \u001b[0mself\u001b[0m\u001b[0;34m.\u001b[0m\u001b[0mlabel\u001b[0m\u001b[0;34m.\u001b[0m\u001b[0mget_position\u001b[0m\u001b[0;34m(\u001b[0m\u001b[0;34m)\u001b[0m\u001b[0;34m\u001b[0m\u001b[0;34m\u001b[0m\u001b[0m\n",
            "\u001b[0;32m/usr/local/lib/python3.6/dist-packages/matplotlib/axis.py\u001b[0m in \u001b[0;36m_get_tick_boxes_siblings\u001b[0;34m(self, renderer)\u001b[0m\n\u001b[1;32m   2295\u001b[0m         \u001b[0;31m# if we want to align labels from other axes:\u001b[0m\u001b[0;34m\u001b[0m\u001b[0;34m\u001b[0m\u001b[0;34m\u001b[0m\u001b[0m\n\u001b[1;32m   2296\u001b[0m         \u001b[0;32mfor\u001b[0m \u001b[0maxx\u001b[0m \u001b[0;32min\u001b[0m \u001b[0mgrp\u001b[0m\u001b[0;34m.\u001b[0m\u001b[0mget_siblings\u001b[0m\u001b[0;34m(\u001b[0m\u001b[0mself\u001b[0m\u001b[0;34m.\u001b[0m\u001b[0maxes\u001b[0m\u001b[0;34m)\u001b[0m\u001b[0;34m:\u001b[0m\u001b[0;34m\u001b[0m\u001b[0;34m\u001b[0m\u001b[0m\n\u001b[0;32m-> 2297\u001b[0;31m             \u001b[0mticks_to_draw\u001b[0m \u001b[0;34m=\u001b[0m \u001b[0maxx\u001b[0m\u001b[0;34m.\u001b[0m\u001b[0myaxis\u001b[0m\u001b[0;34m.\u001b[0m\u001b[0m_update_ticks\u001b[0m\u001b[0;34m(\u001b[0m\u001b[0;34m)\u001b[0m\u001b[0;34m\u001b[0m\u001b[0;34m\u001b[0m\u001b[0m\n\u001b[0m\u001b[1;32m   2298\u001b[0m             \u001b[0mtlb\u001b[0m\u001b[0;34m,\u001b[0m \u001b[0mtlb2\u001b[0m \u001b[0;34m=\u001b[0m \u001b[0maxx\u001b[0m\u001b[0;34m.\u001b[0m\u001b[0myaxis\u001b[0m\u001b[0;34m.\u001b[0m\u001b[0m_get_tick_bboxes\u001b[0m\u001b[0;34m(\u001b[0m\u001b[0mticks_to_draw\u001b[0m\u001b[0;34m,\u001b[0m \u001b[0mrenderer\u001b[0m\u001b[0;34m)\u001b[0m\u001b[0;34m\u001b[0m\u001b[0;34m\u001b[0m\u001b[0m\n\u001b[1;32m   2299\u001b[0m             \u001b[0mbboxes\u001b[0m\u001b[0;34m.\u001b[0m\u001b[0mextend\u001b[0m\u001b[0;34m(\u001b[0m\u001b[0mtlb\u001b[0m\u001b[0;34m)\u001b[0m\u001b[0;34m\u001b[0m\u001b[0;34m\u001b[0m\u001b[0m\n",
            "\u001b[0;32m/usr/local/lib/python3.6/dist-packages/matplotlib/axis.py\u001b[0m in \u001b[0;36m_update_ticks\u001b[0;34m(self)\u001b[0m\n\u001b[1;32m   1109\u001b[0m             \u001b[0mtick\u001b[0m\u001b[0;34m.\u001b[0m\u001b[0mset_label1\u001b[0m\u001b[0;34m(\u001b[0m\u001b[0mlabel\u001b[0m\u001b[0;34m)\u001b[0m\u001b[0;34m\u001b[0m\u001b[0;34m\u001b[0m\u001b[0m\n\u001b[1;32m   1110\u001b[0m             \u001b[0mtick\u001b[0m\u001b[0;34m.\u001b[0m\u001b[0mset_label2\u001b[0m\u001b[0;34m(\u001b[0m\u001b[0mlabel\u001b[0m\u001b[0;34m)\u001b[0m\u001b[0;34m\u001b[0m\u001b[0;34m\u001b[0m\u001b[0m\n\u001b[0;32m-> 1111\u001b[0;31m         \u001b[0mminor_locs\u001b[0m \u001b[0;34m=\u001b[0m \u001b[0mself\u001b[0m\u001b[0;34m.\u001b[0m\u001b[0mget_minorticklocs\u001b[0m\u001b[0;34m(\u001b[0m\u001b[0;34m)\u001b[0m\u001b[0;34m\u001b[0m\u001b[0;34m\u001b[0m\u001b[0m\n\u001b[0m\u001b[1;32m   1112\u001b[0m         \u001b[0mminor_labels\u001b[0m \u001b[0;34m=\u001b[0m \u001b[0mself\u001b[0m\u001b[0;34m.\u001b[0m\u001b[0mminor\u001b[0m\u001b[0;34m.\u001b[0m\u001b[0mformatter\u001b[0m\u001b[0;34m.\u001b[0m\u001b[0mformat_ticks\u001b[0m\u001b[0;34m(\u001b[0m\u001b[0mminor_locs\u001b[0m\u001b[0;34m)\u001b[0m\u001b[0;34m\u001b[0m\u001b[0;34m\u001b[0m\u001b[0m\n\u001b[1;32m   1113\u001b[0m         \u001b[0mminor_ticks\u001b[0m \u001b[0;34m=\u001b[0m \u001b[0mself\u001b[0m\u001b[0;34m.\u001b[0m\u001b[0mget_minor_ticks\u001b[0m\u001b[0;34m(\u001b[0m\u001b[0mlen\u001b[0m\u001b[0;34m(\u001b[0m\u001b[0mminor_locs\u001b[0m\u001b[0;34m)\u001b[0m\u001b[0;34m)\u001b[0m\u001b[0;34m\u001b[0m\u001b[0;34m\u001b[0m\u001b[0m\n",
            "\u001b[0;32m/usr/local/lib/python3.6/dist-packages/matplotlib/axis.py\u001b[0m in \u001b[0;36mget_minorticklocs\u001b[0;34m(self)\u001b[0m\n\u001b[1;32m   1351\u001b[0m         \u001b[0;34m\"\"\"Get the array of minor tick locations in data coordinates.\"\"\"\u001b[0m\u001b[0;34m\u001b[0m\u001b[0;34m\u001b[0m\u001b[0m\n\u001b[1;32m   1352\u001b[0m         \u001b[0;31m# Remove minor ticks duplicating major ticks.\u001b[0m\u001b[0;34m\u001b[0m\u001b[0;34m\u001b[0m\u001b[0;34m\u001b[0m\u001b[0m\n\u001b[0;32m-> 1353\u001b[0;31m         \u001b[0mmajor_locs\u001b[0m \u001b[0;34m=\u001b[0m \u001b[0mself\u001b[0m\u001b[0;34m.\u001b[0m\u001b[0mmajor\u001b[0m\u001b[0;34m.\u001b[0m\u001b[0mlocator\u001b[0m\u001b[0;34m(\u001b[0m\u001b[0;34m)\u001b[0m\u001b[0;34m\u001b[0m\u001b[0;34m\u001b[0m\u001b[0m\n\u001b[0m\u001b[1;32m   1354\u001b[0m         \u001b[0mminor_locs\u001b[0m \u001b[0;34m=\u001b[0m \u001b[0mself\u001b[0m\u001b[0;34m.\u001b[0m\u001b[0mminor\u001b[0m\u001b[0;34m.\u001b[0m\u001b[0mlocator\u001b[0m\u001b[0;34m(\u001b[0m\u001b[0;34m)\u001b[0m\u001b[0;34m\u001b[0m\u001b[0;34m\u001b[0m\u001b[0m\n\u001b[1;32m   1355\u001b[0m         \u001b[0mtransform\u001b[0m \u001b[0;34m=\u001b[0m \u001b[0mself\u001b[0m\u001b[0;34m.\u001b[0m\u001b[0m_scale\u001b[0m\u001b[0;34m.\u001b[0m\u001b[0mget_transform\u001b[0m\u001b[0;34m(\u001b[0m\u001b[0;34m)\u001b[0m\u001b[0;34m\u001b[0m\u001b[0;34m\u001b[0m\u001b[0m\n",
            "\u001b[0;32m/usr/local/lib/python3.6/dist-packages/matplotlib/ticker.py\u001b[0m in \u001b[0;36m__call__\u001b[0;34m(self)\u001b[0m\n\u001b[1;32m   2201\u001b[0m     \u001b[0;32mdef\u001b[0m \u001b[0m__call__\u001b[0m\u001b[0;34m(\u001b[0m\u001b[0mself\u001b[0m\u001b[0;34m)\u001b[0m\u001b[0;34m:\u001b[0m\u001b[0;34m\u001b[0m\u001b[0;34m\u001b[0m\u001b[0m\n\u001b[1;32m   2202\u001b[0m         \u001b[0mvmin\u001b[0m\u001b[0;34m,\u001b[0m \u001b[0mvmax\u001b[0m \u001b[0;34m=\u001b[0m \u001b[0mself\u001b[0m\u001b[0;34m.\u001b[0m\u001b[0maxis\u001b[0m\u001b[0;34m.\u001b[0m\u001b[0mget_view_interval\u001b[0m\u001b[0;34m(\u001b[0m\u001b[0;34m)\u001b[0m\u001b[0;34m\u001b[0m\u001b[0;34m\u001b[0m\u001b[0m\n\u001b[0;32m-> 2203\u001b[0;31m         \u001b[0;32mreturn\u001b[0m \u001b[0mself\u001b[0m\u001b[0;34m.\u001b[0m\u001b[0mtick_values\u001b[0m\u001b[0;34m(\u001b[0m\u001b[0mvmin\u001b[0m\u001b[0;34m,\u001b[0m \u001b[0mvmax\u001b[0m\u001b[0;34m)\u001b[0m\u001b[0;34m\u001b[0m\u001b[0;34m\u001b[0m\u001b[0m\n\u001b[0m\u001b[1;32m   2204\u001b[0m \u001b[0;34m\u001b[0m\u001b[0m\n\u001b[1;32m   2205\u001b[0m     \u001b[0;32mdef\u001b[0m \u001b[0mtick_values\u001b[0m\u001b[0;34m(\u001b[0m\u001b[0mself\u001b[0m\u001b[0;34m,\u001b[0m \u001b[0mvmin\u001b[0m\u001b[0;34m,\u001b[0m \u001b[0mvmax\u001b[0m\u001b[0;34m)\u001b[0m\u001b[0;34m:\u001b[0m\u001b[0;34m\u001b[0m\u001b[0;34m\u001b[0m\u001b[0m\n",
            "\u001b[0;32m/usr/local/lib/python3.6/dist-packages/matplotlib/ticker.py\u001b[0m in \u001b[0;36mtick_values\u001b[0;34m(self, vmin, vmax)\u001b[0m\n\u001b[1;32m   2209\u001b[0m         vmin, vmax = mtransforms.nonsingular(\n\u001b[1;32m   2210\u001b[0m             vmin, vmax, expander=1e-13, tiny=1e-14)\n\u001b[0;32m-> 2211\u001b[0;31m         \u001b[0mlocs\u001b[0m \u001b[0;34m=\u001b[0m \u001b[0mself\u001b[0m\u001b[0;34m.\u001b[0m\u001b[0m_raw_ticks\u001b[0m\u001b[0;34m(\u001b[0m\u001b[0mvmin\u001b[0m\u001b[0;34m,\u001b[0m \u001b[0mvmax\u001b[0m\u001b[0;34m)\u001b[0m\u001b[0;34m\u001b[0m\u001b[0;34m\u001b[0m\u001b[0m\n\u001b[0m\u001b[1;32m   2212\u001b[0m \u001b[0;34m\u001b[0m\u001b[0m\n\u001b[1;32m   2213\u001b[0m         \u001b[0mprune\u001b[0m \u001b[0;34m=\u001b[0m \u001b[0mself\u001b[0m\u001b[0;34m.\u001b[0m\u001b[0m_prune\u001b[0m\u001b[0;34m\u001b[0m\u001b[0;34m\u001b[0m\u001b[0m\n",
            "\u001b[0;32m/usr/local/lib/python3.6/dist-packages/matplotlib/ticker.py\u001b[0m in \u001b[0;36m_raw_ticks\u001b[0;34m(self, vmin, vmax)\u001b[0m\n\u001b[1;32m   2148\u001b[0m         \u001b[0;32mif\u001b[0m \u001b[0mself\u001b[0m\u001b[0;34m.\u001b[0m\u001b[0m_nbins\u001b[0m \u001b[0;34m==\u001b[0m \u001b[0;34m'auto'\u001b[0m\u001b[0;34m:\u001b[0m\u001b[0;34m\u001b[0m\u001b[0;34m\u001b[0m\u001b[0m\n\u001b[1;32m   2149\u001b[0m             \u001b[0;32mif\u001b[0m \u001b[0mself\u001b[0m\u001b[0;34m.\u001b[0m\u001b[0maxis\u001b[0m \u001b[0;32mis\u001b[0m \u001b[0;32mnot\u001b[0m \u001b[0;32mNone\u001b[0m\u001b[0;34m:\u001b[0m\u001b[0;34m\u001b[0m\u001b[0;34m\u001b[0m\u001b[0m\n\u001b[0;32m-> 2150\u001b[0;31m                 nbins = np.clip(self.axis.get_tick_space(),\n\u001b[0m\u001b[1;32m   2151\u001b[0m                                 max(1, self._min_n_ticks - 1), 9)\n\u001b[1;32m   2152\u001b[0m             \u001b[0;32melse\u001b[0m\u001b[0;34m:\u001b[0m\u001b[0;34m\u001b[0m\u001b[0;34m\u001b[0m\u001b[0m\n",
            "\u001b[0;32m/usr/local/lib/python3.6/dist-packages/matplotlib/axis.py\u001b[0m in \u001b[0;36mget_tick_space\u001b[0;34m(self)\u001b[0m\n\u001b[1;32m   2488\u001b[0m         \u001b[0mends\u001b[0m \u001b[0;34m=\u001b[0m \u001b[0mself\u001b[0m\u001b[0;34m.\u001b[0m\u001b[0maxes\u001b[0m\u001b[0;34m.\u001b[0m\u001b[0mtransAxes\u001b[0m\u001b[0;34m.\u001b[0m\u001b[0mtransform\u001b[0m\u001b[0;34m(\u001b[0m\u001b[0;34m[\u001b[0m\u001b[0;34m[\u001b[0m\u001b[0;36m0\u001b[0m\u001b[0;34m,\u001b[0m \u001b[0;36m0\u001b[0m\u001b[0;34m]\u001b[0m\u001b[0;34m,\u001b[0m \u001b[0;34m[\u001b[0m\u001b[0;36m0\u001b[0m\u001b[0;34m,\u001b[0m \u001b[0;36m1\u001b[0m\u001b[0;34m]\u001b[0m\u001b[0;34m]\u001b[0m\u001b[0;34m)\u001b[0m\u001b[0;34m\u001b[0m\u001b[0;34m\u001b[0m\u001b[0m\n\u001b[1;32m   2489\u001b[0m         \u001b[0mlength\u001b[0m \u001b[0;34m=\u001b[0m \u001b[0;34m(\u001b[0m\u001b[0;34m(\u001b[0m\u001b[0mends\u001b[0m\u001b[0;34m[\u001b[0m\u001b[0;36m1\u001b[0m\u001b[0;34m]\u001b[0m\u001b[0;34m[\u001b[0m\u001b[0;36m1\u001b[0m\u001b[0;34m]\u001b[0m \u001b[0;34m-\u001b[0m \u001b[0mends\u001b[0m\u001b[0;34m[\u001b[0m\u001b[0;36m0\u001b[0m\u001b[0;34m]\u001b[0m\u001b[0;34m[\u001b[0m\u001b[0;36m1\u001b[0m\u001b[0;34m]\u001b[0m\u001b[0;34m)\u001b[0m \u001b[0;34m/\u001b[0m \u001b[0mself\u001b[0m\u001b[0;34m.\u001b[0m\u001b[0maxes\u001b[0m\u001b[0;34m.\u001b[0m\u001b[0mfigure\u001b[0m\u001b[0;34m.\u001b[0m\u001b[0mdpi\u001b[0m\u001b[0;34m)\u001b[0m \u001b[0;34m*\u001b[0m \u001b[0;36m72\u001b[0m\u001b[0;34m\u001b[0m\u001b[0;34m\u001b[0m\u001b[0m\n\u001b[0;32m-> 2490\u001b[0;31m         \u001b[0mtick\u001b[0m \u001b[0;34m=\u001b[0m \u001b[0mself\u001b[0m\u001b[0;34m.\u001b[0m\u001b[0m_get_tick\u001b[0m\u001b[0;34m(\u001b[0m\u001b[0;32mTrue\u001b[0m\u001b[0;34m)\u001b[0m\u001b[0;34m\u001b[0m\u001b[0;34m\u001b[0m\u001b[0m\n\u001b[0m\u001b[1;32m   2491\u001b[0m         \u001b[0;31m# Having a spacing of at least 2 just looks good.\u001b[0m\u001b[0;34m\u001b[0m\u001b[0;34m\u001b[0m\u001b[0;34m\u001b[0m\u001b[0m\n\u001b[1;32m   2492\u001b[0m         \u001b[0msize\u001b[0m \u001b[0;34m=\u001b[0m \u001b[0mtick\u001b[0m\u001b[0;34m.\u001b[0m\u001b[0mlabel1\u001b[0m\u001b[0;34m.\u001b[0m\u001b[0mget_size\u001b[0m\u001b[0;34m(\u001b[0m\u001b[0;34m)\u001b[0m \u001b[0;34m*\u001b[0m \u001b[0;36m2.0\u001b[0m\u001b[0;34m\u001b[0m\u001b[0;34m\u001b[0m\u001b[0m\n",
            "\u001b[0;32m/usr/local/lib/python3.6/dist-packages/matplotlib/axis.py\u001b[0m in \u001b[0;36m_get_tick\u001b[0;34m(self, major)\u001b[0m\n\u001b[1;32m   2228\u001b[0m         \u001b[0;32melse\u001b[0m\u001b[0;34m:\u001b[0m\u001b[0;34m\u001b[0m\u001b[0;34m\u001b[0m\u001b[0m\n\u001b[1;32m   2229\u001b[0m             \u001b[0mtick_kw\u001b[0m \u001b[0;34m=\u001b[0m \u001b[0mself\u001b[0m\u001b[0;34m.\u001b[0m\u001b[0m_minor_tick_kw\u001b[0m\u001b[0;34m\u001b[0m\u001b[0;34m\u001b[0m\u001b[0m\n\u001b[0;32m-> 2230\u001b[0;31m         \u001b[0;32mreturn\u001b[0m \u001b[0mYTick\u001b[0m\u001b[0;34m(\u001b[0m\u001b[0mself\u001b[0m\u001b[0;34m.\u001b[0m\u001b[0maxes\u001b[0m\u001b[0;34m,\u001b[0m \u001b[0;36m0\u001b[0m\u001b[0;34m,\u001b[0m \u001b[0;34m''\u001b[0m\u001b[0;34m,\u001b[0m \u001b[0mmajor\u001b[0m\u001b[0;34m=\u001b[0m\u001b[0mmajor\u001b[0m\u001b[0;34m,\u001b[0m \u001b[0;34m**\u001b[0m\u001b[0mtick_kw\u001b[0m\u001b[0;34m)\u001b[0m\u001b[0;34m\u001b[0m\u001b[0;34m\u001b[0m\u001b[0m\n\u001b[0m\u001b[1;32m   2231\u001b[0m \u001b[0;34m\u001b[0m\u001b[0m\n\u001b[1;32m   2232\u001b[0m     \u001b[0;32mdef\u001b[0m \u001b[0m_get_label\u001b[0m\u001b[0;34m(\u001b[0m\u001b[0mself\u001b[0m\u001b[0;34m)\u001b[0m\u001b[0;34m:\u001b[0m\u001b[0;34m\u001b[0m\u001b[0;34m\u001b[0m\u001b[0m\n",
            "\u001b[0;32m/usr/local/lib/python3.6/dist-packages/matplotlib/axis.py\u001b[0m in \u001b[0;36m__init__\u001b[0;34m(self, axes, loc, label, size, width, color, tickdir, pad, labelsize, labelcolor, zorder, gridOn, tick1On, tick2On, label1On, label2On, major, labelrotation, grid_color, grid_linestyle, grid_linewidth, grid_alpha, **kw)\u001b[0m\n\u001b[1;32m    155\u001b[0m         \u001b[0mself\u001b[0m\u001b[0;34m.\u001b[0m\u001b[0mapply_tickdir\u001b[0m\u001b[0;34m(\u001b[0m\u001b[0mtickdir\u001b[0m\u001b[0;34m)\u001b[0m\u001b[0;34m\u001b[0m\u001b[0;34m\u001b[0m\u001b[0m\n\u001b[1;32m    156\u001b[0m \u001b[0;34m\u001b[0m\u001b[0m\n\u001b[0;32m--> 157\u001b[0;31m         \u001b[0mself\u001b[0m\u001b[0;34m.\u001b[0m\u001b[0mtick1line\u001b[0m \u001b[0;34m=\u001b[0m \u001b[0mself\u001b[0m\u001b[0;34m.\u001b[0m\u001b[0m_get_tick1line\u001b[0m\u001b[0;34m(\u001b[0m\u001b[0;34m)\u001b[0m\u001b[0;34m\u001b[0m\u001b[0;34m\u001b[0m\u001b[0m\n\u001b[0m\u001b[1;32m    158\u001b[0m         \u001b[0mself\u001b[0m\u001b[0;34m.\u001b[0m\u001b[0mtick2line\u001b[0m \u001b[0;34m=\u001b[0m \u001b[0mself\u001b[0m\u001b[0;34m.\u001b[0m\u001b[0m_get_tick2line\u001b[0m\u001b[0;34m(\u001b[0m\u001b[0;34m)\u001b[0m\u001b[0;34m\u001b[0m\u001b[0;34m\u001b[0m\u001b[0m\n\u001b[1;32m    159\u001b[0m         \u001b[0mself\u001b[0m\u001b[0;34m.\u001b[0m\u001b[0mgridline\u001b[0m \u001b[0;34m=\u001b[0m \u001b[0mself\u001b[0m\u001b[0;34m.\u001b[0m\u001b[0m_get_gridline\u001b[0m\u001b[0;34m(\u001b[0m\u001b[0;34m)\u001b[0m\u001b[0;34m\u001b[0m\u001b[0;34m\u001b[0m\u001b[0m\n",
            "\u001b[0;32m/usr/local/lib/python3.6/dist-packages/matplotlib/axis.py\u001b[0m in \u001b[0;36m_get_tick1line\u001b[0;34m(self)\u001b[0m\n\u001b[1;32m    582\u001b[0m                           \u001b[0mmarkersize\u001b[0m\u001b[0;34m=\u001b[0m\u001b[0mself\u001b[0m\u001b[0;34m.\u001b[0m\u001b[0m_size\u001b[0m\u001b[0;34m,\u001b[0m\u001b[0;34m\u001b[0m\u001b[0;34m\u001b[0m\u001b[0m\n\u001b[1;32m    583\u001b[0m                           \u001b[0mmarkeredgewidth\u001b[0m\u001b[0;34m=\u001b[0m\u001b[0mself\u001b[0m\u001b[0;34m.\u001b[0m\u001b[0m_width\u001b[0m\u001b[0;34m,\u001b[0m\u001b[0;34m\u001b[0m\u001b[0;34m\u001b[0m\u001b[0m\n\u001b[0;32m--> 584\u001b[0;31m                           zorder=self._zorder)\n\u001b[0m\u001b[1;32m    585\u001b[0m         \u001b[0ml\u001b[0m\u001b[0;34m.\u001b[0m\u001b[0mset_transform\u001b[0m\u001b[0;34m(\u001b[0m\u001b[0mself\u001b[0m\u001b[0;34m.\u001b[0m\u001b[0maxes\u001b[0m\u001b[0;34m.\u001b[0m\u001b[0mget_yaxis_transform\u001b[0m\u001b[0;34m(\u001b[0m\u001b[0mwhich\u001b[0m\u001b[0;34m=\u001b[0m\u001b[0;34m'tick1'\u001b[0m\u001b[0;34m)\u001b[0m\u001b[0;34m)\u001b[0m\u001b[0;34m\u001b[0m\u001b[0;34m\u001b[0m\u001b[0m\n\u001b[1;32m    586\u001b[0m         \u001b[0mself\u001b[0m\u001b[0;34m.\u001b[0m\u001b[0m_set_artist_props\u001b[0m\u001b[0;34m(\u001b[0m\u001b[0ml\u001b[0m\u001b[0;34m)\u001b[0m\u001b[0;34m\u001b[0m\u001b[0;34m\u001b[0m\u001b[0m\n",
            "\u001b[0;32m/usr/local/lib/python3.6/dist-packages/matplotlib/lines.py\u001b[0m in \u001b[0;36m__init__\u001b[0;34m(self, xdata, ydata, linewidth, linestyle, color, marker, markersize, markeredgewidth, markeredgecolor, markerfacecolor, markerfacecoloralt, fillstyle, antialiased, dash_capstyle, solid_capstyle, dash_joinstyle, solid_joinstyle, pickradius, drawstyle, markevery, **kwargs)\u001b[0m\n\u001b[1;32m    380\u001b[0m         \u001b[0mself\u001b[0m\u001b[0;34m.\u001b[0m\u001b[0m_markevery\u001b[0m \u001b[0;34m=\u001b[0m \u001b[0;32mNone\u001b[0m\u001b[0;34m\u001b[0m\u001b[0;34m\u001b[0m\u001b[0m\n\u001b[1;32m    381\u001b[0m         \u001b[0mself\u001b[0m\u001b[0;34m.\u001b[0m\u001b[0m_markersize\u001b[0m \u001b[0;34m=\u001b[0m \u001b[0;32mNone\u001b[0m\u001b[0;34m\u001b[0m\u001b[0;34m\u001b[0m\u001b[0m\n\u001b[0;32m--> 382\u001b[0;31m         \u001b[0mself\u001b[0m\u001b[0;34m.\u001b[0m\u001b[0m_antialiased\u001b[0m \u001b[0;34m=\u001b[0m \u001b[0;32mNone\u001b[0m\u001b[0;34m\u001b[0m\u001b[0;34m\u001b[0m\u001b[0m\n\u001b[0m\u001b[1;32m    383\u001b[0m \u001b[0;34m\u001b[0m\u001b[0m\n\u001b[1;32m    384\u001b[0m         \u001b[0mself\u001b[0m\u001b[0;34m.\u001b[0m\u001b[0mset_markevery\u001b[0m\u001b[0;34m(\u001b[0m\u001b[0mmarkevery\u001b[0m\u001b[0;34m)\u001b[0m\u001b[0;34m\u001b[0m\u001b[0;34m\u001b[0m\u001b[0m\n",
            "\u001b[0;31mKeyboardInterrupt\u001b[0m: "
          ]
        }
      ]
    },
    {
      "cell_type": "markdown",
      "metadata": {
        "id": "h8YEmKl7wBnA"
      },
      "source": [
        "#### Task 1.1.3\r\n",
        "**problem.**\r\n",
        "$$-3 y^{(4)} + 22 y^{(3)} + 4   \\ddot y + 1.5 \\dot y + 1y  = 15$$\r\n",
        "**solution.**\r\n",
        "$$ \r\n",
        "\\begin{bmatrix}\r\n",
        "\\dot{x_0}\\\\\r\n",
        "\\dot{x_1}\\\\\r\n",
        "\\dot{x_2}\\\\\r\n",
        "\\dot{x_3}\r\n",
        "\\end{bmatrix}=\r\n",
        "\\begin{bmatrix}\r\n",
        "0&1&0&0\\\\\r\n",
        "0&0&1&0\\\\\r\n",
        "0&0&0&1\\\\\r\n",
        "\\frac{1}{3}&\\frac{1}{2}&\\frac{4}{3}&\\frac{22}{3}\r\n",
        "\\end{bmatrix}\r\n",
        "\\begin{bmatrix}\r\n",
        "{x_0}\\\\\r\n",
        "{x_1}\\\\\r\n",
        "{x_2}\\\\\r\n",
        "{x_3}\r\n",
        "\\end{bmatrix}+\r\n",
        "\\begin{bmatrix}\r\n",
        "0\\\\\r\n",
        "0\\\\\r\n",
        "0\\\\\r\n",
        "-5\r\n",
        "\\end{bmatrix}\r\n",
        "$$"
      ]
    },
    {
      "cell_type": "code",
      "metadata": {
        "id": "14T5lYPqwBnf"
      },
      "source": [
        "# importing libraries\r\n",
        "import numpy as np\r\n",
        "from scipy.integrate import odeint\r\n",
        "import matplotlib.pyplot as plt\r\n",
        "\r\n",
        "n = 4 # order of the equation\r\n",
        "A = np.array(\r\n",
        "              [\r\n",
        "              [0,1,0,0],\r\n",
        "              [0,0,1,0],\r\n",
        "              [0,0,0,1],\r\n",
        "              [1/3,1/2,4/3,22/3]\r\n",
        "              ]\r\n",
        "             )\r\n",
        "\r\n",
        "# x_dot from state space\r\n",
        "def StateSpace(x, t):\r\n",
        "    return A.dot(x) + np.array([0,0,0,-5])\r\n",
        "\r\n",
        "# time horizon \r\n",
        "time = np.linspace(0, 1, 1000)   \r\n",
        "x0 = np.array([1,1,1,1])  # initial state\r\n",
        "\r\n",
        "# the solution in the a dictionary form\r\n",
        "solution = {\"SS\": odeint(StateSpace, x0, time)}\r\n",
        "print(x0)\r\n",
        "print(A)\r\n",
        "print(np.shape(solution['SS']))\r\n",
        "plt.plot(time, solution[\"SS\"])\r\n",
        "plt.xlabel('time')\r\n",
        "plt.ylabel('x(t)')\r\n",
        "plt.show()"
      ],
      "execution_count": null,
      "outputs": []
    },
    {
      "cell_type": "code",
      "metadata": {
        "id": "uJUQ7_CKyPDr"
      },
      "source": [
        "# importing libraries\r\n",
        "import numpy as np\r\n",
        "from scipy.integrate import odeint\r\n",
        "import matplotlib.pyplot as plt\r\n",
        "\r\n",
        "n = 4 # order of the equation\r\n",
        "A = np.array(\r\n",
        "              [\r\n",
        "              [0,1,0,0],\r\n",
        "              [0,0,1,0],\r\n",
        "              [0,0,0,1],\r\n",
        "              [1/3,1/2,4/3,22/3]\r\n",
        "              ]\r\n",
        "             )\r\n",
        "\r\n",
        "# x_dot from state space\r\n",
        "def StateSpace(x, t):\r\n",
        "    return A.dot(x) + np.array([0,0,0,-5])\r\n",
        "\r\n",
        "# time horizon \r\n",
        "time = np.linspace(0, 1, 1000)   \r\n",
        "x0 = np.array([1,1,1,1])  # initial state\r\n",
        "\r\n",
        "# the solution in the a dictionary form\r\n",
        "solution = {\"SS\": odeint(StateSpace, x0, time)}\r\n",
        "print(x0)\r\n",
        "print(A)\r\n",
        "print(np.shape(solution['SS']))\r\n",
        "plt.plot(time, solution[\"SS\"])\r\n",
        "plt.xlabel('time')\r\n",
        "plt.ylabel('x(t)')\r\n",
        "plt.show()"
      ],
      "execution_count": null,
      "outputs": []
    },
    {
      "cell_type": "markdown",
      "metadata": {
        "id": "jbfZokNhxU4y"
      },
      "source": [
        "#### Task 1.1.4\r\n",
        "**problem.**\r\n",
        "$$5  y^{(4)} -17 y^{(3)} - 1.5 \\ddot y + 100 \\dot y + 1.1y= 45$$\r\n",
        "**solution.**\r\n",
        "$$ \r\n",
        "\\begin{bmatrix}\r\n",
        "\\dot{x_0}\\\\\r\n",
        "\\dot{x_1}\\\\\r\n",
        "\\dot{x_2}\\\\\r\n",
        "\\dot{x_3}\r\n",
        "\\end{bmatrix}=\r\n",
        "\\begin{bmatrix}\r\n",
        "0&1&0&0\\\\\r\n",
        "0&0&1&0\\\\\r\n",
        "0&0&0&1\\\\\r\n",
        "\\frac{-22}{100}&-20&\\frac{3}{10}&\\frac{17}{5}\r\n",
        "\\end{bmatrix}\r\n",
        "\\begin{bmatrix}\r\n",
        "{x_0}\\\\\r\n",
        "{x_1}\\\\\r\n",
        "{x_2}\\\\\r\n",
        "{x_3}\r\n",
        "\\end{bmatrix}+\r\n",
        "\\begin{bmatrix}\r\n",
        "0\\\\\r\n",
        "0\\\\\r\n",
        "0\\\\\r\n",
        "9\r\n",
        "\\end{bmatrix}\r\n",
        "$$"
      ]
    },
    {
      "cell_type": "code",
      "metadata": {
        "id": "7-rA2t8qxU5N"
      },
      "source": [
        "# importing libraries\r\n",
        "import numpy as np\r\n",
        "from scipy.integrate import odeint\r\n",
        "import matplotlib.pyplot as plt\r\n",
        "\r\n",
        "n = 4 # order of the equation\r\n",
        "A = np.array(\r\n",
        "              [\r\n",
        "              [0,1,0,0],\r\n",
        "              [0,0,1,0],\r\n",
        "              [0,0,0,1],\r\n",
        "              [-22/100,-20,3/10,17/5]\r\n",
        "              ]\r\n",
        "             )\r\n",
        "\r\n",
        "# x_dot from state space\r\n",
        "def StateSpace(x, t):\r\n",
        "    return A.dot(x) + np.array([0,0,0,9])\r\n",
        "\r\n",
        "# time horizon \r\n",
        "time = np.linspace(0, 1, 1000)   \r\n",
        "x0 = np.array([1,1,1,1])  # initial state\r\n",
        "\r\n",
        "# the solution in the a dictionary form\r\n",
        "solution = {\"SS\": odeint(StateSpace, x0, time)}\r\n",
        "print(x0)\r\n",
        "print(A)\r\n",
        "print(np.shape(solution['SS']))\r\n",
        "plt.plot(time, solution[\"SS\"])\r\n",
        "plt.xlabel('time')\r\n",
        "plt.ylabel('x(t)')\r\n",
        "plt.show()"
      ],
      "execution_count": null,
      "outputs": []
    },
    {
      "cell_type": "markdown",
      "metadata": {
        "id": "r1lUVe42yPDb"
      },
      "source": [
        "#### Task 1.1.5\r\n",
        "**problem.**\r\n",
        "$$1.5y^{(4)} -23 y^{(3)} - 2.5 \\ddot y + 0.1 \\dot y + 100y= -10$$\r\n",
        "**solution.**\r\n",
        "$$ \r\n",
        "\\begin{bmatrix}\r\n",
        "\\dot{x_0}\\\\\r\n",
        "\\dot{x_1}\\\\\r\n",
        "\\dot{x_2}\\\\\r\n",
        "\\dot{x_3}\r\n",
        "\\end{bmatrix}=\r\n",
        "\\begin{bmatrix}\r\n",
        "0&1&0&0\\\\\r\n",
        "0&0&1&0\\\\\r\n",
        "0&0&0&1\\\\\r\n",
        "\\frac{-200}{3}&\\frac{-1}{15}&\\frac{5}{3}&\\frac{46}{3}\r\n",
        "\\end{bmatrix}\r\n",
        "\\begin{bmatrix}\r\n",
        "{x_0}\\\\\r\n",
        "{x_1}\\\\\r\n",
        "{x_2}\\\\\r\n",
        "{x_3}\r\n",
        "\\end{bmatrix}+\r\n",
        "\\begin{bmatrix}\r\n",
        "0\\\\\r\n",
        "0\\\\\r\n",
        "0\\\\\r\n",
        "\\frac{-20}{3}\r\n",
        "\\end{bmatrix}\r\n",
        "$$"
      ]
    },
    {
      "cell_type": "code",
      "metadata": {
        "id": "VShrNeg4zhJy"
      },
      "source": [
        "# importing libraries\r\n",
        "import numpy as np\r\n",
        "from scipy.integrate import odeint\r\n",
        "import matplotlib.pyplot as plt\r\n",
        "\r\n",
        "n = 4 # order of the equation\r\n",
        "A = np.array(\r\n",
        "              [\r\n",
        "              [0,1,0,0],\r\n",
        "              [0,0,1,0],\r\n",
        "              [0,0,0,1],\r\n",
        "              [-200/3,-1/15,5/3,46/3]\r\n",
        "              ]\r\n",
        "             )\r\n",
        "\r\n",
        "# x_dot from state space\r\n",
        "def StateSpace(x, t):\r\n",
        "    return A.dot(x) + np.array([0,0,0,-20/3])\r\n",
        "\r\n",
        "# time horizon \r\n",
        "time = np.linspace(0, 1, 1000)   \r\n",
        "x0 = np.array([1,1,1,1])  # initial state\r\n",
        "\r\n",
        "# the solution in the a dictionary form\r\n",
        "solution = {\"SS\": odeint(StateSpace, x0, time)}\r\n",
        "print(x0)\r\n",
        "print(A)\r\n",
        "print(np.shape(solution['SS']))\r\n",
        "plt.plot(time, solution[\"SS\"])\r\n",
        "plt.xlabel('time')\r\n",
        "plt.ylabel('x(t)')\r\n",
        "plt.show()"
      ],
      "execution_count": null,
      "outputs": []
    },
    {
      "cell_type": "markdown",
      "metadata": {
        "id": "rB3kbnPQaKrO"
      },
      "source": [
        "### TASK 1.2"
      ]
    },
    {
      "cell_type": "markdown",
      "metadata": {
        "id": "3hLfQTR70AgV"
      },
      "source": [
        "\r\n",
        "\r\n",
        "Can you convert the following to a second order ODE? if yes show the result, otherwise state why you cannot.\r\n",
        "\r\n",
        "#### Task 1.2.1\r\n",
        "\r\n",
        "**problem**\r\n",
        "$$\\dot X = \r\n",
        "\\begin{bmatrix} 1 & 0 \\\\ -5 & -10\r\n",
        "\\end{bmatrix}\r\n",
        "X\r\n",
        "$$\r\n",
        "**solution**\r\n",
        "$$\\begin{cases}\r\n",
        "\\dot x = x \\\\\r\n",
        "\\ddot x = -5x-10\\dot x \r\n",
        "\\end{cases}$$\r\n",
        "$$\\rightarrow \\ddot x = -5 x  -10 x \\rightarrow \\ddot x  = -15 x$$\r\n",
        "\r\n",
        "#### Task 1.2.2\r\n",
        "\r\n",
        "**problem**\r\n",
        "$$\\dot X = \r\n",
        "\\begin{bmatrix} 0 & 8 \\\\ 1 & 3\r\n",
        "\\end{bmatrix}\r\n",
        "X\r\n",
        "$$\r\n",
        "**solution**\r\n",
        "$$\\begin{cases}\r\n",
        "\\dot x = 8\\dot x \\rightarrow 7 \\dot x = 0 \\rightarrow \\dot x = 0 \\\\\r\n",
        "\\ddot x = x+3 \\dot x  \\rightarrow \\ddot x = x\r\n",
        "\\end{cases}$$\r\n",
        "\r\n",
        "#### Task 1.2.3\r\n",
        "\r\n",
        "**problem**\r\n",
        "$$\\dot X = \r\n",
        "\\begin{bmatrix} 0 & 8 \\\\ 6 & 0\r\n",
        "\\end{bmatrix}\r\n",
        "X\r\n",
        "$$\r\n",
        "**solution**\r\n",
        "$$\\begin{cases}\r\n",
        "\\dot x = 8\\dot x \\rightarrow 7 \\dot x = 0 \\rightarrow \\dot x = 0 \\\\\r\n",
        "\\ddot x = 6x\r\n",
        "\\end{cases}$$\r\n",
        "\r\n",
        "#### Task 1.2.4\r\n",
        "\r\n",
        "**problem**\r\n",
        "$$\\dot X = \r\n",
        "\\begin{bmatrix} 0 & 1 \\\\ 6 & 3\r\n",
        "\\end{bmatrix}\r\n",
        "X\r\n",
        "$$\r\n",
        "**solution**\r\n",
        "$$\\begin{cases}\r\n",
        "\\dot x = \\dot x  \\\\\r\n",
        "\\ddot x = 6 x + 3 \\dot x\r\n",
        "\\end{cases}$$"
      ]
    },
    {
      "cell_type": "markdown",
      "metadata": {
        "id": "hs6VlS9TaQsT"
      },
      "source": [
        "### Task 1.3"
      ]
    },
    {
      "cell_type": "markdown",
      "metadata": {
        "id": "zKwOHIboaZM0"
      },
      "source": [
        "Implement your own integration method that will take the state-space function $\\mathbf{f} = \\frac{d\\mathbf{x}}{dt}$, the time $t$, and the initial state $\\mathbf{x}(0)$ as input and produce the solution $\\mathbf{x}^*(t)$ as output (consider the case when $x$ is a scalar) (You may use [Euler's](https://www.khanacademy.org/math/differential-equations/first-order-differential-equations/eulers-method-tutorial/v/eulers-method?modal=1) or [Runge-Kutta](https://www.youtube.com/watch?v=kUcc8vAgoQ0) integration scheme). solve the first equation from (1.1) using it and show the simulations for both methods (odeint and your implemetation).\r\n",
        "\r\n",
        "\r\n",
        "**problem.**\r\n",
        "$$ 10 y^{(4)} -7  y^{(3)} + 2   \\ddot y + 0.5 \\dot y + 4y  = 15 $$\r\n",
        "**solution.**\r\n",
        "$$ \r\n",
        "\\begin{bmatrix}\r\n",
        "\\dot{x_0}\\\\\r\n",
        "\\dot{x_1}\\\\\r\n",
        "\\dot{x_2}\\\\\r\n",
        "\\dot{x_3}\r\n",
        "\\end{bmatrix}=\r\n",
        "\\begin{bmatrix}\r\n",
        "0&1&0&0\\\\\r\n",
        "0&0&1&0\\\\\r\n",
        "0&0&0&1\\\\\r\n",
        "\\frac{-2}{5}&\\frac{-1}{20}&\\frac{-1}{5}&\\frac{7}{10}\r\n",
        "\\end{bmatrix}\r\n",
        "\\begin{bmatrix}\r\n",
        "{x_0}\\\\\r\n",
        "{x_1}\\\\\r\n",
        "{x_2}\\\\\r\n",
        "{x_3}\r\n",
        "\\end{bmatrix}+\r\n",
        "\\begin{bmatrix}\r\n",
        "0\\\\\r\n",
        "0\\\\\r\n",
        "0\\\\\r\n",
        "\\frac{3}{2}\r\n",
        "\\end{bmatrix}\r\n",
        "$$"
      ]
    },
    {
      "cell_type": "code",
      "metadata": {
        "colab": {
          "base_uri": "https://localhost:8080/",
          "height": 281
        },
        "id": "PFUoZmDW1YkO",
        "outputId": "fe6ed53d-47f8-4061-ec27-04afc52ffa64"
      },
      "source": [
        "import numpy as np\r\n",
        "from scipy.integrate import odeint\r\n",
        "import matplotlib.pyplot as plt\r\n",
        "steps = 5\r\n",
        "n = 4 # order of the equation\r\n",
        "A = np.array(\r\n",
        "              [\r\n",
        "              [0,1,0,0],\r\n",
        "              [0,0,1,0],\r\n",
        "              [0,0,0,1],\r\n",
        "              [-4/10,-0.5/10,-2/10,7/10]\r\n",
        "              ]\r\n",
        "             )\r\n",
        "\r\n",
        "# x_dot from state space\r\n",
        "def StateSpace(x, t):\r\n",
        "    return A.dot(x) + np.array([0,0,0,1.5])\r\n",
        "\r\n",
        "# time horizon \r\n",
        "time = np.linspace(0, 1, steps)   \r\n",
        "x0 = np.array([1,1,1,1])  # initial state\r\n",
        "\r\n",
        "\r\n",
        "\r\n",
        "def euler(x0, d):\r\n",
        "  x = x0 \r\n",
        "  h = 1 / d\r\n",
        "  X = [x]\r\n",
        "  for i in range(d-1):\r\n",
        "    x_n = x + h * StateSpace(x, time[i])\r\n",
        "    X.append(x_n)\r\n",
        "    x = x_n\r\n",
        "  return np.array(X)\r\n",
        "\r\n",
        "\r\n",
        "\r\n",
        "fig, (plt1, plt2) = plt.subplots(1, 2)\r\n",
        "\r\n",
        "\r\n",
        "plt1.title.set_text('STATE-SPACE')\r\n",
        "plt1.plot(time, odeint(StateSpace, x0, time))\r\n",
        "\r\n",
        "plt2.title.set_text('EULER-METHOD')\r\n",
        "plt2.plot(time, euler(x0, steps)) \r\n",
        "\r\n",
        "plt.show()\r\n",
        "'''\r\n",
        "in lower number of sample rate e.g. d=5\r\n",
        "we can clearly see the noticable error of \r\n",
        "Euler method estimation.\r\n",
        "'''"
      ],
      "execution_count": 23,
      "outputs": [
        {
          "output_type": "display_data",
          "data": {
            "image/png": "[encoded data removed]",
            "text/plain": [
              "<Figure size 432x288 with 2 Axes>"
            ]
          },
          "metadata": {
            "tags": [],
            "needs_background": "light"
          }
        }
      ]
    },
    {
      "cell_type": "markdown",
      "metadata": {
        "id": "EcvMkYyWEW7J"
      },
      "source": [
        "## Task 2"
      ]
    },
    {
      "cell_type": "markdown",
      "metadata": {
        "id": "OZQZ8KLLEgNQ"
      },
      "source": [
        "### Task 2.1"
      ]
    },
    {
      "cell_type": "markdown",
      "metadata": {
        "id": "o2DA_PmWEkhh"
      },
      "source": [
        "#### Task 2.1.1\r\n",
        "**problem.**\r\n",
        "$$10 y^{(5)} + 10 y^{(4)} -7  y^{(3)} + 2   \\ddot y + 0.5 \\dot y + 4y  = 0$$\r\n",
        "**solution.**\r\n",
        "$$ \r\n",
        "\\begin{bmatrix}\r\n",
        "\\dot{x_0}\\\\\r\n",
        "\\dot{x_1}\\\\\r\n",
        "\\dot{x_2}\\\\\r\n",
        "\\dot{x_3}\\\\\r\n",
        "\\dot{x_4}\r\n",
        "\\end{bmatrix}=\r\n",
        "\\begin{bmatrix}\r\n",
        "0&1&0&0&0\\\\\r\n",
        "0&0&1&0&0\\\\\r\n",
        "0&0&0&1&0\\\\\r\n",
        "0&0&0&0&1\\\\\r\n",
        "\\frac{-4}{10}&\\frac{-5}{100}&\\frac{-1}{5}&\\frac{7}{10}&-1\r\n",
        "\\end{bmatrix}\r\n",
        "\\begin{bmatrix}\r\n",
        "{x_0}\\\\\r\n",
        "{x_1}\\\\\r\n",
        "{x_2}\\\\\r\n",
        "{x_3}\\\\\r\n",
        "{x_4}\r\n",
        "\\end{bmatrix}\r\n",
        "$$"
      ]
    },
    {
      "cell_type": "code",
      "metadata": {
        "colab": {
          "base_uri": "https://localhost:8080/",
          "height": 414
        },
        "id": "m8iHbqlgGl1v",
        "outputId": "14ed2792-d8ca-4df0-f9d2-459fad9871b0"
      },
      "source": [
        "# importing libraries\r\n",
        "import numpy as np\r\n",
        "from scipy.integrate import odeint\r\n",
        "import matplotlib.pyplot as plt\r\n",
        "\r\n",
        "n = 5 # order of the equation\r\n",
        "A = np.array(\r\n",
        "              [\r\n",
        "              [0,1,0,0,0],\r\n",
        "              [0,0,1,0,0],\r\n",
        "              [0,0,0,1,0],\r\n",
        "              [0,0,0,0,1],\r\n",
        "              [-4/10,-5/100,-1/5,7/10,-1]\r\n",
        "              ]\r\n",
        "             )\r\n",
        "\r\n",
        "# x_dot from state space\r\n",
        "def StateSpace(x, t):\r\n",
        "    return A.dot(x)\r\n",
        "\r\n",
        "# time horizon \r\n",
        "time = np.linspace(0, 100, 1000)   \r\n",
        "x0 = np.array([1,1,1,1,1])  # initial state\r\n",
        "\r\n",
        "# the solution in the a dictionary form\r\n",
        "solution = {\"SS\": odeint(StateSpace, x0, time)}\r\n",
        "print(x0)\r\n",
        "print(A)\r\n",
        "print(np.shape(solution['SS']))\r\n",
        "plt.plot(time, solution[\"SS\"])\r\n",
        "plt.xlabel('time')\r\n",
        "plt.ylabel('x(t)')\r\n",
        "plt.show()"
      ],
      "execution_count": 36,
      "outputs": [
        {
          "output_type": "stream",
          "text": [
            "[1 1 1 1 1]\n",
            "[[ 0.    1.    0.    0.    0.  ]\n",
            " [ 0.    0.    1.    0.    0.  ]\n",
            " [ 0.    0.    0.    1.    0.  ]\n",
            " [ 0.    0.    0.    0.    1.  ]\n",
            " [-0.4  -0.05 -0.2   0.7  -1.  ]]\n",
            "(1000, 5)\n"
          ],
          "name": "stdout"
        },
        {
          "output_type": "display_data",
          "data": {
            "image/png": "[encoded data removed]",
            "text/plain": [
              "<Figure size 432x288 with 1 Axes>"
            ]
          },
          "metadata": {
            "tags": [],
            "needs_background": "light"
          }
        }
      ]
    },
    {
      "cell_type": "markdown",
      "metadata": {
        "id": "XOuiuBNTOc36"
      },
      "source": [
        "#### Task 2.1.2\r\n",
        "**problem.**\r\n",
        "$$1 y^{(5)} + 5  y^{(4)} -17 y^{(3)} - 3   \\ddot y + 1.5 \\dot y + 2y  = 0$$\r\n",
        "**solution.**\r\n",
        "$$ \r\n",
        "\\begin{bmatrix}\r\n",
        "\\dot{x_0}\\\\\r\n",
        "\\dot{x_1}\\\\\r\n",
        "\\dot{x_2}\\\\\r\n",
        "\\dot{x_3}\\\\\r\n",
        "\\dot{x_4}\r\n",
        "\\end{bmatrix}=\r\n",
        "\\begin{bmatrix}\r\n",
        "0&1&0&0&0\\\\\r\n",
        "0&0&1&0&0\\\\\r\n",
        "0&0&0&1&0\\\\\r\n",
        "0&0&0&0&1\\\\\r\n",
        "-2&-1.5&3&17&-5\r\n",
        "\\end{bmatrix}\r\n",
        "\\begin{bmatrix}\r\n",
        "{x_0}\\\\\r\n",
        "{x_1}\\\\\r\n",
        "{x_2}\\\\\r\n",
        "{x_3}\\\\\r\n",
        "{x_4}\r\n",
        "\\end{bmatrix}\r\n",
        "$$"
      ]
    },
    {
      "cell_type": "code",
      "metadata": {
        "colab": {
          "base_uri": "https://localhost:8080/",
          "height": 414
        },
        "id": "Kj_stCm_Oc3-",
        "outputId": "79dc5342-43b3-45c3-bf30-33869c75639d"
      },
      "source": [
        "# importing libraries\r\n",
        "import numpy as np\r\n",
        "from scipy.integrate import odeint\r\n",
        "import matplotlib.pyplot as plt\r\n",
        "\r\n",
        "n = 5 # order of the equation\r\n",
        "A = np.array(\r\n",
        "              [\r\n",
        "              [0,1,0,0,0],\r\n",
        "              [0,0,1,0,0],\r\n",
        "              [0,0,0,1,0],\r\n",
        "              [0,0,0,0,1],\r\n",
        "              [-2,-1.5,3,17,-5]\r\n",
        "              ]\r\n",
        "             )\r\n",
        "\r\n",
        "# x_dot from state space\r\n",
        "def StateSpace(x, t):\r\n",
        "    return A.dot(x)\r\n",
        "\r\n",
        "# time horizon \r\n",
        "time = np.linspace(0, 100, 1000)   \r\n",
        "x0 = np.array([1,1,1,1,1])  # initial state\r\n",
        "\r\n",
        "# the solution in the a dictionary form\r\n",
        "solution = {\"SS\": odeint(StateSpace, x0, time)}\r\n",
        "print(x0)\r\n",
        "print(A)\r\n",
        "print(np.shape(solution['SS']))\r\n",
        "plt.plot(time, solution[\"SS\"])\r\n",
        "plt.xlabel('time')\r\n",
        "plt.ylabel('x(t)')\r\n",
        "plt.show()"
      ],
      "execution_count": 37,
      "outputs": [
        {
          "output_type": "stream",
          "text": [
            "[1 1 1 1 1]\n",
            "[[ 0.   1.   0.   0.   0. ]\n",
            " [ 0.   0.   1.   0.   0. ]\n",
            " [ 0.   0.   0.   1.   0. ]\n",
            " [ 0.   0.   0.   0.   1. ]\n",
            " [-2.  -1.5  3.  17.  -5. ]]\n",
            "(1000, 5)\n"
          ],
          "name": "stdout"
        },
        {
          "output_type": "display_data",
          "data": {
            "image/png": "[encoded data removed]",
            "text/plain": [
              "<Figure size 432x288 with 1 Axes>"
            ]
          },
          "metadata": {
            "tags": [],
            "needs_background": "light"
          }
        }
      ]
    },
    {
      "cell_type": "markdown",
      "metadata": {
        "id": "RhQSRY-COiHZ"
      },
      "source": [
        "#### Task 2.1.3\r\n",
        "**problem.**\r\n",
        "$$6 y^{(5)} -3 y^{(4)} + 22 y^{(3)} + 4   \\ddot y + 1.5 \\dot y + 1y  = 0$$\r\n",
        "**solution.**\r\n",
        "$$ \r\n",
        "\\begin{bmatrix}\r\n",
        "\\dot{x_0}\\\\\r\n",
        "\\dot{x_1}\\\\\r\n",
        "\\dot{x_2}\\\\\r\n",
        "\\dot{x_3}\\\\\r\n",
        "\\dot{x_4}\r\n",
        "\\end{bmatrix}=\r\n",
        "\\begin{bmatrix}\r\n",
        "0&1&0&0&0\\\\\r\n",
        "0&0&1&0&0\\\\\r\n",
        "0&0&0&1&0\\\\\r\n",
        "0&0&0&0&1\\\\\r\n",
        "\\frac{-1}{6}&\\frac{-1}{4}&\\frac{-2}{3}&\\frac{-11}{3}&\\frac{1}{2}\r\n",
        "\\end{bmatrix}\r\n",
        "\\begin{bmatrix}\r\n",
        "{x_0}\\\\\r\n",
        "{x_1}\\\\\r\n",
        "{x_2}\\\\\r\n",
        "{x_3}\\\\\r\n",
        "{x_4}\r\n",
        "\\end{bmatrix}\r\n",
        "$$"
      ]
    },
    {
      "cell_type": "code",
      "metadata": {
        "colab": {
          "base_uri": "https://localhost:8080/",
          "height": 414
        },
        "id": "XZ3-IT1MOiHZ",
        "outputId": "83db3dc2-4a5e-4d0f-abd6-6571ece0848a"
      },
      "source": [
        "# importing libraries\r\n",
        "import numpy as np\r\n",
        "from scipy.integrate import odeint\r\n",
        "import matplotlib.pyplot as plt\r\n",
        "\r\n",
        "n = 5 # order of the equation\r\n",
        "A = np.array(\r\n",
        "              [\r\n",
        "              [0,1,0,0,0],\r\n",
        "              [0,0,1,0,0],\r\n",
        "              [0,0,0,1,0],\r\n",
        "              [0,0,0,0,1],\r\n",
        "              [-1/6,-1/4,-2/3,-11/3,1/2]\r\n",
        "              ]\r\n",
        "             )\r\n",
        "\r\n",
        "# x_dot from state space\r\n",
        "def StateSpace(x, t):\r\n",
        "    return A.dot(x)\r\n",
        "\r\n",
        "# time horizon \r\n",
        "time = np.linspace(0, 100, 1000)   \r\n",
        "x0 = np.array([1,1,1,1,1])  # initial state\r\n",
        "\r\n",
        "# the solution in the a dictionary form\r\n",
        "solution = {\"SS\": odeint(StateSpace, x0, time)}\r\n",
        "print(x0)\r\n",
        "print(A)\r\n",
        "print(np.shape(solution['SS']))\r\n",
        "plt.plot(time, solution[\"SS\"])\r\n",
        "plt.xlabel('time')\r\n",
        "plt.ylabel('x(t)')\r\n",
        "plt.show()"
      ],
      "execution_count": 38,
      "outputs": [
        {
          "output_type": "stream",
          "text": [
            "[1 1 1 1 1]\n",
            "[[ 0.          1.          0.          0.          0.        ]\n",
            " [ 0.          0.          1.          0.          0.        ]\n",
            " [ 0.          0.          0.          1.          0.        ]\n",
            " [ 0.          0.          0.          0.          1.        ]\n",
            " [-0.16666667 -0.25       -0.66666667 -3.66666667  0.5       ]]\n",
            "(1000, 5)\n"
          ],
          "name": "stdout"
        },
        {
          "output_type": "display_data",
          "data": {
            "image/png": "[encoded data removed]",
            "text/plain": [
              "<Figure size 432x288 with 1 Axes>"
            ]
          },
          "metadata": {
            "tags": [],
            "needs_background": "light"
          }
        }
      ]
    },
    {
      "cell_type": "markdown",
      "metadata": {
        "id": "VxF3IPPPOimS"
      },
      "source": [
        "#### Task 2.1.4\r\n",
        "**problem.**\r\n",
        "$$22 y^{(5)} + 5  y^{(4)} -17 y^{(3)} - 1.5 \\ddot y + 100 \\dot y + 1.1y= 0$$\r\n",
        "**solution.**\r\n",
        "$$ \r\n",
        "\\begin{bmatrix}\r\n",
        "\\dot{x_0}\\\\\r\n",
        "\\dot{x_1}\\\\\r\n",
        "\\dot{x_2}\\\\\r\n",
        "\\dot{x_3}\\\\\r\n",
        "\\dot{x_4}\r\n",
        "\\end{bmatrix}=\r\n",
        "\\begin{bmatrix}\r\n",
        "0&1&0&0&0\\\\\r\n",
        "0&0&1&0&0\\\\\r\n",
        "0&0&0&1&0\\\\\r\n",
        "0&0&0&0&1\\\\\r\n",
        "\\frac{-1}{20}&\\frac{-50}{11}&\\frac{3}{44}&\\frac{17}{22}&\\frac{-5}{22}\r\n",
        "\\end{bmatrix}\r\n",
        "\\begin{bmatrix}\r\n",
        "{x_0}\\\\\r\n",
        "{x_1}\\\\\r\n",
        "{x_2}\\\\\r\n",
        "{x_3}\\\\\r\n",
        "{x_4}\r\n",
        "\\end{bmatrix}\r\n",
        "$$"
      ]
    },
    {
      "cell_type": "code",
      "metadata": {
        "colab": {
          "base_uri": "https://localhost:8080/",
          "height": 414
        },
        "id": "F16Q_GFFOimT",
        "outputId": "96d7269f-af9a-44a4-966c-320b71069fac"
      },
      "source": [
        "# importing libraries\r\n",
        "import numpy as np\r\n",
        "from scipy.integrate import odeint\r\n",
        "import matplotlib.pyplot as plt\r\n",
        "\r\n",
        "n = 5 # order of the equation\r\n",
        "A = np.array(\r\n",
        "              [\r\n",
        "              [0,1,0,0,0],\r\n",
        "              [0,0,1,0,0],\r\n",
        "              [0,0,0,1,0],\r\n",
        "              [0,0,0,0,1],\r\n",
        "              [-1/20,-50/11,3/44,17/22,-5/22]\r\n",
        "              ]\r\n",
        "             )\r\n",
        "\r\n",
        "# x_dot from state space\r\n",
        "def StateSpace(x, t):\r\n",
        "    return A.dot(x)\r\n",
        "\r\n",
        "# time horizon \r\n",
        "time = np.linspace(0, 100, 1000)   \r\n",
        "x0 = np.array([1,1,1,1,1])  # initial state\r\n",
        "\r\n",
        "# the solution in the a dictionary form\r\n",
        "solution = {\"SS\": odeint(StateSpace, x0, time)}\r\n",
        "print(x0)\r\n",
        "print(A)\r\n",
        "print(np.shape(solution['SS']))\r\n",
        "plt.plot(time, solution[\"SS\"])\r\n",
        "plt.xlabel('time')\r\n",
        "plt.ylabel('x(t)')\r\n",
        "plt.show()"
      ],
      "execution_count": 42,
      "outputs": [
        {
          "output_type": "stream",
          "text": [
            "[1 1 1 1 1]\n",
            "[[ 0.          1.          0.          0.          0.        ]\n",
            " [ 0.          0.          1.          0.          0.        ]\n",
            " [ 0.          0.          0.          1.          0.        ]\n",
            " [ 0.          0.          0.          0.          1.        ]\n",
            " [-0.05       -4.54545455  0.06818182  0.77272727 -0.22727273]]\n",
            "(1000, 5)\n"
          ],
          "name": "stdout"
        },
        {
          "output_type": "display_data",
          "data": {
            "image/png": "[encoded data removed]",
            "text/plain": [
              "<Figure size 432x288 with 1 Axes>"
            ]
          },
          "metadata": {
            "tags": [],
            "needs_background": "light"
          }
        }
      ]
    },
    {
      "cell_type": "markdown",
      "metadata": {
        "id": "iRk81YjxOi0X"
      },
      "source": [
        "#### Task 2.1.5\r\n",
        "**problem.**\r\n",
        "$$-10 y^{(5)} + 1.5y^{(4)} -23 y^{(3)} - 2.5 \\ddot y + 0.1 \\dot y + 100y= 0$$\r\n",
        "**solution.**\r\n",
        "$$ \r\n",
        "\\begin{bmatrix}\r\n",
        "\\dot{x_0}\\\\\r\n",
        "\\dot{x_1}\\\\\r\n",
        "\\dot{x_2}\\\\\r\n",
        "\\dot{x_3}\\\\\r\n",
        "\\dot{x_4}\r\n",
        "\\end{bmatrix}=\r\n",
        "\\begin{bmatrix}\r\n",
        "0&1&0&0&0\\\\\r\n",
        "0&0&1&0&0\\\\\r\n",
        "0&0&0&1&0\\\\\r\n",
        "0&0&0&0&1\\\\\r\n",
        "10&\\frac{1}{100}&\\frac{-1}{4}&\\frac{-23}{10}&0.15\r\n",
        "\\end{bmatrix}\r\n",
        "\\begin{bmatrix}\r\n",
        "{x_0}\\\\\r\n",
        "{x_1}\\\\\r\n",
        "{x_2}\\\\\r\n",
        "{x_3}\\\\\r\n",
        "{x_4}\r\n",
        "\\end{bmatrix}\r\n",
        "$$"
      ]
    },
    {
      "cell_type": "code",
      "metadata": {
        "colab": {
          "base_uri": "https://localhost:8080/",
          "height": 414
        },
        "id": "sfL-X76NOi0X",
        "outputId": "540e9c41-228c-41b1-ba5a-1e3f45903ae5"
      },
      "source": [
        "# importing libraries\r\n",
        "import numpy as np\r\n",
        "from scipy.integrate import odeint\r\n",
        "import matplotlib.pyplot as plt\r\n",
        "\r\n",
        "n = 5 # order of the equation\r\n",
        "A = np.array(\r\n",
        "              [\r\n",
        "              [0,1,0,0,0],\r\n",
        "              [0,0,1,0,0],\r\n",
        "              [0,0,0,1,0],\r\n",
        "              [0,0,0,0,1],\r\n",
        "              [10,0.01,-1/4,-23/10,0.15]\r\n",
        "              ]\r\n",
        "             )\r\n",
        "\r\n",
        "# x_dot from state space\r\n",
        "def StateSpace(x, t):\r\n",
        "    return A.dot(x)\r\n",
        "\r\n",
        "# time horizon \r\n",
        "time = np.linspace(0, 100, 1000)   \r\n",
        "x0 = np.array([1,1,1,1,1])  # initial state\r\n",
        "\r\n",
        "# the solution in the a dictionary form\r\n",
        "solution = {\"SS\": odeint(StateSpace, x0, time)}\r\n",
        "print(x0)\r\n",
        "print(A)\r\n",
        "print(np.shape(solution['SS']))\r\n",
        "plt.plot(time, solution[\"SS\"])\r\n",
        "plt.xlabel('time')\r\n",
        "plt.ylabel('x(t)')\r\n",
        "plt.show()"
      ],
      "execution_count": 40,
      "outputs": [
        {
          "output_type": "stream",
          "text": [
            "[1 1 1 1 1]\n",
            "[[ 0.    1.    0.    0.    0.  ]\n",
            " [ 0.    0.    1.    0.    0.  ]\n",
            " [ 0.    0.    0.    1.    0.  ]\n",
            " [ 0.    0.    0.    0.    1.  ]\n",
            " [10.    0.01 -0.25 -2.3   0.15]]\n",
            "(1000, 5)\n"
          ],
          "name": "stdout"
        },
        {
          "output_type": "display_data",
          "data": {
            "image/png": "[encoded data removed]",
            "text/plain": [
              "<Figure size 432x288 with 1 Axes>"
            ]
          },
          "metadata": {
            "tags": [],
            "needs_background": "light"
          }
        }
      ]
    },
    {
      "cell_type": "markdown",
      "metadata": {
        "id": "7y7vitk9UxcV"
      },
      "source": [
        "### Task 2.2"
      ]
    },
    {
      "cell_type": "markdown",
      "metadata": {
        "id": "QE1xw2VNUxc4"
      },
      "source": [
        "#### Task 2.2.1\r\n",
        "**problem.**\r\n",
        "$$10 y^{(5)} + 10 y^{(4)} -7  y^{(3)} + 2   \\ddot y + 0.5 \\dot y + 4y  = sin(t)$$\r\n",
        "**solution.**\r\n",
        "$$ \r\n",
        "\\begin{bmatrix}\r\n",
        "\\dot{x_0}\\\\\r\n",
        "\\dot{x_1}\\\\\r\n",
        "\\dot{x_2}\\\\\r\n",
        "\\dot{x_3}\\\\\r\n",
        "\\dot{x_4}\r\n",
        "\\end{bmatrix}=\r\n",
        "\\begin{bmatrix}\r\n",
        "0&1&0&0&0\\\\\r\n",
        "0&0&1&0&0\\\\\r\n",
        "0&0&0&1&0\\\\\r\n",
        "0&0&0&0&1\\\\\r\n",
        "\\frac{-4}{10}&\\frac{-5}{100}&\\frac{-1}{5}&\\frac{7}{10}&-1\r\n",
        "\\end{bmatrix}\r\n",
        "\\begin{bmatrix}\r\n",
        "{x_0}\\\\\r\n",
        "{x_1}\\\\\r\n",
        "{x_2}\\\\\r\n",
        "{x_3}\\\\\r\n",
        "{x_4}\r\n",
        "\\end{bmatrix}+\r\n",
        "\\begin{bmatrix}\r\n",
        "0\\\\\r\n",
        "0\\\\\r\n",
        "0\\\\\r\n",
        "0\\\\\r\n",
        "1\r\n",
        "\\end{bmatrix}\r\n",
        "sin(t)\r\n",
        "$$"
      ]
    },
    {
      "cell_type": "code",
      "metadata": {
        "colab": {
          "base_uri": "https://localhost:8080/",
          "height": 403
        },
        "id": "xs61XJRlUxc6",
        "outputId": "0427ba80-3bd7-4afa-d31e-6dad43d8a402"
      },
      "source": [
        "# importing libraries\r\n",
        "import numpy as np\r\n",
        "from scipy.integrate import odeint\r\n",
        "import matplotlib.pyplot as plt\r\n",
        "\r\n",
        "n = 5 # order of the equation\r\n",
        "A = np.array(\r\n",
        "              [\r\n",
        "              [0,1,0,0,0],\r\n",
        "              [0,0,1,0,0],\r\n",
        "              [0,0,0,1,0],\r\n",
        "              [0,0,0,0,1],\r\n",
        "              [-4/10,-5/100,-1/5,7/10,-1]\r\n",
        "              ]\r\n",
        "             )\r\n",
        "\r\n",
        "# x_dot from state space\r\n",
        "def StateSpace(x, t):\r\n",
        "    return A.dot(x)+np.array([0,0,0,0,np.sin(t)])\r\n",
        "\r\n",
        "# time horizon \r\n",
        "time = np.linspace(0, 10, 1000)   \r\n",
        "x0 = np.array([1,1,1,1,1])  # initial state\r\n",
        "\r\n",
        "# the solution in the a dictionary form\r\n",
        "solution = {\"SS\": odeint(StateSpace, x0, time)}\r\n",
        "print(x0)\r\n",
        "print(A)\r\n",
        "print(np.shape(solution['SS']))\r\n",
        "plt.plot(time, solution[\"SS\"])\r\n",
        "plt.xlabel('time')\r\n",
        "plt.ylabel('x(t)')\r\n",
        "plt.show()"
      ],
      "execution_count": 55,
      "outputs": [
        {
          "output_type": "stream",
          "text": [
            "[1 1 1 1 1]\n",
            "[[ 0.    1.    0.    0.    0.  ]\n",
            " [ 0.    0.    1.    0.    0.  ]\n",
            " [ 0.    0.    0.    1.    0.  ]\n",
            " [ 0.    0.    0.    0.    1.  ]\n",
            " [-0.4  -0.05 -0.2   0.7  -1.  ]]\n",
            "(1000, 5)\n"
          ],
          "name": "stdout"
        },
        {
          "output_type": "display_data",
          "data": {
            "image/png": "[encoded data removed]",
            "text/plain": [
              "<Figure size 432x288 with 1 Axes>"
            ]
          },
          "metadata": {
            "tags": [],
            "needs_background": "light"
          }
        }
      ]
    },
    {
      "cell_type": "markdown",
      "metadata": {
        "id": "Prn_kABCUxdB"
      },
      "source": [
        "#### Task 2.2.2\r\n",
        "**problem.**\r\n",
        "$$1 y^{(5)} + 5  y^{(4)} -17 y^{(3)} - 3   \\ddot y + 1.5 \\dot y + 2y  = sin(t)$$\r\n",
        "**solution.**\r\n",
        "$$ \r\n",
        "\\begin{bmatrix}\r\n",
        "\\dot{x_0}\\\\\r\n",
        "\\dot{x_1}\\\\\r\n",
        "\\dot{x_2}\\\\\r\n",
        "\\dot{x_3}\\\\\r\n",
        "\\dot{x_4}\r\n",
        "\\end{bmatrix}=\r\n",
        "\\begin{bmatrix}\r\n",
        "0&1&0&0&0\\\\\r\n",
        "0&0&1&0&0\\\\\r\n",
        "0&0&0&1&0\\\\\r\n",
        "0&0&0&0&1\\\\\r\n",
        "-2&-1.5&3&17&-5\r\n",
        "\\end{bmatrix}\r\n",
        "\\begin{bmatrix}\r\n",
        "{x_0}\\\\\r\n",
        "{x_1}\\\\\r\n",
        "{x_2}\\\\\r\n",
        "{x_3}\\\\\r\n",
        "{x_4}\r\n",
        "\\end{bmatrix}\r\n",
        "+\r\n",
        "\\begin{bmatrix}\r\n",
        "0\\\\\r\n",
        "0\\\\\r\n",
        "0\\\\\r\n",
        "0\\\\\r\n",
        "1\r\n",
        "\\end{bmatrix}\r\n",
        "sin(t)\r\n",
        "$$"
      ]
    },
    {
      "cell_type": "code",
      "metadata": {
        "colab": {
          "base_uri": "https://localhost:8080/",
          "height": 414
        },
        "id": "-LkOtXNUUxdC",
        "outputId": "6f7a76e5-c694-42d5-f8cd-691461401849"
      },
      "source": [
        "# importing libraries\r\n",
        "import numpy as np\r\n",
        "from scipy.integrate import odeint\r\n",
        "import matplotlib.pyplot as plt\r\n",
        "\r\n",
        "n = 5 # order of the equation\r\n",
        "A = np.array(\r\n",
        "              [\r\n",
        "              [0,1,0,0,0],\r\n",
        "              [0,0,1,0,0],\r\n",
        "              [0,0,0,1,0],\r\n",
        "              [0,0,0,0,1],\r\n",
        "              [-2,-1.5,3,17,-5]\r\n",
        "              ]\r\n",
        "             )\r\n",
        "\r\n",
        "# x_dot from state space\r\n",
        "def StateSpace(x, t):\r\n",
        "    return A.dot(x)+np.array([0,0,0,0,np.sin(t)])\r\n",
        "\r\n",
        "# time horizon \r\n",
        "time = np.linspace(0, 10, 1000)   \r\n",
        "x0 = np.array([1,1,1,1,1])  # initial state\r\n",
        "\r\n",
        "# the solution in the a dictionary form\r\n",
        "solution = {\"SS\": odeint(StateSpace, x0, time)}\r\n",
        "print(x0)\r\n",
        "print(A)\r\n",
        "print(np.shape(solution['SS']))\r\n",
        "plt.plot(time, solution[\"SS\"])\r\n",
        "plt.xlabel('time')\r\n",
        "plt.ylabel('x(t)')\r\n",
        "plt.show()"
      ],
      "execution_count": 49,
      "outputs": [
        {
          "output_type": "stream",
          "text": [
            "[1 1 1 1 1]\n",
            "[[ 0.   1.   0.   0.   0. ]\n",
            " [ 0.   0.   1.   0.   0. ]\n",
            " [ 0.   0.   0.   1.   0. ]\n",
            " [ 0.   0.   0.   0.   1. ]\n",
            " [-2.  -1.5  3.  17.  -5. ]]\n",
            "(1000, 5)\n"
          ],
          "name": "stdout"
        },
        {
          "output_type": "display_data",
          "data": {
            "image/png": "[encoded data removed]",
            "text/plain": [
              "<Figure size 432x288 with 1 Axes>"
            ]
          },
          "metadata": {
            "tags": [],
            "needs_background": "light"
          }
        }
      ]
    },
    {
      "cell_type": "markdown",
      "metadata": {
        "id": "VyHdqeg_UxdD"
      },
      "source": [
        "#### Task 2.2.3\r\n",
        "**problem.**\r\n",
        "$$6 y^{(5)} -3 y^{(4)} + 22 y^{(3)} + 4   \\ddot y + 1.5 \\dot y + 1y  = sin(t)$$\r\n",
        "**solution.**\r\n",
        "$$ \r\n",
        "\\begin{bmatrix}\r\n",
        "\\dot{x_0}\\\\\r\n",
        "\\dot{x_1}\\\\\r\n",
        "\\dot{x_2}\\\\\r\n",
        "\\dot{x_3}\\\\\r\n",
        "\\dot{x_4}\r\n",
        "\\end{bmatrix}=\r\n",
        "\\begin{bmatrix}\r\n",
        "0&1&0&0&0\\\\\r\n",
        "0&0&1&0&0\\\\\r\n",
        "0&0&0&1&0\\\\\r\n",
        "0&0&0&0&1\\\\\r\n",
        "\\frac{-1}{6}&\\frac{-1}{4}&\\frac{-2}{3}&\\frac{-11}{3}&\\frac{1}{2}\r\n",
        "\\end{bmatrix}\r\n",
        "\\begin{bmatrix}\r\n",
        "{x_0}\\\\\r\n",
        "{x_1}\\\\\r\n",
        "{x_2}\\\\\r\n",
        "{x_3}\\\\\r\n",
        "{x_4}\r\n",
        "\\end{bmatrix}\r\n",
        "+\r\n",
        "\\begin{bmatrix}\r\n",
        "0\\\\\r\n",
        "0\\\\\r\n",
        "0\\\\\r\n",
        "0\\\\\r\n",
        "1\r\n",
        "\\end{bmatrix}\r\n",
        "sin(t)\r\n",
        "$$"
      ]
    },
    {
      "cell_type": "code",
      "metadata": {
        "colab": {
          "base_uri": "https://localhost:8080/",
          "height": 403
        },
        "id": "yJlQQuJ4UxdE",
        "outputId": "f922bbf9-8458-414e-fcc9-408386015984"
      },
      "source": [
        "# importing libraries\r\n",
        "import numpy as np\r\n",
        "from scipy.integrate import odeint\r\n",
        "import matplotlib.pyplot as plt\r\n",
        "\r\n",
        "n = 5 # order of the equation\r\n",
        "A = np.array(\r\n",
        "              [\r\n",
        "              [0,1,0,0,0],\r\n",
        "              [0,0,1,0,0],\r\n",
        "              [0,0,0,1,0],\r\n",
        "              [0,0,0,0,1],\r\n",
        "              [-1/6,-1/4,-2/3,-11/3,1/2]\r\n",
        "              ]\r\n",
        "             )\r\n",
        "\r\n",
        "# x_dot from state space\r\n",
        "def StateSpace(x, t):\r\n",
        "    return A.dot(x)+np.array([0,0,0,0,np.sin(t)])\r\n",
        "\r\n",
        "# time horizon \r\n",
        "time = np.linspace(0, 10, 1000)   \r\n",
        "x0 = np.array([1,1,1,1,1])  # initial state\r\n",
        "\r\n",
        "# the solution in the a dictionary form\r\n",
        "solution = {\"SS\": odeint(StateSpace, x0, time)}\r\n",
        "print(x0)\r\n",
        "print(A)\r\n",
        "print(np.shape(solution['SS']))\r\n",
        "plt.plot(time, solution[\"SS\"])\r\n",
        "plt.xlabel('time')\r\n",
        "plt.ylabel('x(t)')\r\n",
        "plt.show()"
      ],
      "execution_count": 56,
      "outputs": [
        {
          "output_type": "stream",
          "text": [
            "[1 1 1 1 1]\n",
            "[[ 0.          1.          0.          0.          0.        ]\n",
            " [ 0.          0.          1.          0.          0.        ]\n",
            " [ 0.          0.          0.          1.          0.        ]\n",
            " [ 0.          0.          0.          0.          1.        ]\n",
            " [-0.16666667 -0.25       -0.66666667 -3.66666667  0.5       ]]\n",
            "(1000, 5)\n"
          ],
          "name": "stdout"
        },
        {
          "output_type": "display_data",
          "data": {
            "image/png": "[encoded data removed]",
            "text/plain": [
              "<Figure size 432x288 with 1 Axes>"
            ]
          },
          "metadata": {
            "tags": [],
            "needs_background": "light"
          }
        }
      ]
    },
    {
      "cell_type": "markdown",
      "metadata": {
        "id": "eLOrDtSKUxdF"
      },
      "source": [
        "#### Task 2.2.4\r\n",
        "**problem.**\r\n",
        "$$22 y^{(5)} + 5  y^{(4)} -17 y^{(3)} - 1.5 \\ddot y + 100 \\dot y + 1.1y= 0$$\r\n",
        "**solution.**\r\n",
        "$$ \r\n",
        "\\begin{bmatrix}\r\n",
        "\\dot{x_0}\\\\\r\n",
        "\\dot{x_1}\\\\\r\n",
        "\\dot{x_2}\\\\\r\n",
        "\\dot{x_3}\\\\\r\n",
        "\\dot{x_4}\r\n",
        "\\end{bmatrix}=\r\n",
        "\\begin{bmatrix}\r\n",
        "0&1&0&0&0\\\\\r\n",
        "0&0&1&0&0\\\\\r\n",
        "0&0&0&1&0\\\\\r\n",
        "0&0&0&0&1\\\\\r\n",
        "\\frac{-1}{20}&\\frac{-50}{11}&\\frac{3}{44}&\\frac{17}{22}&\\frac{-5}{22}\r\n",
        "\\end{bmatrix}\r\n",
        "\\begin{bmatrix}\r\n",
        "{x_0}\\\\\r\n",
        "{x_1}\\\\\r\n",
        "{x_2}\\\\\r\n",
        "{x_3}\\\\\r\n",
        "{x_4}\r\n",
        "\\end{bmatrix}\r\n",
        "+\r\n",
        "\\begin{bmatrix}\r\n",
        "0\\\\\r\n",
        "0\\\\\r\n",
        "0\\\\\r\n",
        "0\\\\\r\n",
        "1\r\n",
        "\\end{bmatrix}\r\n",
        "sin(t)\r\n",
        "$$"
      ]
    },
    {
      "cell_type": "code",
      "metadata": {
        "colab": {
          "base_uri": "https://localhost:8080/",
          "height": 403
        },
        "id": "_vYUPAAMUxdG",
        "outputId": "af34c81a-ea66-48b5-be9e-de9852e027d6"
      },
      "source": [
        "# importing libraries\r\n",
        "import numpy as np\r\n",
        "from scipy.integrate import odeint\r\n",
        "import matplotlib.pyplot as plt\r\n",
        "\r\n",
        "n = 5 # order of the equation\r\n",
        "A = np.array(\r\n",
        "              [\r\n",
        "              [0,1,0,0,0],\r\n",
        "              [0,0,1,0,0],\r\n",
        "              [0,0,0,1,0],\r\n",
        "              [0,0,0,0,1],\r\n",
        "              [-1/20,-50/11,3/44,17/22,-5/22]\r\n",
        "              ]\r\n",
        "             )\r\n",
        "\r\n",
        "# x_dot from state space\r\n",
        "def StateSpace(x, t):\r\n",
        "    return A.dot(x)+np.array([0,0,0,0,np.sin(t)])\r\n",
        "\r\n",
        "# time horizon \r\n",
        "time = np.linspace(0, 10, 1000)   \r\n",
        "x0 = np.array([1,1,1,1,1])  # initial state\r\n",
        "\r\n",
        "# the solution in the a dictionary form\r\n",
        "solution = {\"SS\": odeint(StateSpace, x0, time)}\r\n",
        "print(x0)\r\n",
        "print(A)\r\n",
        "print(np.shape(solution['SS']))\r\n",
        "plt.plot(time, solution[\"SS\"])\r\n",
        "plt.xlabel('time')\r\n",
        "plt.ylabel('x(t)')\r\n",
        "plt.show()"
      ],
      "execution_count": 57,
      "outputs": [
        {
          "output_type": "stream",
          "text": [
            "[1 1 1 1 1]\n",
            "[[ 0.          1.          0.          0.          0.        ]\n",
            " [ 0.          0.          1.          0.          0.        ]\n",
            " [ 0.          0.          0.          1.          0.        ]\n",
            " [ 0.          0.          0.          0.          1.        ]\n",
            " [-0.05       -4.54545455  0.06818182  0.77272727 -0.22727273]]\n",
            "(1000, 5)\n"
          ],
          "name": "stdout"
        },
        {
          "output_type": "display_data",
          "data": {
            "image/png": "[encoded data removed]",
            "text/plain": [
              "<Figure size 432x288 with 1 Axes>"
            ]
          },
          "metadata": {
            "tags": [],
            "needs_background": "light"
          }
        }
      ]
    },
    {
      "cell_type": "markdown",
      "metadata": {
        "id": "j3yijVacUxdI"
      },
      "source": [
        "#### Task 2.1.5\r\n",
        "**problem.**\r\n",
        "$$-10 y^{(5)} + 1.5y^{(4)} -23 y^{(3)} - 2.5 \\ddot y + 0.1 \\dot y + 100y= 0$$\r\n",
        "**solution.**\r\n",
        "$$ \r\n",
        "\\begin{bmatrix}\r\n",
        "\\dot{x_0}\\\\\r\n",
        "\\dot{x_1}\\\\\r\n",
        "\\dot{x_2}\\\\\r\n",
        "\\dot{x_3}\\\\\r\n",
        "\\dot{x_4}\r\n",
        "\\end{bmatrix}=\r\n",
        "\\begin{bmatrix}\r\n",
        "0&1&0&0&0\\\\\r\n",
        "0&0&1&0&0\\\\\r\n",
        "0&0&0&1&0\\\\\r\n",
        "0&0&0&0&1\\\\\r\n",
        "10&\\frac{1}{100}&\\frac{-1}{4}&\\frac{-23}{10}&0.15\r\n",
        "\\end{bmatrix}\r\n",
        "\\begin{bmatrix}\r\n",
        "{x_0}\\\\\r\n",
        "{x_1}\\\\\r\n",
        "{x_2}\\\\\r\n",
        "{x_3}\\\\\r\n",
        "{x_4}\r\n",
        "\\end{bmatrix}\r\n",
        "+\r\n",
        "\\begin{bmatrix}\r\n",
        "0\\\\\r\n",
        "0\\\\\r\n",
        "0\\\\\r\n",
        "0\\\\\r\n",
        "1\r\n",
        "\\end{bmatrix}\r\n",
        "sin(t)\r\n",
        "$$"
      ]
    },
    {
      "cell_type": "code",
      "metadata": {
        "colab": {
          "base_uri": "https://localhost:8080/",
          "height": 414
        },
        "id": "UkbjrTbcUxdI",
        "outputId": "4c04333f-57d7-4ffa-85f5-1cbfe425ce6a"
      },
      "source": [
        "# importing libraries\r\n",
        "import numpy as np\r\n",
        "from scipy.integrate import odeint\r\n",
        "import matplotlib.pyplot as plt\r\n",
        "\r\n",
        "n = 5 # order of the equation\r\n",
        "A = np.array(\r\n",
        "              [\r\n",
        "              [0,1,0,0,0],\r\n",
        "              [0,0,1,0,0],\r\n",
        "              [0,0,0,1,0],\r\n",
        "              [0,0,0,0,1],\r\n",
        "              [10,0.01,-1/4,-23/10,0.15]\r\n",
        "              ]\r\n",
        "             )\r\n",
        "\r\n",
        "# x_dot from state space\r\n",
        "def StateSpace(x, t):\r\n",
        "    return A.dot(x)+np.array([0,0,0,0,np.sin(t)])\r\n",
        "\r\n",
        "# time horizon \r\n",
        "time = np.linspace(0, 10, 1000)   \r\n",
        "x0 = np.array([1,1,1,1,1])  # initial state\r\n",
        "\r\n",
        "# the solution in the a dictionary form\r\n",
        "solution = {\"SS\": odeint(StateSpace, x0, time)}\r\n",
        "print(x0)\r\n",
        "print(A)\r\n",
        "print(np.shape(solution['SS']))\r\n",
        "plt.plot(time, solution[\"SS\"])\r\n",
        "plt.xlabel('time')\r\n",
        "plt.ylabel('x(t)')\r\n",
        "plt.show()"
      ],
      "execution_count": 59,
      "outputs": [
        {
          "output_type": "stream",
          "text": [
            "[1 1 1 1 1]\n",
            "[[ 0.    1.    0.    0.    0.  ]\n",
            " [ 0.    0.    1.    0.    0.  ]\n",
            " [ 0.    0.    0.    1.    0.  ]\n",
            " [ 0.    0.    0.    0.    1.  ]\n",
            " [10.    0.01 -0.25 -2.3   0.15]]\n",
            "(1000, 5)\n"
          ],
          "name": "stdout"
        },
        {
          "output_type": "display_data",
          "data": {
            "image/png": "[encoded data removed]",
            "text/plain": [
              "<Figure size 432x288 with 1 Axes>"
            ]
          },
          "metadata": {
            "tags": [],
            "needs_background": "light"
          }
        }
      ]
    },
    {
      "cell_type": "markdown",
      "metadata": {
        "id": "vb7lObbPZHwv"
      },
      "source": [
        "### Task 2.4"
      ]
    },
    {
      "cell_type": "markdown",
      "metadata": {
        "id": "rdvt7JrwZSI0"
      },
      "source": [
        "**problem**\r\n",
        "\r\n",
        "Find and derive the equations for a mass-spring-damper system depicted below, write them in state-space and second order ODE forms(in text cells), and simulate them (make all the constant equal 1)\r\n",
        "\r\n",
        "<p><img alt=\"mbk\" height=\"250px\" src=\"https://drive.google.com/uc?id=1gkp6g7trNmVjWNFTbmrE8m4hU50Oat5W\" align=\"center\" hspace=\"350px\" vspace=\"0px\"></p>\r\n",
        "\r\n",
        "**solution**\r\n",
        "$$ f(t) = m \\ddot x =  -c \\dot x - k x  $$ \\\\\r\n",
        "$$ X = \\begin{bmatrix}\r\n",
        " x \\\\ \r\n",
        " \\dot x \\\\ \r\n",
        " \\end{bmatrix}\r\n",
        " $$\r\n",
        "$$ \\dot X =\r\n",
        " \\begin{bmatrix}\r\n",
        "  \\dot x \\\\\r\n",
        " \\ddot x \\\\\r\n",
        " \\end{bmatrix}\r\n",
        "  = \\begin{bmatrix} 0 & 1 \\\\\r\n",
        "   -\\frac{k}{m} & -\\frac{c}{m} \\\\ \r\n",
        "  \\end{bmatrix} X - \\begin{bmatrix} 0 \\\\ \\frac{1}{m} \\\\ \\end{bmatrix} $$\r\n"
      ]
    },
    {
      "cell_type": "code",
      "metadata": {
        "colab": {
          "base_uri": "https://localhost:8080/",
          "height": 350
        },
        "id": "y5DbPSo8b4B_",
        "outputId": "58013bee-b0e8-4975-db6a-6547ef628ae0"
      },
      "source": [
        "# importing libraries\r\n",
        "import numpy as np\r\n",
        "from scipy.integrate import odeint\r\n",
        "import matplotlib.pyplot as plt\r\n",
        "c=k=m=1\r\n",
        "n = 2 # order of the equation\r\n",
        "A = np.array(\r\n",
        "              [\r\n",
        "              [0,1],\r\n",
        "              [-k/m,-c/m]\r\n",
        "               ]\r\n",
        "             )\r\n",
        "\r\n",
        "# x_dot from state space\r\n",
        "def StateSpace(x, t):\r\n",
        "    return A.dot(x)+np.array([0,1/m])\r\n",
        "\r\n",
        "# time horizon \r\n",
        "time = np.linspace(0, 100, 1000)   \r\n",
        "x0 = np.array([0,0])  # initial state\r\n",
        "\r\n",
        "# the solution in the a dictionary form\r\n",
        "solution = {\"SS\": odeint(StateSpace, x0, time)}\r\n",
        "print(x0)\r\n",
        "print(A)\r\n",
        "print(np.shape(solution['SS']))\r\n",
        "plt.plot(time, solution[\"SS\"])\r\n",
        "plt.xlabel('time')\r\n",
        "plt.ylabel('x(t)')\r\n",
        "plt.show()"
      ],
      "execution_count": 64,
      "outputs": [
        {
          "output_type": "stream",
          "text": [
            "[0 0]\n",
            "[[ 0.  1.]\n",
            " [-1. -1.]]\n",
            "(1000, 2)\n"
          ],
          "name": "stdout"
        },
        {
          "output_type": "display_data",
          "data": {
            "image/png": "[encoded data removed]",
            "text/plain": [
              "<Figure size 432x288 with 1 Axes>"
            ]
          },
          "metadata": {
            "tags": [],
            "needs_background": "light"
          }
        }
      ]
    },
    {
      "cell_type": "markdown",
      "metadata": {
        "id": "NoqhcYDOdeoF"
      },
      "source": [
        "## Task3"
      ]
    },
    {
      "cell_type": "markdown",
      "metadata": {
        "id": "zz3SiWWadkIc"
      },
      "source": [
        "### Task 3.1\r\n",
        "Convert to Tranfer Function\r\n",
        "### Task 3.2\r\n",
        "Simulate Via python "
      ]
    },
    {
      "cell_type": "markdown",
      "metadata": {
        "id": "aJ6-LelDdtGb"
      },
      "source": [
        "### Task3.1.1\r\n",
        "\r\n",
        "$$\r\n",
        "\\begin{cases}\r\n",
        "\\ddot x + 0.5 \\dot x + 4x = u \\\\\r\n",
        "y = 1.5 \\dot x + 6 x\r\n",
        "\\end{cases}\r\n",
        "$$\r\n",
        " $$ \r\n",
        " \\begin{cases}\r\n",
        "  \\dot x = px \\\\\r\n",
        "  u = p^2 x + \\frac{1}{2} px + 4 (\\frac{3}{2} px + 6x)\r\n",
        "  \\\\\r\n",
        "  x = \\frac{1}{p^2 + \\frac{13}{2}p + 24} u\r\n",
        "  \\\\\r\n",
        "  y=(\\frac{3}{2} p + 6)x\r\n",
        "  \\end{cases}\r\n",
        "  $$\r\n",
        "  $$ \\rightarrow  y = \\frac{\\frac{3}{2} p + 6}{p^2 + \\frac{13}{2} p + 24} u$$\r\n",
        "  $$Y(p) = G(p) \\times U(p)$$\r\n",
        "  $$\\rightarrow G(p) = \\frac{\\frac{3}{2} p + 6}{p^2 + \\frac{13}{2} p + 24} $$\r\n"
      ]
    },
    {
      "cell_type": "code",
      "metadata": {
        "colab": {
          "base_uri": "https://localhost:8080/",
          "height": 278
        },
        "id": "fsYJOFy8fiOn",
        "outputId": "f83a587f-8b20-4837-9bd5-ff9caab6295a"
      },
      "source": [
        "import numpy as np\r\n",
        "from numpy.linalg import eig\r\n",
        "from scipy.integrate import odeint\r\n",
        "import matplotlib.pyplot as plt\r\n",
        "from scipy import signal\r\n",
        "n = [3/2,6] \r\n",
        "d = [1, 13/2, 24] \r\n",
        "system_tf = signal.TransferFunction(n, d)\r\n",
        "t_tf, y_tf = signal.step(system_tf)\r\n",
        "plt.xlabel('time')\r\n",
        "plt.ylabel('x(t)')\r\n",
        "plt.plot(t_tf, y_tf)\r\n",
        "plt.show()"
      ],
      "execution_count": 66,
      "outputs": [
        {
          "output_type": "display_data",
          "data": {
            "image/png": "[encoded data removed]",
            "text/plain": [
              "<Figure size 432x288 with 1 Axes>"
            ]
          },
          "metadata": {
            "tags": [],
            "needs_background": "light"
          }
        }
      ]
    },
    {
      "cell_type": "markdown",
      "metadata": {
        "id": "Ej1htbw_f4kA"
      },
      "source": [
        "### Task 3.1.2\r\n",
        "$$\r\n",
        "\\begin{cases}\r\n",
        "10 \\ddot x + 1.5 \\dot x + 8x = 0.5u \\\\\r\n",
        "y = 15 \\dot x + 16 x\r\n",
        "\\end{cases}\r\n",
        "$$\r\n",
        "\r\n",
        "$$y=\\frac{15p+16}{20p^2+243p+256} u$$ \r\n",
        "$$G(p) = \\frac{15p+16}{20p^2+243p+256} $$"
      ]
    },
    {
      "cell_type": "code",
      "metadata": {
        "colab": {
          "base_uri": "https://localhost:8080/",
          "height": 278
        },
        "id": "ikSg4t9igkFq",
        "outputId": "2d1280b5-2699-47e9-c43e-b1fb3c500972"
      },
      "source": [
        "import numpy as np\r\n",
        "from numpy.linalg import eig\r\n",
        "from scipy.integrate import odeint\r\n",
        "import matplotlib.pyplot as plt\r\n",
        "from scipy import signal\r\n",
        "n = [15, 16]\r\n",
        "d = [20, 243, 256]\r\n",
        "system_tf = signal.TransferFunction(n, d)\r\n",
        "t_tf, y_tf = signal.step(system_tf)\r\n",
        "plt.xlabel('time')\r\n",
        "plt.ylabel('x(t)')\r\n",
        "plt.plot(t_tf, y_tf)\r\n",
        "plt.show()"
      ],
      "execution_count": 67,
      "outputs": [
        {
          "output_type": "display_data",
          "data": {
            "image/png": "[encoded data removed]",
            "text/plain": [
              "<Figure size 432x288 with 1 Axes>"
            ]
          },
          "metadata": {
            "tags": [],
            "needs_background": "light"
          }
        }
      ]
    },
    {
      "cell_type": "markdown",
      "metadata": {
        "id": "nrMSXqikgxCO"
      },
      "source": [
        "### Task 3.1.3\r\n",
        "$$\r\n",
        "\\begin{cases}\r\n",
        "\\ddot x + 2 \\dot x - 5x = u \\\\\r\n",
        "y = 2.5 \\dot x - 7 x\r\n",
        "\\end{cases}\r\n",
        "$$\r\n",
        "\r\n",
        "$$ y = \\frac{\\frac{5}{2}p - 7}{p^2-\\frac{21}{2}p + 35} u $$\r\n",
        "$$ G(p) = \\frac{\\frac{5}{2}p - 7}{p^2-\\frac{21}{2}p + 35} $$"
      ]
    },
    {
      "cell_type": "code",
      "metadata": {
        "colab": {
          "base_uri": "https://localhost:8080/",
          "height": 278
        },
        "id": "lzvUM64BgxCo",
        "outputId": "4e217fc4-0e5d-4906-ae53-65e5cf4e6fe0"
      },
      "source": [
        "import numpy as np\r\n",
        "from numpy.linalg import eig\r\n",
        "from scipy.integrate import odeint\r\n",
        "import matplotlib.pyplot as plt\r\n",
        "from scipy import signal\r\n",
        "n = [2.5, -7]\r\n",
        "d = [1, -10.5, 35]\r\n",
        "system_tf = signal.TransferFunction(n, d)\r\n",
        "t_tf, y_tf = signal.step(system_tf)\r\n",
        "plt.xlabel('time')\r\n",
        "plt.ylabel('x(t)')\r\n",
        "plt.plot(t_tf, y_tf)\r\n",
        "plt.show()"
      ],
      "execution_count": 68,
      "outputs": [
        {
          "output_type": "display_data",
          "data": {
            "image/png": "[encoded data removed]",
            "text/plain": [
              "<Figure size 432x288 with 1 Axes>"
            ]
          },
          "metadata": {
            "tags": [],
            "needs_background": "light"
          }
        }
      ]
    },
    {
      "cell_type": "markdown",
      "metadata": {
        "id": "8pEyFCsVhnjT"
      },
      "source": [
        "### Task 3.1.4\r\n",
        "$$\r\n",
        "\\begin{cases}\r\n",
        "\\ddot x + 22 \\dot x + 10x = 10u \\\\\r\n",
        "y = 10.5 \\dot x + 11 x\r\n",
        "\\end{cases}\r\n",
        "$$\r\n",
        "\r\n",
        "$$ y = \\frac{105p+110}{p^2 + 127p + 120} u $$\r\n",
        "$$ G(p) = \\frac{105p+110}{p^2 + 127p + 120} $$"
      ]
    },
    {
      "cell_type": "code",
      "metadata": {
        "colab": {
          "base_uri": "https://localhost:8080/",
          "height": 278
        },
        "id": "IzuWnoDshnjh",
        "outputId": "3c197be0-5ac8-4cf5-e151-e26d59e1797d"
      },
      "source": [
        "import numpy as np\r\n",
        "from numpy.linalg import eig\r\n",
        "from scipy.integrate import odeint\r\n",
        "import matplotlib.pyplot as plt\r\n",
        "from scipy import signal\r\n",
        "n = [105, 110]\r\n",
        "d = [1, 127, 120]\r\n",
        "system_tf = signal.TransferFunction(n, d)\r\n",
        "t_tf, y_tf = signal.step(system_tf)\r\n",
        "plt.xlabel('time')\r\n",
        "plt.ylabel('x(t)')\r\n",
        "plt.plot(t_tf, y_tf)\r\n",
        "plt.show()"
      ],
      "execution_count": 69,
      "outputs": [
        {
          "output_type": "display_data",
          "data": {
            "image/png": "[encoded data removed]",
            "text/plain": [
              "<Figure size 432x288 with 1 Axes>"
            ]
          },
          "metadata": {
            "tags": [],
            "needs_background": "light"
          }
        }
      ]
    },
    {
      "cell_type": "markdown",
      "metadata": {
        "id": "8Vrm0QkGifcb"
      },
      "source": [
        "# Lab 2\r\n"
      ]
    },
    {
      "cell_type": "markdown",
      "metadata": {
        "id": "64jSF2lAijLX"
      },
      "source": [
        "## Task 1"
      ]
    },
    {
      "cell_type": "markdown",
      "metadata": {
        "id": "1pyYuRDSimyQ"
      },
      "source": [
        "### Task 1.1\r\n",
        " Find if the systems are stable\r\n",
        "### Task 1.2\r\n",
        " Simulate all of them, to show convergence (or divergence)."
      ]
    },
    {
      "cell_type": "markdown",
      "metadata": {
        "id": "cxybjDS-i2bq"
      },
      "source": [
        "#### Task 1.1.1\r\n",
        "$$\\dot x = \r\n",
        "\\begin{bmatrix} 1 & 0 \\\\ -5 & -10\r\n",
        "\\end{bmatrix}\r\n",
        "x\r\n",
        "$$"
      ]
    },
    {
      "cell_type": "code",
      "metadata": {
        "colab": {
          "base_uri": "https://localhost:8080/"
        },
        "id": "2-QiyB0IkGBd",
        "outputId": "a0f91f5a-b98c-4533-bc18-294af7fb48dd"
      },
      "source": [
        "import numpy as np\r\n",
        "from numpy.linalg import eig\r\n",
        "from scipy.integrate import odeint\r\n",
        "import matplotlib.pyplot as plt\r\n",
        "\r\n",
        "\r\n",
        "def LTI(x, t):\r\n",
        "    return A.dot(x)\r\n",
        "\r\n",
        "\r\n",
        "A = np.array([[1, 0]\r\n",
        "              ,\r\n",
        "              [-5, -10]]) # state matrix\r\n",
        "e, v = eig(A)\r\n",
        "print(\"Eigenvalues of A >> \\t\", e)\r\n",
        "\r\n",
        "if max(np.real(e))<0:\r\n",
        "    print(\"Stable\")\r\n",
        "else:\r\n",
        "    print(\"Not Stable\")\r\n",
        "\r\n",
        "time = np.linspace(0, 10, 1000)   \r\n",
        "x0 = np.random.rand(2)            \r\n",
        "\r\n",
        "solution = odeint(LTI, x0, time)\r\n",
        "\r\n",
        "plt.plot(time, solution)\r\n",
        "plt.xlabel('time')\r\n",
        "plt.ylabel('x(t)')\r\n",
        "plt.show()"
      ],
      "execution_count": 71,
      "outputs": [
        {
          "output_type": "stream",
          "text": [
            "EigenValues  >>\t [-10.   1.]\n",
            "not stable\n"
          ],
          "name": "stdout"
        }
      ]
    },
    {
      "cell_type": "markdown",
      "metadata": {
        "id": "rXV_8i79kgxD"
      },
      "source": [
        "#### Task 1.1.2\r\n",
        "$$\\dot x = \r\n",
        "\\begin{bmatrix} 0 & 8 \\\\ 1 & 3\r\n",
        "\\end{bmatrix}\r\n",
        "x\r\n",
        "$$"
      ]
    },
    {
      "cell_type": "code",
      "metadata": {
        "colab": {
          "base_uri": "https://localhost:8080/",
          "height": 325
        },
        "id": "pfUIiAWIkgxE",
        "outputId": "46edc6c6-83ca-4d95-817f-1312161e1e90"
      },
      "source": [
        "import numpy as np\r\n",
        "from numpy.linalg import eig\r\n",
        "from scipy.integrate import odeint\r\n",
        "import matplotlib.pyplot as plt\r\n",
        "\r\n",
        "\r\n",
        "def LTI(x, t):\r\n",
        "    return A.dot(x)\r\n",
        "\r\n",
        "\r\n",
        "A = np.array([[0, 8]\r\n",
        "              ,\r\n",
        "              [1, 3]]) # state matrix\r\n",
        "e, v = eig(A)\r\n",
        "print(\"Eigenvalues of A >> \\t\", e)\r\n",
        "\r\n",
        "if max(np.real(e))<0:\r\n",
        "    print(\"Stable\")\r\n",
        "else:\r\n",
        "    print(\"Not Stable\")\r\n",
        "\r\n",
        "time = np.linspace(0, 10, 1000)   \r\n",
        "x0 = np.random.rand(2)            \r\n",
        "\r\n",
        "solution = odeint(LTI, x0, time)\r\n",
        "\r\n",
        "plt.plot(time, solution)\r\n",
        "plt.xlabel('time')\r\n",
        "plt.ylabel('x(t)')\r\n",
        "plt.show()"
      ],
      "execution_count": 78,
      "outputs": [
        {
          "output_type": "stream",
          "text": [
            "Eigenvalues of A >> \t [-1.70156212  4.70156212]\n",
            "Not Stable\n"
          ],
          "name": "stdout"
        },
        {
          "output_type": "display_data",
          "data": {
            "image/png": "[encoded data removed]",
            "text/plain": [
              "<Figure size 432x288 with 1 Axes>"
            ]
          },
          "metadata": {
            "tags": [],
            "needs_background": "light"
          }
        }
      ]
    },
    {
      "cell_type": "markdown",
      "metadata": {
        "id": "tR20N-uikhFi"
      },
      "source": [
        "#### Task 1.1.3\r\n",
        "$$\\dot x = \r\n",
        "\\begin{bmatrix} 0 & 8 \\\\ 6 & 0\r\n",
        "\\end{bmatrix}\r\n",
        "x\r\n",
        "$$"
      ]
    },
    {
      "cell_type": "code",
      "metadata": {
        "colab": {
          "base_uri": "https://localhost:8080/",
          "height": 325
        },
        "id": "MBebQvvmkhFj",
        "outputId": "e8097548-9c2f-4f14-86f6-c70db27d73e9"
      },
      "source": [
        "import numpy as np\r\n",
        "from numpy.linalg import eig\r\n",
        "from scipy.integrate import odeint\r\n",
        "import matplotlib.pyplot as plt\r\n",
        "\r\n",
        "\r\n",
        "def LTI(x, t):\r\n",
        "    return A.dot(x)\r\n",
        "\r\n",
        "\r\n",
        "A = np.array([[0, 8]\r\n",
        "              ,\r\n",
        "              [6, 0]]) # state matrix\r\n",
        "e, v = eig(A)\r\n",
        "print(\"Eigenvalues of A >> \\t\", e)\r\n",
        "\r\n",
        "if max(np.real(e))<0:\r\n",
        "    print(\"Stable\")\r\n",
        "else:\r\n",
        "    print(\"Not Stable\")\r\n",
        "\r\n",
        "time = np.linspace(0, 10, 1000)   \r\n",
        "x0 = np.random.rand(2)            \r\n",
        "\r\n",
        "solution = odeint(LTI, x0, time)\r\n",
        "\r\n",
        "plt.plot(time, solution)\r\n",
        "plt.xlabel('time')\r\n",
        "plt.ylabel('x(t)')\r\n",
        "plt.show()"
      ],
      "execution_count": 79,
      "outputs": [
        {
          "output_type": "stream",
          "text": [
            "Eigenvalues of A >> \t [ 6.92820323 -6.92820323]\n",
            "Not Stable\n"
          ],
          "name": "stdout"
        },
        {
          "output_type": "display_data",
          "data": {
            "image/png": "[encoded data removed]",
            "text/plain": [
              "<Figure size 432x288 with 1 Axes>"
            ]
          },
          "metadata": {
            "tags": [],
            "needs_background": "light"
          }
        }
      ]
    },
    {
      "cell_type": "markdown",
      "metadata": {
        "id": "JwgZXK02kgma"
      },
      "source": [
        "#### Task 1.1.4\r\n",
        "$$\\dot x = \r\n",
        "\\begin{bmatrix} 0 & 1 \\\\ 6 & 3\r\n",
        "\\end{bmatrix}\r\n",
        "x\r\n",
        "$$"
      ]
    },
    {
      "cell_type": "code",
      "metadata": {
        "colab": {
          "base_uri": "https://localhost:8080/",
          "height": 325
        },
        "id": "DVxDaI5_kgm1",
        "outputId": "69886213-2d0a-4cbe-d81c-70e51b4113d5"
      },
      "source": [
        "import numpy as np\r\n",
        "from numpy.linalg import eig\r\n",
        "from scipy.integrate import odeint\r\n",
        "import matplotlib.pyplot as plt\r\n",
        "\r\n",
        "\r\n",
        "def LTI(x, t):\r\n",
        "    return A.dot(x)\r\n",
        "\r\n",
        "\r\n",
        "A = np.array([[0, 1]\r\n",
        "              ,\r\n",
        "              [6, 3]]) # state matrix\r\n",
        "e, v = eig(A)\r\n",
        "print(\"Eigenvalues of A >> \\t\", e)\r\n",
        "\r\n",
        "if max(np.real(e))<0:\r\n",
        "    print(\"Stable\")\r\n",
        "else:\r\n",
        "    print(\"Not Stable\")\r\n",
        "\r\n",
        "time = np.linspace(0, 10, 1000)   \r\n",
        "x0 = np.random.rand(2)            \r\n",
        "\r\n",
        "solution = odeint(LTI, x0, time)\r\n",
        "\r\n",
        "plt.plot(time, solution)\r\n",
        "plt.xlabel('time')\r\n",
        "plt.ylabel('x(t)')\r\n",
        "plt.show()"
      ],
      "execution_count": 80,
      "outputs": [
        {
          "output_type": "stream",
          "text": [
            "Eigenvalues of A >> \t [-1.37228132  4.37228132]\n",
            "Not Stable\n"
          ],
          "name": "stdout"
        },
        {
          "output_type": "display_data",
          "data": {
            "image/png": "[encoded data removed]",
            "text/plain": [
              "<Figure size 432x288 with 1 Axes>"
            ]
          },
          "metadata": {
            "tags": [],
            "needs_background": "light"
          }
        }
      ]
    },
    {
      "cell_type": "markdown",
      "metadata": {
        "id": "FsNX-HQpnviT"
      },
      "source": [
        "#### Task 1.1 Unstability of systems 1-4 is observable due to divergence as time goes to infinity"
      ]
    }
  ]
}