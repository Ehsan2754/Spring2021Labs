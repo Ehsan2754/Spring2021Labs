{
  "nbformat": 4,
  "nbformat_minor": 0,
  "metadata": {
    "colab": {
      "name": "Ehsan_Shaghaei_B1903_LAB2.ipynb",
      "provenance": [],
      "collapsed_sections": [
        "NmbYILUmjTsn",
        "EQDJQXqte6BF"
      ],
      "toc_visible": true,
      "include_colab_link": true
    },
    "kernelspec": {
      "name": "python3",
      "display_name": "Python 3"
    }
  },
  "cells": [
    {
      "cell_type": "markdown",
      "metadata": {
        "id": "view-in-github",
        "colab_type": "text"
      },
      "source": [
        "<a href=\"https://colab.research.google.com/github/Ehsan2754/Spring2021Labs/blob/main/Ehsan_Shaghaei_B1903_LAB2.ipynb\" target=\"_parent\"><img src=\"https://colab.research.google.com/assets/colab-badge.svg\" alt=\"Open In Colab\"/></a>"
      ]
    },
    {
      "cell_type": "markdown",
      "metadata": {
        "id": "RDbbM4CQuHS0"
      },
      "source": [
        "# Pole placement"
      ]
    },
    {
      "cell_type": "markdown",
      "metadata": {
        "id": "MQ3fceFLKoH_"
      },
      "source": [
        "## Task 1.1 Make the following systems stable, proposing appropriate control\r\n",
        "(use the python code and show the result) \r\n",
        "\r\n",
        "$$\\dot x = \r\n",
        "\\begin{pmatrix} 10 & 0 \\\\ -5 & 10\r\n",
        "\\end{pmatrix}\r\n",
        "x\r\n",
        "+\r\n",
        "\\begin{pmatrix} \r\n",
        "2 \\\\ 0\r\n",
        "\\end{pmatrix}\r\n",
        "u\r\n",
        "$$\r\n",
        "\r\n",
        "\r\n",
        "$$\\dot x = \r\n",
        "\\begin{pmatrix} 0 & -8 \\\\ 1 & 30\r\n",
        "\\end{pmatrix}\r\n",
        "x\r\n",
        "+\r\n",
        "\\begin{pmatrix} \r\n",
        "-2 \\\\ 1\r\n",
        "\\end{pmatrix}\r\n",
        "u\r\n",
        "$$\r\n",
        "\r\n",
        "\r\n",
        "$$\\dot x = \r\n",
        "\\begin{pmatrix} 2 & 2 \\\\ -6 & 10\r\n",
        "\\end{pmatrix}\r\n",
        "x\r\n",
        "+\r\n",
        "\\begin{pmatrix} \r\n",
        "0 \\\\ 5\r\n",
        "\\end{pmatrix}\r\n",
        "u\r\n",
        "$$\r\n",
        "\r\n",
        "\r\n",
        "$$\\dot x = \r\n",
        "\\begin{pmatrix} 5 & -5 \\\\ 6 & 15\r\n",
        "\\end{pmatrix}\r\n",
        "x\r\n",
        "+\r\n",
        "\\begin{pmatrix} \r\n",
        "-10 \\\\ 10\r\n",
        "\\end{pmatrix}\r\n",
        "u\r\n",
        "$$"
      ]
    },
    {
      "cell_type": "code",
      "metadata": {
        "colab": {
          "base_uri": "https://localhost:8080/",
          "height": 1000
        },
        "id": "Gj2xmV8xv3Fc",
        "outputId": "4e5dd74f-dabb-4552-a674-239d2015eac2"
      },
      "source": [
        "import numpy as np\r\n",
        "from numpy.linalg import eig\r\n",
        "from scipy.integrate import odeint\r\n",
        "from scipy.signal import place_poles\r\n",
        "import matplotlib.pyplot as plt\r\n",
        "#desired eigenvalues\r\n",
        "POLES = np.array([-1, -2])\r\n",
        "START_TIME = 0\r\n",
        "END_TIME = 6\r\n",
        "SAMPLES = 2000\r\n",
        "time = np.linspace(START_TIME, END_TIME, SAMPLES)   \r\n",
        "x0 = np.random.rand(n)  # initial state\r\n",
        "\r\n",
        "\r\n",
        "# Task 1.1.1\r\n",
        "n = 2\r\n",
        "A = np.array([\r\n",
        "              [10, 0],\r\n",
        "              [-5, 10]\r\n",
        "              ])\r\n",
        "B = np.array([[2], [0]])\r\n",
        "place_obj = place_poles(A, B, POLES) # Compute K such that eigenvalues (A - dot(B, K))=poles.\r\n",
        "#found control gains\r\n",
        "K = place_obj.gain_matrix;\r\n",
        "# x_dot from state space\r\n",
        "def StateSpace(x, t):\r\n",
        "    return A.dot(x)\r\n",
        "# x_dot from state space\r\n",
        "def controlled_SS(x, t):\r\n",
        "    return (A-B*K).dot(x)\r\n",
        "print(\"\\t>> TASK 1.1.1\")\r\n",
        "print(\"K:\", K)\r\n",
        "#test that eigenvalues of the closed loop system are what they are supposed to be \r\n",
        "e, v = eig(A)\r\n",
        "print(\"Eigenvalues of A:\", e)\r\n",
        "e, v = eig((A - B.dot(K)))\r\n",
        "print(\"Eigenvalues of A - B*K:\", e)\r\n",
        "solution_u = {\"SS\": odeint(StateSpace, x0, time)}\r\n",
        "solution_s = {\"SS\": odeint(controlled_SS, x0, time)}\r\n",
        "fig,p = plt.subplots(2)\r\n",
        "p[0].plot(time,solution_u[\"SS\"])\r\n",
        "p[1].plot(time,solution_s[\"SS\"])\r\n",
        "p[0].set_title('Uncontrolled System.')\r\n",
        "p[1].set_title('Controlled System.')\r\n",
        "plt.subplots_adjust(wspace=0.4,hspace=0.4)\r\n",
        "plt.show()\r\n",
        "\r\n",
        "\r\n",
        "# Task 1.1.2\r\n",
        "n = 2\r\n",
        "A = np.array([\r\n",
        "              [0, -8],\r\n",
        "              [1, 30]\r\n",
        "              ])\r\n",
        "B = np.array([[-2], [1]])\r\n",
        "place_obj = place_poles(A, B, POLES) # Compute K such that eigenvalues (A - dot(B, K))=poles.\r\n",
        "#found control gains\r\n",
        "K = place_obj.gain_matrix;\r\n",
        "# x_dot from state space\r\n",
        "def StateSpace(x, t):\r\n",
        "    return A.dot(x)\r\n",
        "# x_dot from state space\r\n",
        "def controlled_SS(x, t):\r\n",
        "    return (A-B*K).dot(x)\r\n",
        "print(\"\\t>> TASK 1.1.2\")\r\n",
        "print(\"K:\", K)\r\n",
        "#test that eigenvalues of the closed loop system are what they are supposed to be \r\n",
        "e, v = eig(A)\r\n",
        "print(\"Eigenvalues of A:\", e)\r\n",
        "e, v = eig((A - B.dot(K)))\r\n",
        "print(\"Eigenvalues of A - B*K:\", e)\r\n",
        "solution_u = {\"SS\": odeint(StateSpace, x0, time)}\r\n",
        "solution_s = {\"SS\": odeint(controlled_SS, x0, time)}\r\n",
        "fig,p = plt.subplots(2)\r\n",
        "p[0].plot(time,solution_u[\"SS\"])\r\n",
        "p[1].plot(time,solution_s[\"SS\"])\r\n",
        "p[0].set_title('Uncontrolled System.')\r\n",
        "p[1].set_title('Controlled System.')\r\n",
        "plt.subplots_adjust(wspace=0.4,hspace=0.4)\r\n",
        "plt.show()\r\n",
        "\r\n",
        "\r\n",
        "# Task 1.1.3\r\n",
        "n = 2\r\n",
        "A = np.array([\r\n",
        "              [2, 2],\r\n",
        "              [-6, 10]\r\n",
        "              ])\r\n",
        "B = np.array([[0], [5]])\r\n",
        "place_obj = place_poles(A, B, POLES) # Compute K such that eigenvalues (A - dot(B, K))=poles.\r\n",
        "#found control gains\r\n",
        "K = place_obj.gain_matrix;\r\n",
        "# x_dot from state space\r\n",
        "def StateSpace(x, t):\r\n",
        "    return A.dot(x)\r\n",
        "# x_dot from state space\r\n",
        "def controlled_SS(x, t):\r\n",
        "    return (A-B*K).dot(x)\r\n",
        "print(\"\\t>> TASK 1.1.3\")\r\n",
        "print(\"K:\", K)\r\n",
        "#test that eigenvalues of the closed loop system are what they are supposed to be \r\n",
        "e, v = eig(A)\r\n",
        "print(\"Eigenvalues of A:\", e)\r\n",
        "e, v = eig((A - B.dot(K)))\r\n",
        "print(\"Eigenvalues of A - B*K:\", e)\r\n",
        "solution_u = {\"SS\": odeint(StateSpace, x0, time)}\r\n",
        "solution_s = {\"SS\": odeint(controlled_SS, x0, time)}\r\n",
        "fig,p = plt.subplots(2)\r\n",
        "p[0].plot(time,solution_u[\"SS\"])\r\n",
        "p[1].plot(time,solution_s[\"SS\"])\r\n",
        "p[0].set_title('Uncontrolled System.')\r\n",
        "p[1].set_title('Controlled System.')\r\n",
        "plt.subplots_adjust(wspace=0.4,hspace=0.4)\r\n",
        "plt.show()\r\n",
        "\r\n",
        "\r\n",
        "# Task 1.1.4\r\n",
        "n = 2\r\n",
        "A = np.array([\r\n",
        "              [5, -5],\r\n",
        "              [6, 15]\r\n",
        "              ])\r\n",
        "B = np.array([[-10], [10]])\r\n",
        "place_obj = place_poles(A, B, POLES) # Compute K such that eigenvalues (A - dot(B, K))=poles.\r\n",
        "#found control gains\r\n",
        "K = place_obj.gain_matrix;\r\n",
        "# x_dot from state space\r\n",
        "def StateSpace(x, t):\r\n",
        "    return A.dot(x)\r\n",
        "# x_dot from state space\r\n",
        "def controlled_SS(x, t):\r\n",
        "    return (A-B*K).dot(x)\r\n",
        "print(\"\\t>> TASK 1.1.4\")\r\n",
        "print(\"K:\", K)\r\n",
        "#test that eigenvalues of the closed loop system are what they are supposed to be \r\n",
        "e, v = eig(A)\r\n",
        "print(\"Eigenvalues of A:\", e)\r\n",
        "e, v = eig((A - B.dot(K)))\r\n",
        "print(\"Eigenvalues of A - B*K:\", e)\r\n",
        "solution_u = {\"SS\": odeint(StateSpace, x0, time)}\r\n",
        "solution_s = {\"SS\": odeint(controlled_SS, x0, time)}\r\n",
        "fig,p = plt.subplots(2)\r\n",
        "p[0].plot(time,solution_u[\"SS\"])\r\n",
        "p[1].plot(time,solution_s[\"SS\"])\r\n",
        "p[0].set_title('Uncontrolled System.')\r\n",
        "p[1].set_title('Controlled System.')\r\n",
        "plt.subplots_adjust(wspace=0.4,hspace=0.4)\r\n",
        "plt.show()\r\n"
      ],
      "execution_count": null,
      "outputs": [
        {
          "output_type": "stream",
          "text": [
            "\t>> TASK 1.1.1\n",
            "K: [[ 11.5 -13.2]]\n",
            "Eigenvalues of A: [10. 10.]\n",
            "Eigenvalues of A - B*K: [-2. -1.]\n"
          ],
          "name": "stdout"
        },
        {
          "output_type": "display_data",
          "data": {
            "image/png": "[encoded data removed]",
            "text/plain": [
              "<Figure size 432x288 with 2 Axes>"
            ]
          },
          "metadata": {
            "tags": [],
            "needs_background": "light"
          }
        },
        {
          "output_type": "stream",
          "text": [
            "\t>> TASK 1.1.2\n",
            "K: [[ 1.25 35.5 ]]\n",
            "Eigenvalues of A: [ 0.26908014 29.73091986]\n",
            "Eigenvalues of A - B*K: [-1. -2.]\n"
          ],
          "name": "stdout"
        },
        {
          "output_type": "display_data",
          "data": {
            "image/png": "[encoded data removed]",
            "text/plain": [
              "<Figure size 432x288 with 2 Axes>"
            ]
          },
          "metadata": {
            "tags": [],
            "needs_background": "light"
          }
        },
        {
          "output_type": "stream",
          "text": [
            "\t>> TASK 1.1.3\n",
            "K: [[1.42108547e-15 3.00000000e+00]]\n",
            "Eigenvalues of A: [4. 8.]\n",
            "Eigenvalues of A - B*K: [-1. -2.]\n"
          ],
          "name": "stdout"
        },
        {
          "output_type": "display_data",
          "data": {
            "image/png": "[encoded data removed]",
            "text/plain": [
              "<Figure size 432x288 with 2 Axes>"
            ]
          },
          "metadata": {
            "tags": [],
            "needs_background": "light"
          }
        },
        {
          "output_type": "stream",
          "text": [
            "\t>> TASK 1.1.4\n",
            "K: [[-15.  -12.7]]\n",
            "Eigenvalues of A: [10.+2.23606798j 10.-2.23606798j]\n",
            "Eigenvalues of A - B*K: [-2. -1.]\n"
          ],
          "name": "stdout"
        },
        {
          "output_type": "display_data",
          "data": {
            "image/png": "[encoded data removed]",
            "text/plain": [
              "<Figure size 432x288 with 2 Axes>"
            ]
          },
          "metadata": {
            "tags": [],
            "needs_background": "light"
          }
        }
      ]
    },
    {
      "cell_type": "markdown",
      "metadata": {
        "id": "yP7jmU2jLSio"
      },
      "source": [
        "## Task 1.2 Make the following systems stable, proposing appropriate control\r\n",
        "\r\n",
        "$$\\dot x = \r\n",
        "\\begin{pmatrix} 10 & 0 \\\\ -5 & 10\r\n",
        "\\end{pmatrix}\r\n",
        "x\r\n",
        "+\r\n",
        "\\begin{pmatrix} \r\n",
        "2 & 1 \\\\ 0 & -1\r\n",
        "\\end{pmatrix}\r\n",
        "u\r\n",
        "$$\r\n",
        "\r\n",
        "\r\n",
        "$$\\dot x = \r\n",
        "\\begin{pmatrix} 0 & -8 \\\\ 1 & 30\r\n",
        "\\end{pmatrix}\r\n",
        "x\r\n",
        "+\r\n",
        "\\begin{pmatrix} \r\n",
        "-2 & 1 \\\\ 1 & 1\r\n",
        "\\end{pmatrix}\r\n",
        "u\r\n",
        "$$\r\n",
        "\r\n",
        "\r\n",
        "$$\\dot x = \r\n",
        "\\begin{pmatrix} 2 & 2 \\\\ -6 & 10\r\n",
        "\\end{pmatrix}\r\n",
        "x\r\n",
        "+\r\n",
        "\\begin{pmatrix} \r\n",
        "0 & -1 \\\\ 5 & -1\r\n",
        "\\end{pmatrix}\r\n",
        "u\r\n",
        "$$\r\n",
        "\r\n",
        "\r\n",
        "$$\\dot x = \r\n",
        "\\begin{pmatrix} 5 & -5 \\\\ 6 & 15\r\n",
        "\\end{pmatrix}\r\n",
        "x\r\n",
        "+\r\n",
        "\\begin{pmatrix} \r\n",
        "-10 & 3 \\\\ 10 & 3\r\n",
        "\\end{pmatrix}\r\n",
        "u\r\n",
        "$$"
      ]
    },
    {
      "cell_type": "code",
      "metadata": {
        "colab": {
          "base_uri": "https://localhost:8080/",
          "height": 636
        },
        "id": "MDzUOoxy9dPW",
        "outputId": "3addce74-cc89-41f7-ea2b-bf0c93fb4237"
      },
      "source": [
        "import numpy as np\r\n",
        "from numpy.linalg import eig\r\n",
        "from scipy.integrate import odeint\r\n",
        "from scipy.signal import place_poles\r\n",
        "import matplotlib.pyplot as plt\r\n",
        "#desired eigenvalues\r\n",
        "POLES = np.array([-1, -2])\r\n",
        "START_TIME = 0\r\n",
        "END_TIME = 50\r\n",
        "SAMPLES = 1000\r\n",
        "time = np.linspace(START_TIME, END_TIME, SAMPLES)   \r\n",
        "x0 = np.array([1,1])  # initial state\r\n",
        "\r\n",
        "\r\n",
        "# Task 1.2.1\r\n",
        "n = 2\r\n",
        "A = np.array([\r\n",
        "              [10, 0],\r\n",
        "              [-5, 10]\r\n",
        "              ])\r\n",
        "B = np.array([[2,1], [0,-1]])\r\n",
        "place_obj = place_poles(A, B, POLES) # Compute K such that eigenvalues (A - dot(B, K))=poles.\r\n",
        "#found control gains\r\n",
        "K = place_obj.gain_matrix;\r\n",
        "# x_dot from state space\r\n",
        "def StateSpace(x, t):\r\n",
        "    return A.dot(x)\r\n",
        "# x_dot from state space\r\n",
        "def controlled_SS(x, t):\r\n",
        "    return (A-B*K).dot(x)\r\n",
        "print(\"\\t>> TASK 1.2.1\")\r\n",
        "print(\"K:\", K)\r\n",
        "#test that eigenvalues of the closed loop system are what they are supposed to be \r\n",
        "e, v = eig(A)\r\n",
        "print(\"Eigenvalues of A:\", e)\r\n",
        "e, v = eig((A - B.dot(K)))\r\n",
        "print(\"Eigenvalues of A - B*K:\", e)\r\n",
        "solution_u = {\"SS\": odeint(StateSpace, x0, time)}\r\n",
        "solution_s = {\"SS\": odeint(controlled_SS, x0, time)}\r\n",
        "fig,p = plt.subplots(2)\r\n",
        "p[0].plot(time,solution_u[\"SS\"])\r\n",
        "p[1].plot(time,solution_s[\"SS\"])\r\n",
        "p[0].set_title('Uncontrolled System.')\r\n",
        "p[1].set_title('Controlled System.')\r\n",
        "plt.subplots_adjust(wspace=0.4,hspace=0.4)\r\n",
        "plt.show()\r\n",
        "\r\n",
        "\r\n",
        "# Task 1.2.2\r\n",
        "n = 2\r\n",
        "A = np.array([\r\n",
        "              [0, -8],\r\n",
        "              [1, 30]\r\n",
        "              ])\r\n",
        "B = np.array([[-2,1], [1,1]])\r\n",
        "place_obj = place_poles(A, B, POLES) # Compute K such that eigenvalues (A - dot(B, K))=poles.\r\n",
        "#found control gains\r\n",
        "K = place_obj.gain_matrix;\r\n",
        "# x_dot from state space\r\n",
        "def StateSpace(x, t):\r\n",
        "    return A.dot(x)\r\n",
        "# x_dot from state space\r\n",
        "def controlled_SS(x, t):\r\n",
        "    return (A-B*K).dot(x)\r\n",
        "print(\"\\t>> TASK 1.2.2\")\r\n",
        "print(\"K:\", K)\r\n",
        "#test that eigenvalues of the closed loop system are what they are supposed to be \r\n",
        "e, v = eig(A)\r\n",
        "print(\"Eigenvalues of A:\", e)\r\n",
        "e, v = eig((A - B.dot(K)))\r\n",
        "print(\"Eigenvalues of A - B*K:\", e)\r\n",
        "# solution_u = {\"SS\": odeint(StateSpace, x0, time)}\r\n",
        "# solution_s = {\"SS\": odeint(controlled_SS, x0, time)}\r\n",
        "# fig,p = plt.subplots(2)\r\n",
        "# p[0].plot(time,solution_u[\"SS\"])\r\n",
        "# p[1].plot(time,solution_s[\"SS\"])\r\n",
        "# p[0].set_title('Uncontrolled System.')\r\n",
        "# p[1].set_title('Controlled System.')\r\n",
        "# plt.subplots_adjust(wspace=0.4,hspace=0.4)\r\n",
        "# plt.show()\r\n",
        "\r\n",
        "\r\n",
        "# Task 1.2.3\r\n",
        "n = 2\r\n",
        "A = np.array([\r\n",
        "              [2, 2],\r\n",
        "              [-6, 10]\r\n",
        "              ])\r\n",
        "B = np.array([[0,-1], [5,-1]])\r\n",
        "place_obj = place_poles(A, B, POLES) # Compute K such that eigenvalues (A - dot(B, K))=poles.\r\n",
        "#found control gains\r\n",
        "K = place_obj.gain_matrix;\r\n",
        "# x_dot from state space\r\n",
        "def StateSpace(x, t):\r\n",
        "    return A.dot(x)\r\n",
        "# x_dot from state space\r\n",
        "def controlled_SS(x, t):\r\n",
        "    return (A-B*K).dot(x)\r\n",
        "print(\"\\t>> TASK 1.2.3\")\r\n",
        "print(\"K:\", K)\r\n",
        "#test that eigenvalues of the closed loop system are what they are supposed to be \r\n",
        "e, v = eig(A)\r\n",
        "print(\"Eigenvalues of A:\", e)\r\n",
        "e, v = eig((A - B.dot(K)))\r\n",
        "print(\"Eigenvalues of A - B*K:\", e)\r\n",
        "# solution_u = {\"SS\": odeint(StateSpace, x0, time)}\r\n",
        "# solution_s = {\"SS\": odeint(controlled_SS, x0, time)}\r\n",
        "# fig,p = plt.subplots(2)\r\n",
        "# p[0].plot(time,solution_u[\"SS\"])\r\n",
        "# p[1].plot(time,solution_s[\"SS\"])\r\n",
        "# p[0].set_title('Uncontrolled System.')\r\n",
        "# p[1].set_title('Controlled System.')\r\n",
        "# plt.subplots_adjust(wspace=0.4,hspace=0.4)\r\n",
        "# plt.show()\r\n",
        "\r\n",
        "\r\n",
        "# Task 1.2.4\r\n",
        "n = 2\r\n",
        "A = np.array([\r\n",
        "              [5, -5],\r\n",
        "              [6, 15]\r\n",
        "              ])\r\n",
        "B = np.array([[-10,3], [10,3]])\r\n",
        "place_obj = place_poles(A, B, POLES) # Compute K such that eigenvalues (A - dot(B, K))=poles.\r\n",
        "#found control gains\r\n",
        "K = place_obj.gain_matrix;\r\n",
        "# x_dot from state space\r\n",
        "def StateSpace(x, t):\r\n",
        "    return A.dot(x)\r\n",
        "# x_dot from state space\r\n",
        "def controlled_SS(x, t):\r\n",
        "    return (A-B*K).dot(x)\r\n",
        "print(\"\\t>> TASK 1.2.4\")\r\n",
        "print(\"K:\", K)\r\n",
        "#test that eigenvalues of the closed loop system are what they are supposed to be \r\n",
        "e, v = eig(A)\r\n",
        "print(\"Eigenvalues of A:\", e)\r\n",
        "e, v = eig((A - B.dot(K)))\r\n",
        "print(\"Eigenvalues of A - B*K:\", e)\r\n",
        "# solution_u = {\"SS\": odeint(StateSpace, x0, time)}\r\n",
        "# solution_s = {\"SS\": odeint(controlled_SS, x0, time)}\r\n",
        "# fig,p = plt.subplots(2)\r\n",
        "# p[0].plot(time,solution_u[\"SS\"])\r\n",
        "# p[1].plot(time,solution_s[\"SS\"])\r\n",
        "# p[0].set_title('Uncontrolled System.')\r\n",
        "# p[1].set_title('Controlled System.')\r\n",
        "# plt.subplots_adjust(wspace=0.4,hspace=0.4)\r\n",
        "# plt.show()\r\n"
      ],
      "execution_count": null,
      "outputs": [
        {
          "output_type": "stream",
          "text": [
            "\t>> TASK 1.2.1\n",
            "K: [[  3.5   5.5]\n",
            " [  5.  -11. ]]\n",
            "Eigenvalues of A: [10. 10.]\n",
            "Eigenvalues of A - B*K: [-1. -2.]\n"
          ],
          "name": "stdout"
        },
        {
          "output_type": "display_data",
          "data": {
            "image/png": "[encoded data removed]",
            "text/plain": [
              "<Figure size 432x288 with 2 Axes>"
            ]
          },
          "metadata": {
            "tags": [],
            "needs_background": "light"
          }
        },
        {
          "output_type": "stream",
          "text": [
            "\t>> TASK 1.2.2\n",
            "K: [[-0.33333333 13.        ]\n",
            " [ 1.33333333 18.        ]]\n",
            "Eigenvalues of A: [ 0.26908014 29.73091986]\n",
            "Eigenvalues of A - B*K: [-2. -1.]\n",
            "\t>> TASK 1.2.3\n",
            "K: [[-2.   1.8]\n",
            " [-4.  -2. ]]\n",
            "Eigenvalues of A: [4. 8.]\n",
            "Eigenvalues of A - B*K: [-2. -1.]\n",
            "\t>> TASK 1.2.4\n",
            "K: [[-0.05        1.05      ]\n",
            " [ 2.16666667  1.83333333]]\n",
            "Eigenvalues of A: [10.+2.23606798j 10.-2.23606798j]\n",
            "Eigenvalues of A - B*K: [-2. -1.]\n"
          ],
          "name": "stdout"
        }
      ]
    },
    {
      "cell_type": "markdown",
      "metadata": {
        "id": "9ihEn7Alay0P"
      },
      "source": [
        "## Task 1.3 Give example of an unstable system that can't be stabilized...\n",
        "\n",
        "of the form $\\dot x = \n",
        "Ax+Bu$, where $A \\in \\mathbb{R}^{2 \\times 2}$\n",
        "\n",
        "* where $B \\in \\mathbb{R}^{2 \\times 1}$\n",
        "* where $B \\in \\mathbb{R}^{2 \\times 2}$\n",
        "* where $B \\in \\mathbb{R}^{2 \\times 3}$"
      ]
    },
    {
      "cell_type": "code",
      "metadata": {
        "colab": {
          "base_uri": "https://localhost:8080/"
        },
        "id": "0HvqjMGgWhre",
        "outputId": "fe435bc0-98e6-430c-db24-1ead27362b8f"
      },
      "source": [
        "import numpy as np\r\n",
        "from scipy.signal import place_poles\r\n",
        "# Poles\r\n",
        "desired_eigs = np.array([-1,-2])\r\n",
        "\r\n",
        "A1, B1 = np.array([[0,0], [10,10]]), np.array([[0],[10]])\r\n",
        "A2, B2 = np.array([[0,0], [10,10]]), np.array([[0, 0],[10, 10]])\r\n",
        "A3, B3 = np.array([[0,0], [10,10]]), np.array([[0, 0, 0],[10, 10, 10]])\r\n",
        "for i, (A, B) in enumerate(zip((A1, A2, A3), (B1, B2, B3))):\r\n",
        "  try:\r\n",
        "    K = place_poles(A, B, desired_eigs).gain_matrix\r\n",
        "  except Exception as ex:\r\n",
        "    print('''#The linear system with dynamics : \\n \\tA =\\n {0} \\n B =\\n {1}\\n\r\n",
        "     can't be stabilized..., exception:\\n\\t>> {2}'''.format(A,B,ex))"
      ],
      "execution_count": null,
      "outputs": [
        {
          "output_type": "stream",
          "text": [
            "#The linear system with dynamics : \n",
            " \tA =\n",
            " [[ 0  0]\n",
            " [10 10]] \n",
            " B =\n",
            " [[ 0]\n",
            " [10]]\n",
            "\n",
            "     can't be stabilized..., exception:\n",
            "\t>> The poles you've chosen can't be placed. Check the controllability matrix and try another set of poles\n",
            "#The linear system with dynamics : \n",
            " \tA =\n",
            " [[ 0  0]\n",
            " [10 10]] \n",
            " B =\n",
            " [[ 0  0]\n",
            " [10 10]]\n",
            "\n",
            "     can't be stabilized..., exception:\n",
            "\t>> The poles you've chosen can't be placed. Check the controllability matrix and try another set of poles\n",
            "#The linear system with dynamics : \n",
            " \tA =\n",
            " [[ 0  0]\n",
            " [10 10]] \n",
            " B =\n",
            " [[ 0  0  0]\n",
            " [10 10 10]]\n",
            "\n",
            "     can't be stabilized..., exception:\n",
            "\t>> The poles you've chosen can't be placed. Check the controllability matrix and try another set of poles\n"
          ],
          "name": "stdout"
        }
      ]
    },
    {
      "cell_type": "markdown",
      "metadata": {
        "id": "tM_5RDjauNKL"
      },
      "source": [
        "# Root locus"
      ]
    },
    {
      "cell_type": "markdown",
      "metadata": {
        "id": "5xHhRpaCI6Lo"
      },
      "source": [
        "## Task 2.1 Plot root locus\n",
        "\n",
        "* For a system with $A$ with imaginary eigenvalues\n",
        "* For a system with $A$ with real eigenvalues\n",
        "* For a system where real parts of eigenvalues of $(A - BK)$ are all positive\n",
        "* For a system where real parts of eigenvalues of $(A - BK)$ are all negative"
      ]
    },
    {
      "cell_type": "code",
      "metadata": {
        "colab": {
          "base_uri": "https://localhost:8080/",
          "height": 1000
        },
        "id": "Geubr2bJbsNW",
        "outputId": "1953a576-829a-4e2f-8573-9d6dbe1de82f"
      },
      "source": [
        "import matplotlib.pyplot as plt\r\n",
        "import numpy as np\r\n",
        "from numpy.linalg import eig\r\n",
        "\r\n",
        "#TASK 2.1.1\r\n",
        "print(\">>\\tTASK 2.1.1\")\r\n",
        "A = np.array([[6j,0], [2j,7]])\r\n",
        "B = np.array([[1], [0]])\r\n",
        "K0 = np.array([[1, 1]]);\r\n",
        "e, v = eig(A)\r\n",
        "print('eigenvalues of A:',e)\r\n",
        "k_min = -15;\r\n",
        "k_max = 15;\r\n",
        "k_step = 0.1;\r\n",
        "Count = np.floor((k_max-k_min)/k_step)\r\n",
        "Count = Count.astype(int)\r\n",
        "k_range = np.linspace(k_min, k_max, Count)\r\n",
        "E = np.zeros((Count, 4))\r\n",
        "for i in range(Count):\r\n",
        "    K0[0, 0] = k_range[i]\r\n",
        "    ei, v = eig((A - B.dot(K0)))\r\n",
        "    E[i, 0] = np.real(ei[0])\r\n",
        "    E[i, 1] = np.imag(ei[0])\r\n",
        "    E[i, 2] = np.real(ei[1])\r\n",
        "    E[i, 3] = np.imag(ei[1])\r\n",
        "\r\n",
        "plt.plot(E[:, 0], E[:, 1])\r\n",
        "plt.plot(E[:, 2], E[:, 3])\r\n",
        "plt.xlabel('real')\r\n",
        "plt.ylabel('imag')\r\n",
        "plt.show()\r\n",
        "\r\n",
        "#TASK 2.1.2\r\n",
        "print(\">>\\tTASK 2.1.2\")\r\n",
        "A = np.array([[1,-7], [2,-10]])\r\n",
        "B = np.array([[1], [0]])\r\n",
        "K0 = np.array([[1, 1]]);\r\n",
        "e, v = eig(A)\r\n",
        "print('eigenvalues of A:',e)\r\n",
        "k_min = -15;\r\n",
        "k_max = 15;\r\n",
        "k_step = 0.1;\r\n",
        "Count = np.floor((k_max-k_min)/k_step)\r\n",
        "Count = Count.astype(int)\r\n",
        "k_range = np.linspace(k_min, k_max, Count)\r\n",
        "E = np.zeros((Count, 4))\r\n",
        "for i in range(Count):\r\n",
        "    K0[0, 0] = k_range[i]\r\n",
        "    ei, v = eig((A - B.dot(K0)))\r\n",
        "    E[i, 0] = np.real(ei[0])\r\n",
        "    E[i, 1] = np.imag(ei[0])\r\n",
        "    E[i, 2] = np.real(ei[1])\r\n",
        "    E[i, 3] = np.imag(ei[1])\r\n",
        "\r\n",
        "plt.plot(E[:, 0], E[:, 1])\r\n",
        "plt.plot(E[:, 2], E[:, 3])\r\n",
        "plt.xlabel('real')\r\n",
        "plt.ylabel('imag')\r\n",
        "plt.show()\r\n",
        "\r\n",
        "#TASK 2.1.3\r\n",
        "print(\">>\\tTASK 2.1.3\")\r\n",
        "A = np.array([[1, 2.5], [3, 1.5]])\r\n",
        "B = np.array([[-0.5], [1]])\r\n",
        "K0 = np.array([[1.5, 0.2]]);\r\n",
        "e, v = eig(A)\r\n",
        "print('eigenvalues of A:',e)\r\n",
        "k_min = 1;\r\n",
        "k_max = 10;\r\n",
        "k_step = 0.1;\r\n",
        "Count = np.floor((k_max-k_min)/k_step)\r\n",
        "Count = Count.astype(int)\r\n",
        "k_range = np.linspace(k_min, k_max, Count)\r\n",
        "E = np.zeros((Count, 4))\r\n",
        "for i in range(Count):\r\n",
        "    K0[0, 0] = k_range[i]\r\n",
        "    ei, v = eig((A - B.dot(K0)))\r\n",
        "    E[i, 0] = np.real(ei[0])\r\n",
        "    E[i, 1] = np.imag(ei[0])\r\n",
        "    E[i, 2] = np.real(ei[1])\r\n",
        "    E[i, 3] = np.imag(ei[1]) \r\n",
        "\r\n",
        "plt.plot(E[:, 0], E[:, 1])\r\n",
        "plt.plot(E[:, 2], E[:, 3])\r\n",
        "plt.xlabel('real')\r\n",
        "plt.ylabel('imag')\r\n",
        "plt.show()\r\n",
        "\r\n",
        "#TASK 2.1.4\r\n",
        "print(\">>\\tTASK 2.1.4\")\r\n",
        "A = np.array([[-1, 2.5], [3, 1.5]])\r\n",
        "B = np.array([[0.5], [1]])\r\n",
        "K0 = np.array([[1.5, 0.2]]);\r\n",
        "e, v = eig(A)\r\n",
        "print('eigenvalues of A:',e)\r\n",
        "k_min = 1;\r\n",
        "k_max = 10;\r\n",
        "k_step = 0.1;\r\n",
        "Count = np.floor((k_max-k_min)/k_step)\r\n",
        "Count = Count.astype(int)\r\n",
        "k_range = np.linspace(k_min, k_max, Count)\r\n",
        "E = np.zeros((Count, 4))\r\n",
        "for i in range(Count):\r\n",
        "    K0[0, 0] = k_range[i]\r\n",
        "    ei, v = eig((A - B.dot(K0)))\r\n",
        "    E[i, 0] = np.real(ei[0])\r\n",
        "    E[i, 1] = np.imag(ei[0])\r\n",
        "    E[i, 2] = np.real(ei[1])\r\n",
        "    E[i, 3] = np.imag(ei[1]) \r\n",
        "\r\n",
        "plt.plot(E[:, 0], E[:, 1])\r\n",
        "plt.plot(E[:, 2], E[:, 3])\r\n",
        "plt.xlabel('real')\r\n",
        "plt.ylabel('imag')\r\n",
        "plt.show()"
      ],
      "execution_count": 7,
      "outputs": [
        {
          "output_type": "stream",
          "text": [
            ">>\tTASK 2.1.1\n",
            "eigenvalues of A: [7.+0.j 0.+6.j]\n"
          ],
          "name": "stdout"
        },
        {
          "output_type": "display_data",
          "data": {
            "image/png": "[encoded data removed]",
            "text/plain": [
              "<Figure size 432x288 with 1 Axes>"
            ]
          },
          "metadata": {
            "tags": [],
            "needs_background": "light"
          }
        },
        {
          "output_type": "stream",
          "text": [
            ">>\tTASK 2.1.2\n",
            "eigenvalues of A: [-0.46887113 -8.53112887]\n"
          ],
          "name": "stdout"
        },
        {
          "output_type": "display_data",
          "data": {
            "image/png": "[encoded data removed]",
            "text/plain": [
              "<Figure size 432x288 with 1 Axes>"
            ]
          },
          "metadata": {
            "tags": [],
            "needs_background": "light"
          }
        },
        {
          "output_type": "stream",
          "text": [
            ">>\tTASK 2.1.3\n",
            "eigenvalues of A: [-1.5  4. ]\n"
          ],
          "name": "stdout"
        },
        {
          "output_type": "display_data",
          "data": {
            "image/png": "[encoded data removed]",
            "text/plain": [
              "<Figure size 432x288 with 1 Axes>"
            ]
          },
          "metadata": {
            "tags": [],
            "needs_background": "light"
          }
        },
        {
          "output_type": "stream",
          "text": [
            ">>\tTASK 2.1.4\n",
            "eigenvalues of A: [-2.76039864  3.26039864]\n"
          ],
          "name": "stdout"
        },
        {
          "output_type": "display_data",
          "data": {
            "image/png": "[encoded data removed]",
            "text/plain": [
              "<Figure size 432x288 with 1 Axes>"
            ]
          },
          "metadata": {
            "tags": [],
            "needs_background": "light"
          }
        }
      ]
    },
    {
      "cell_type": "markdown",
      "metadata": {
        "id": "jhEnCmOtK91k"
      },
      "source": [
        "# Reaction to inputs"
      ]
    },
    {
      "cell_type": "markdown",
      "metadata": {
        "id": "psIIY0rZL3uU"
      },
      "source": [
        "## Task 3 Step function\r\n",
        "### Task 3.1 Simulate the first system of (1.1) with a step function as an input.\r\n",
        "\r\n",
        "### Task 3.2 Linear combination of solutions\r\n",
        "\r\n",
        "Simulate the first system of (1.1) with two different step functions $f_1$,  $f_2$ as an input, and with $f_1+f_2$ as an input. Compare the solutions for $f_1$,  $f_2$ with the solution for $f_1+f_2$.\r\n",
        "\r\n",
        "$$ f_1 = \r\n",
        "\\begin{cases} \r\n",
        "1, \\ \\ \\ t \\geq t_1 \\\\\r\n",
        "0, \\ \\ \\ t < t_1\r\n",
        "\\end{cases} \r\n",
        "$$\r\n",
        "$$ f_2 = \r\n",
        "\\begin{cases} \r\n",
        "1, \\ \\ \\ t \\geq t_2 \\\\\r\n",
        "0, \\ \\ \\ t < t_2\r\n",
        "\\end{cases} \r\n",
        "$$"
      ]
    },
    {
      "cell_type": "code",
      "metadata": {
        "colab": {
          "base_uri": "https://localhost:8080/",
          "height": 762
        },
        "id": "l3UEApZAsAV1",
        "outputId": "711a0548-2f4b-4403-c4eb-8bea3841815c"
      },
      "source": [
        "import numpy as np\r\n",
        "from numpy.linalg import eig\r\n",
        "from scipy.integrate import odeint\r\n",
        "from scipy.signal import place_poles\r\n",
        "import matplotlib.pyplot as plt\r\n",
        "#desired eigenvalues\r\n",
        "n=2\r\n",
        "POLES = np.array([-1, -2])\r\n",
        "START_TIME = -1\r\n",
        "END_TIME = 1\r\n",
        "SAMPLES = 1000\r\n",
        "time = np.linspace(START_TIME, END_TIME, SAMPLES)   \r\n",
        "x0 = np.random.rand(n)  # initial state\r\n",
        "#TASK 3.1\r\n",
        "def step(t):\r\n",
        "  return 1 if t>=0 else 0\r\n",
        "n = 2\r\n",
        "A = np.array([[10, 0], [-5, 10]])\r\n",
        "B = np.array([2, 0])\r\n",
        "def StateSpace(x, t):\r\n",
        "    return A.dot(x) + B*step(t)\r\n",
        "print(\">>\\tTASK 3.1\")\r\n",
        "solution = {\"SS\": odeint(StateSpace, x0, time)}\r\n",
        "plt.plot(time, solution[\"SS\"])\r\n",
        "plt.xlabel('time')\r\n",
        "plt.ylabel('system behaviour')\r\n",
        "plt.show()\r\n",
        "\r\n",
        "#TASK 3.2\r\n",
        "T1 = 0.25\r\n",
        "T2 = 0.50\r\n",
        "def f1(t):\r\n",
        "  return 1 if t>=T1 else 0\r\n",
        "def f2(t):\r\n",
        "  return 1 if t>=T2 else 0\r\n",
        "n = 2\r\n",
        "A = np.array([[10, 0], [-5, 10]])\r\n",
        "B = np.array([2, 0])\r\n",
        "def StateSpace(x, t):\r\n",
        "    return A.dot(x) \r\n",
        "def StateSpace_f1(x, t):\r\n",
        "    return A.dot(x)+ B*(f1(t))\r\n",
        "def StateSpace_f2(x, t):\r\n",
        "    return A.dot(x)+ B*(f2(t))\r\n",
        "def StateSpace_f1f2(x, t):\r\n",
        "    return A.dot(x)+ B*(f1(t)+f2(t))\r\n",
        "print(\">>\\tTASK 3.2\")\r\n",
        "solution = {\"SS\": odeint(StateSpace, x0, time)}\r\n",
        "solution1 =  {\"SS\": odeint(StateSpace_f1, x0, time)}\r\n",
        "solution2 =  {\"SS\": odeint(StateSpace_f2, x0, time)}\r\n",
        "solution12 = {\"SS\": odeint(StateSpace_f1f2, x0, time)}\r\n",
        "mysignals = ([{'name': 'F1',   'x': time,\r\n",
        "             'y': solution1[\"SS\"], 'color':'r', 'linewidth':1},\r\n",
        "            {'name': 'F2',    'x': time,\r\n",
        "             'y': solution2[\"SS\"], 'color':'b', 'linewidth':2},\r\n",
        "            {'name': 'F1+F2', 'x': time,\r\n",
        "             'y': solution12[\"SS\"], 'color':'k', 'linewidth':3}])\r\n",
        "\r\n",
        "fig, ax = plt.subplots()\r\n",
        "for signal in mysignals:\r\n",
        "    ax.plot(signal['x'], signal['y'], \r\n",
        "            color=signal['color'], \r\n",
        "            linewidth=signal['linewidth'],\r\n",
        "            label=signal['name'])\r\n",
        "\r\n",
        "# Enable legend\r\n",
        "ax.legend()\r\n",
        "plt.show()\r\n",
        "print('''Seems this means is as follows:\\n\\t\r\n",
        "        |for t<T1; System is Autonomus LTI\\n\\t\r\n",
        "        |for T1<=t<T2; System is LTI dependent to time\\n\\t\r\n",
        "        |for T2<=t; System is LTI dependent to time with (F1+F2) times faster time\r\n",
        "         respose (2x)\\n\\t\r\n",
        " ''')"
      ],
      "execution_count": null,
      "outputs": [
        {
          "output_type": "stream",
          "text": [
            ">>\tTASK 3.1\n"
          ],
          "name": "stdout"
        },
        {
          "output_type": "display_data",
          "data": {
            "image/png": "[encoded data removed]",
            "text/plain": [
              "<Figure size 432x288 with 1 Axes>"
            ]
          },
          "metadata": {
            "tags": [],
            "needs_background": "light"
          }
        },
        {
          "output_type": "stream",
          "text": [
            ">>\tTASK 3.2\n"
          ],
          "name": "stdout"
        },
        {
          "output_type": "display_data",
          "data": {
            "image/png": "[encoded data removed]",
            "text/plain": [
              "<Figure size 432x288 with 1 Axes>"
            ]
          },
          "metadata": {
            "tags": [],
            "needs_background": "light"
          }
        },
        {
          "output_type": "stream",
          "text": [
            "Seems this means is as follows:\n",
            "\t\n",
            "        |for t<T1; System is Autonomus LTI\n",
            "\t\n",
            "        |for T1<=t<T2; System is LTI dependent to time\n",
            "\t\n",
            "        |for T2<=t; System is LTI dependent to time with (F1+F2) times faster time\n",
            "         respose (2x)\n",
            "\t\n",
            " \n"
          ],
          "name": "stdout"
        }
      ]
    },
    {
      "cell_type": "markdown",
      "metadata": {
        "id": "wgKqFhcZLB4E"
      },
      "source": [
        "## Task 4 Sinusoidal input\n",
        "### Taks 4.1 Simulate the first system of (1.1) with a sinusoidal input $u = sin(wt)$.\n",
        "\n",
        "How does the choice of $w$ affects the result?\n",
        "### Task 4.2 Make the frequency diagrams for the fist 2 systems you studied in the tasks 1.1"
      ]
    },
    {
      "cell_type": "code",
      "metadata": {
        "colab": {
          "base_uri": "https://localhost:8080/",
          "height": 300
        },
        "id": "dwio-kZwCG89",
        "outputId": "cae04988-1254-48b0-acc5-8705d237a3ba"
      },
      "source": [
        "import numpy as np\r\n",
        "from scipy.integrate import odeint\r\n",
        "import matplotlib.pyplot as plt\r\n",
        "START_TIME = 0\r\n",
        "END_TIME = 1\r\n",
        "SAMPLES = 500000\r\n",
        "time = np.linspace(START_TIME, END_TIME, SAMPLES)   \r\n",
        "x0 = np.array([1,1])  # initial state\r\n",
        "# Task 4.1\r\n",
        "n = 2\r\n",
        "A = np.array([\r\n",
        "              [10, 0],\r\n",
        "              [-5, 10]\r\n",
        "              ])\r\n",
        "B = np.array([[2], [0]])\r\n",
        "\r\n",
        "\r\n",
        "def StateSpace1KHz(x, t):\r\n",
        "    return A.dot(x)+B.dot(np.array([np.sin(2*np.pi*1000*t)]))\r\n",
        "solution1KHz = {\"SS\": odeint(StateSpace1KHz, x0, time)}\r\n",
        "def StateSpace2KHz(x, t):\r\n",
        "    return A.dot(x)+B.dot(np.array([np.sin(2*np.pi*2000*t)]))\r\n",
        "solution2KHz = {\"SS\": odeint(StateSpace2KHz, x0, time)}\r\n",
        "def StateSpace3KHz(x, t):\r\n",
        "    return A.dot(x)+B.dot(np.array([np.sin(2*np.pi*3000*t)]))\r\n",
        "solution3KHz = {\"SS\": odeint(StateSpace3KHz, x0, time)}\r\n",
        "def StateSpace4KHz(x, t):\r\n",
        "    return A.dot(x)+B.dot(np.array([np.sin(2*np.pi*4000*t)]))\r\n",
        "solution4KHz = {\"SS\": odeint(StateSpace4KHz, x0, time)}\r\n",
        "def StateSpace5KHz(x, t):\r\n",
        "    return A.dot(x)+B.dot(np.array([np.sin(2*np.pi*5000*t)]))\r\n",
        "solution5KHz = {\"SS\": odeint(StateSpace5KHz, x0, time)}\r\n",
        "\r\n",
        "print(\"\\t>> TASK 4.1\")\r\n",
        "mysignals = ([{'name': '1KHz',   'x': time,\r\n",
        "             'y': solution1KHz[\"SS\"], 'color':'r', 'linewidth':0.5},\r\n",
        "            {'name': '200KHz',    'x': time,\r\n",
        "             'y': solution2KHz[\"SS\"], 'color':'b', 'linewidth':0.5},\r\n",
        "            {'name': '300KHz', 'x': time,\r\n",
        "             'y': solution3KHz[\"SS\"], 'color':'k', 'linewidth':0.5},\r\n",
        "            {'name': '400KHz',    'x': time,\r\n",
        "             'y': solution4KHz[\"SS\"], 'color':'y', 'linewidth':0.5},\r\n",
        "            {'name': '500KHz', 'x': time,\r\n",
        "             'y': solution5KHz[\"SS\"], 'color':'g', 'linewidth':0.5}])\r\n",
        "\r\n",
        "fig, ax = plt.subplots()\r\n",
        "for signal in mysignals:\r\n",
        "    ax.plot(signal['x'], signal['y'], \r\n",
        "            color=signal['color'], \r\n",
        "            linewidth=signal['linewidth'],\r\n",
        "            label=signal['name'])\r\n",
        "\r\n",
        "# Enable legend\r\n",
        "ax.legend()\r\n",
        "plt.show()\r\n",
        "\r\n",
        "\r\n"
      ],
      "execution_count": null,
      "outputs": [
        {
          "output_type": "stream",
          "text": [
            "\t>> TASK 4.1\n"
          ],
          "name": "stdout"
        },
        {
          "output_type": "display_data",
          "data": {
            "image/png": "[encoded data removed]",
            "text/plain": [
              "<Figure size 432x288 with 1 Axes>"
            ]
          },
          "metadata": {
            "tags": [],
            "needs_background": "light"
          }
        },
        {
          "output_type": "stream",
          "text": [
            "It shows that with increment of frequecy which results in more \n"
          ],
          "name": "stdout"
        }
      ]
    },
    {
      "cell_type": "code",
      "metadata": {
        "colab": {
          "base_uri": "https://localhost:8080/",
          "height": 371
        },
        "id": "hFmqENTi7YtQ",
        "outputId": "17771d8b-cae2-4ade-daa3-89c9e1e3e927"
      },
      "source": [
        "from scipy.signal import ss2tf\r\n",
        "from scipy.signal import freqz\r\n",
        "\r\n",
        "#TASK 4.2.1\r\n",
        "A = np.array([[10, 0], [-5, 10]])\r\n",
        "B = np.array([[2], [0]])\r\n",
        "C = np.eye(2)\r\n",
        "D = np.zeros((2, 1))\r\n",
        "\r\n",
        "num, den = ss2tf(A, B, C, D)\r\n",
        "print(\">>\\tTASK 4.2.1\")\r\n",
        "print(\"num:\", num)\r\n",
        "print(\"den:\", den)\r\n",
        "\r\n",
        "w1, h1 = freqz(num[0, :], den)\r\n",
        "w2, h2 = freqz(num[1, :], den)\r\n",
        "\r\n",
        "plt.subplot(211)\r\n",
        "plt.plot(w1, 20 * np.log10(abs(h1)), 'b')\r\n",
        "plt.ylabel('Amplitude [dB]', color='b')\r\n",
        "plt.xlabel('Frequency [rad/sample]')\r\n",
        "\r\n",
        "plt.subplot(212)\r\n",
        "plt.plot(w2, 20 * np.log10(abs(h2)), 'b')\r\n",
        "plt.ylabel('Amplitude [dB]', color='b')\r\n",
        "plt.xlabel('Frequency [rad/sample]')"
      ],
      "execution_count": null,
      "outputs": [
        {
          "output_type": "stream",
          "text": [
            ">>\tTASK 4.2.1\n",
            "num: [[  0.   2. -20.]\n",
            " [  0.   0. -10.]]\n",
            "den: [  1. -20. 100.]\n"
          ],
          "name": "stdout"
        },
        {
          "output_type": "execute_result",
          "data": {
            "text/plain": [
              "Text(0.5, 0, 'Frequency [rad/sample]')"
            ]
          },
          "metadata": {
            "tags": []
          },
          "execution_count": 154
        },
        {
          "output_type": "display_data",
          "data": {
            "image/png": "[encoded data removed]",
            "text/plain": [
              "<Figure size 432x288 with 2 Axes>"
            ]
          },
          "metadata": {
            "tags": [],
            "needs_background": "light"
          }
        }
      ]
    },
    {
      "cell_type": "code",
      "metadata": {
        "colab": {
          "base_uri": "https://localhost:8080/",
          "height": 371
        },
        "id": "2QAVxRkQ-vhj",
        "outputId": "74fadec0-f776-4a50-ee1c-aa1471afbc00"
      },
      "source": [
        "from scipy.signal import ss2tf\r\n",
        "from scipy.signal import freqz\r\n",
        "\r\n",
        "#TASK 4.2.2\r\n",
        "A = np.array([[10, 0], [-5, 10]])\r\n",
        "B = np.array([[2,1], [0,-1]])\r\n",
        "C = np.eye(2)\r\n",
        "D = np.zeros((2, 2))\r\n",
        "\r\n",
        "num, den = ss2tf(A, B, C, D)\r\n",
        "print(\">>\\tTASK 4.2.2\")\r\n",
        "print(\"num:\", num)\r\n",
        "print(\"den:\", den)\r\n",
        "\r\n",
        "w1, h1 = freqz(num[0, :], den)\r\n",
        "w2, h2 = freqz(num[1, :], den)\r\n",
        "\r\n",
        "plt.subplot(211)\r\n",
        "plt.plot(w1, 20 * np.log10(abs(h1)), 'b')\r\n",
        "plt.ylabel('Amplitude [dB]', color='b')\r\n",
        "plt.xlabel('Frequency [rad/sample]')\r\n",
        "\r\n",
        "plt.subplot(212)\r\n",
        "plt.plot(w2, 20 * np.log10(abs(h2)), 'b')\r\n",
        "plt.ylabel('Amplitude [dB]', color='b')\r\n",
        "plt.xlabel('Frequency [rad/sample]')"
      ],
      "execution_count": null,
      "outputs": [
        {
          "output_type": "stream",
          "text": [
            ">>\tTASK 4.2.2\n",
            "num: [[  0.   2. -20.]\n",
            " [  0.   0. -10.]]\n",
            "den: [  1. -20. 100.]\n"
          ],
          "name": "stdout"
        },
        {
          "output_type": "execute_result",
          "data": {
            "text/plain": [
              "Text(0.5, 0, 'Frequency [rad/sample]')"
            ]
          },
          "metadata": {
            "tags": []
          },
          "execution_count": 155
        },
        {
          "output_type": "display_data",
          "data": {
            "image/png": "[encoded data removed]",
            "text/plain": [
              "<Figure size 432x288 with 2 Axes>"
            ]
          },
          "metadata": {
            "tags": [],
            "needs_background": "light"
          }
        }
      ]
    },
    {
      "cell_type": "markdown",
      "metadata": {
        "id": "q9cvPJzPxVT3"
      },
      "source": [
        "# Point-to-point control\n"
      ]
    },
    {
      "cell_type": "markdown",
      "metadata": {
        "id": "oV0YON4woFXh"
      },
      "source": [
        "## Task 5.1 Design point-to-point control and simulate the first system of (1.1) for  the following two cases:\n",
        "\n"
      ]
    },
    {
      "cell_type": "markdown",
      "metadata": {
        "id": "tavINuC0a94N"
      },
      "source": [
        "\r\n",
        "* where $B \\in \\mathbb{R}^{2 \\times 1}$ \\\\\r\n",
        "For LTI :\r\n",
        "$$\\dot x = \r\n",
        "\\begin{bmatrix} 10 & 0 \\\\ -5 & 10\r\n",
        "\\end{bmatrix}\r\n",
        "x\r\n",
        "+\r\n",
        "\\begin{bmatrix} \r\n",
        "2 \\\\ 0\r\n",
        "\\end{bmatrix}\r\n",
        "u\r\n",
        "$$\r\n",
        "by control law: $$u = \r\n",
        "-K (x - x^*) + u^*$$\r\n",
        "For the solution \r\n",
        "$$x^* = \\begin{bmatrix} \r\n",
        "0.2 \\\\ 0.1\r\n",
        "\\end{bmatrix}$$ \r\n",
        " **Feed-forward design**\r\n",
        "$$ \\xrightarrow{\\dot{x^*}=0}\\vec{0} = \\begin{bmatrix} 10 & 0 \\\\ -5 & 10\r\n",
        "\\end{bmatrix} \\begin{bmatrix} \r\n",
        "0.2 \\\\ 0.1\r\n",
        "\\end{bmatrix}+\\begin{bmatrix} \r\n",
        "2 \\\\ 0\r\n",
        "\\end{bmatrix} u^*$$\r\n",
        "$$\\rightarrow u^* = -1$$\r\n",
        " **Error Dynamics**\r\n",
        "$$\\dot{e} = \\dot{x} - \\dot{x}^*=\\begin{bmatrix} 10 & 0 \\\\ -5 & 10\r\n",
        "\\end{bmatrix}\r\n",
        "x\r\n",
        " - \r\n",
        "\\begin{bmatrix} 10 & 0 \\\\ -5 & 10\r\n",
        "\\end{bmatrix}\r\n",
        "x^*\r\n",
        "+\r\n",
        "\\begin{bmatrix} \r\n",
        "2 \\\\ 0\r\n",
        "\\end{bmatrix}(-K (x - x^*) + u^*)\r\n",
        "-\r\n",
        "\\begin{bmatrix} \r\n",
        "2 \\\\ 0\r\n",
        "\\end{bmatrix}\r\n",
        "u^*$$\r\n",
        "$$\\dot{e}=\\begin{bmatrix} 10 & 0 \\\\ -5 & 10\r\n",
        "\\end{bmatrix}e-\\begin{bmatrix} \r\n",
        "2 \\\\ 0\r\n",
        "\\end{bmatrix}Ke$$\r\n"
      ]
    },
    {
      "cell_type": "markdown",
      "metadata": {
        "id": "RGWBhO69cZp9"
      },
      "source": [
        "#### Design FeedBack Control"
      ]
    },
    {
      "cell_type": "code",
      "metadata": {
        "colab": {
          "base_uri": "https://localhost:8080/"
        },
        "id": "66c-G5UrbMmi",
        "outputId": "73304a91-f011-41fb-a386-83b1d8c5eec9"
      },
      "source": [
        "import numpy as np\r\n",
        "from numpy.linalg import eig\r\n",
        "from scipy.integrate import odeint\r\n",
        "from scipy.signal import place_poles\r\n",
        "A = np.array([[10,0], [-5, 10]])\r\n",
        "B = np.array([[2], [0]])\r\n",
        "#desired eigenvalues\r\n",
        "poles = np.array([0.2, 0.1])\r\n",
        "place_obj = place_poles(A, B, poles)\r\n",
        "#found control gains\r\n",
        "K = place_obj.gain_matrix;\r\n",
        "print(\"K:\", K)\r\n",
        "#test that eigenvalues of the closed loop system are what they are supposed to be \r\n",
        "e, v = eig((A - B.dot(K)))\r\n",
        "print(\"eigenvalues of A - B*K:\", e)"
      ],
      "execution_count": null,
      "outputs": [
        {
          "output_type": "stream",
          "text": [
            "K: [[ 9.85  -9.702]]\n",
            "eigenvalues of A - B*K: [0.1 0.2]\n"
          ],
          "name": "stdout"
        }
      ]
    },
    {
      "cell_type": "markdown",
      "metadata": {
        "id": "QbnSg10Mcs88"
      },
      "source": [
        "#### Simulate forward with found control"
      ]
    },
    {
      "cell_type": "code",
      "metadata": {
        "colab": {
          "base_uri": "https://localhost:8080/",
          "height": 1000
        },
        "id": "arFmJNj6czF6",
        "outputId": "26f501e4-2bb3-4061-988a-96859e2ef227"
      },
      "source": [
        "x_desired = np.array([0.2,0.1])\r\n",
        "u_desired = np.array([-1])\r\n",
        "\r\n",
        "\r\n",
        "def StateSpace(x, t):\r\n",
        "    u = -K.dot(x - x_desired) + u_desired\r\n",
        "    return A.dot(x) + B.dot(u)\r\n",
        "\r\n",
        "time = np.linspace(0, 30, 30000)   \r\n",
        "x0 = np.random.rand(n)  # initial state\r\n",
        "\r\n",
        "solution = {\"solution_1\": odeint(StateSpace, x0, time)}    \r\n",
        "\r\n",
        "\r\n",
        "plt.rcParams['figure.figsize'] = [20, 20]\r\n",
        "\r\n",
        "# plt.rcParams[\"font.family\"] = \"Old Times American\"\r\n",
        "plt.rcParams[\"font.size\"] = 16\r\n",
        "plt.rcParams[\"font.weight\"] = 'normal'\r\n",
        "\r\n",
        "\r\n",
        "# plt.subplot(221)\r\n",
        "plt.plot(time, solution[\"solution_1\"], linewidth=2)\r\n",
        "plt.xlabel('time')\r\n",
        "plt.ylabel('x(t)')\r\n",
        "plt.grid(color='k', linestyle='--', linewidth=0.7, alpha=0.3)\r\n",
        "# plt.title('autonomous')"
      ],
      "execution_count": null,
      "outputs": [
        {
          "output_type": "stream",
          "text": [
            "/usr/local/lib/python3.7/dist-packages/scipy/integrate/odepack.py:248: ODEintWarning: Excess work done on this call (perhaps wrong Dfun type). Run with full_output = 1 to get quantitative information.\n",
            "  warnings.warn(warning_msg, ODEintWarning)\n"
          ],
          "name": "stderr"
        },
        {
          "output_type": "display_data",
          "data": {
            "image/png": "[encoded data removed]",
            "text/plain": [
              "<Figure size 1440x1440 with 1 Axes>"
            ]
          },
          "metadata": {
            "tags": [],
            "needs_background": "light"
          }
        }
      ]
    },
    {
      "cell_type": "markdown",
      "metadata": {
        "id": "GFfpJENUbKmo"
      },
      "source": [
        "* where $B \\in \\mathbb{R}^{2 \\times 2}$\r\n",
        "\r\n",
        "For LTI :\r\n",
        "$$\\dot x = \r\n",
        "\\begin{bmatrix} 10 & 0 \\\\ -5 & 10\r\n",
        "\\end{bmatrix}\r\n",
        "x\r\n",
        "+\r\n",
        "\\begin{bmatrix} \r\n",
        "2&1 \\\\ 0&-1\r\n",
        "\\end{bmatrix}\r\n",
        "u\r\n",
        "$$\r\n",
        "by control law: $$u = \r\n",
        "-K (x - x^*) + u^*$$\r\n",
        "For the solution \r\n",
        "$$x^* = \\begin{bmatrix} \r\n",
        "2 \\\\ 0\r\n",
        "\\end{bmatrix}$$ \r\n",
        " **Feed-forward design**\r\n",
        "$$ \\xrightarrow{\\dot{x^*}=0}\\vec{0} = \\begin{bmatrix} 10 & 0 \\\\ -5 & 10\r\n",
        "\\end{bmatrix} \\begin{bmatrix} \r\n",
        "2 \\\\ 0\r\n",
        "\\end{bmatrix}+\\begin{bmatrix} \r\n",
        "2&1 \\\\ 0&-1\r\n",
        "\\end{bmatrix} u^*$$\r\n",
        "$$\\rightarrow u^* =\\begin{bmatrix} \r\n",
        "-5 \\\\ -10\r\n",
        "\\end{bmatrix}$$\r\n",
        " **Error Dynamics**\r\n",
        "$$\\dot{e} = \\dot{x} - \\dot{x}^*=\\begin{bmatrix} 10 & 0 \\\\ -5 & 10\r\n",
        "\\end{bmatrix}\r\n",
        "x\r\n",
        " - \r\n",
        "\\begin{bmatrix} 10 & 0 \\\\ -5 & 10\r\n",
        "\\end{bmatrix}\r\n",
        "x^*\r\n",
        "+\r\n",
        "\\begin{bmatrix} \r\n",
        "2&1 \\\\ 0&-1\r\n",
        "\\end{bmatrix}(-K (x - x^*) + u^*)\r\n",
        "-\r\n",
        "\\begin{bmatrix} \r\n",
        "2&1 \\\\ 0&-1\r\n",
        "\\end{bmatrix}\r\n",
        "u^*$$\r\n",
        "$$\\dot{e}=\\begin{bmatrix} 10 & 0 \\\\ -5 & 10\r\n",
        "\\end{bmatrix}e-\\begin{bmatrix} \r\n",
        "2&1 \\\\ 0&-1\r\n",
        "\\end{bmatrix}Ke$$"
      ]
    },
    {
      "cell_type": "markdown",
      "metadata": {
        "id": "NmbYILUmjTsn"
      },
      "source": [
        "#### Design FeedBack Control"
      ]
    },
    {
      "cell_type": "code",
      "metadata": {
        "colab": {
          "base_uri": "https://localhost:8080/"
        },
        "id": "jcNlltDwjhn4",
        "outputId": "9d006e2b-d98e-42b2-88aa-7260af782ad1"
      },
      "source": [
        "import numpy as np\r\n",
        "from numpy.linalg import eig\r\n",
        "from scipy.integrate import odeint\r\n",
        "from scipy.signal import place_poles\r\n",
        "A = np.array([[10,0], [-5, 10]])\r\n",
        "B = np.array([[2,1], [0,-1]])\r\n",
        "#desired eigenvalues\r\n",
        "poles = np.array([-1,2])\r\n",
        "place_obj = place_poles(A, B, poles)\r\n",
        "#found control gains\r\n",
        "K = place_obj.gain_matrix;\r\n",
        "print(\"K:\", K)\r\n",
        "#test that eigenvalues of the closed loop system are what they are supposed to be \r\n",
        "e, v = eig((A - B.dot(K)))\r\n",
        "print(\"eigenvalues of A - B*K:\", e)"
      ],
      "execution_count": null,
      "outputs": [
        {
          "output_type": "stream",
          "text": [
            "K: [[ 3.  4.]\n",
            " [ 5. -8.]]\n",
            "eigenvalues of A - B*K: [-1.  2.]\n"
          ],
          "name": "stdout"
        }
      ]
    },
    {
      "cell_type": "markdown",
      "metadata": {
        "id": "EQDJQXqte6BF"
      },
      "source": [
        "#### Simulate forward with found control"
      ]
    },
    {
      "cell_type": "code",
      "metadata": {
        "colab": {
          "base_uri": "https://localhost:8080/",
          "height": 288
        },
        "id": "zkDEQdpKjjSN",
        "outputId": "62999e7c-a7b6-4e65-8afc-7a1c0930defb"
      },
      "source": [
        "x_desired = np.array([1,0])\r\n",
        "u_desired = np.array([-5,-10])\r\n",
        "\r\n",
        "\r\n",
        "\r\n",
        "def StateSpace(x, t):\r\n",
        "    u = -K.dot(x - x_desired) + u_desired\r\n",
        "    return A.dot(x) + B.dot(u)\r\n",
        "\r\n",
        "time = np.linspace(0, 30, 30000)   \r\n",
        "x0 = np.random.rand(n)  # initial state\r\n",
        "\r\n",
        "solution = {\"solution_1\": odeint(StateSpace, x0, time)}    \r\n",
        "\r\n",
        "\r\n",
        "# plt.rcParams['figure.figsize'] = [20, 20]\r\n",
        "\r\n",
        "# plt.rcParams[\"font.family\"] = \"Old Times American\"\r\n",
        "plt.rcParams[\"font.size\"] = 16\r\n",
        "plt.rcParams[\"font.weight\"] = 'normal'\r\n",
        "\r\n",
        "\r\n",
        "# plt.subplot(221)\r\n",
        "plt.plot(time, solution[\"solution_1\"], linewidth=2)\r\n",
        "plt.xlabel('time')\r\n",
        "plt.ylabel('x(t)')\r\n",
        "plt.grid(color='k', linestyle='--', linewidth=0.7, alpha=0.3)\r\n",
        "# plt.title('autonomous')"
      ],
      "execution_count": 11,
      "outputs": [
        {
          "output_type": "display_data",
          "data": {
            "image/png": "[encoded data removed]",
            "text/plain": [
              "<Figure size 432x288 with 1 Axes>"
            ]
          },
          "metadata": {
            "tags": [],
            "needs_background": "light"
          }
        }
      ]
    },
    {
      "cell_type": "markdown",
      "metadata": {
        "id": "qPIUMyddyBp7"
      },
      "source": [
        "# Discrete systems"
      ]
    },
    {
      "cell_type": "markdown",
      "metadata": {
        "id": "Mxc6gPUM9Qcb"
      },
      "source": [
        "## Task 6.1 Find which of the following systems is stable:\r\n",
        "\r\n",
        "$$x_{i+1} = \r\n",
        "\\begin{bmatrix} 0.5 & 0.1 \\\\ -0.05 & 0.2\r\n",
        "\\end{bmatrix}\r\n",
        "x_i\r\n",
        "$$"
      ]
    },
    {
      "cell_type": "code",
      "metadata": {
        "colab": {
          "base_uri": "https://localhost:8080/"
        },
        "id": "JQzVI44ynxhj",
        "outputId": "b70861f9-5f87-4cf4-c56b-66c1707ec961"
      },
      "source": [
        "from numpy.linalg import eig\r\n",
        "\r\n",
        "A = np.array([[0.5, 0.1], [-0.05, 0.2]])\r\n",
        "\r\n",
        "e, v = eig(A)\r\n",
        "i,j = e\r\n",
        "print(\"eigenvalues of A - B*K:\", e)\r\n",
        "i,j = e\r\n",
        "if(abs(i)>1 )or (abs(j)>1):\r\n",
        "  print('system is unstable')\r\n",
        "elif(abs(i) == 1) or (abs(j)==1):\r\n",
        "  print(\"system is  Lyapunov stable\")\r\n",
        "else: \r\n",
        "  print(\"system is asymptotically stable\")"
      ],
      "execution_count": 27,
      "outputs": [
        {
          "output_type": "stream",
          "text": [
            "eigenvalues of A - B*K: [0.48228757 0.21771243]\n",
            "system is asymptotically stable\n"
          ],
          "name": "stdout"
        }
      ]
    },
    {
      "cell_type": "markdown",
      "metadata": {
        "id": "28szWiqCl_-K"
      },
      "source": [
        " $$x_{i+1} = \r\n",
        "\\begin{bmatrix} 1 & -2 \\\\ 0 & 0.3\r\n",
        "\\end{bmatrix}\r\n",
        "x_i\r\n",
        "$$"
      ]
    },
    {
      "cell_type": "code",
      "metadata": {
        "colab": {
          "base_uri": "https://localhost:8080/"
        },
        "id": "AxE91DpWpZjm",
        "outputId": "a88a80b6-17e1-48c7-fd75-160f62e6999e"
      },
      "source": [
        "from numpy.linalg import eig\r\n",
        "\r\n",
        "A = np.array([[1, -2], [0, 0.3]])\r\n",
        "\r\n",
        "e, v = eig(A)\r\n",
        "print(\"eigenvalues of A - B*K:\", e)\r\n",
        "i,j = e\r\n",
        "if(abs(i)>1 )or (abs(j)>1):\r\n",
        "  print('system is unstable')\r\n",
        "elif(abs(i) == 1) or (abs(j)==1):\r\n",
        "  print(\"system is  Lyapunov stable\")\r\n",
        "else: \r\n",
        "  print(\"system is asymptotically stable\")"
      ],
      "execution_count": 25,
      "outputs": [
        {
          "output_type": "stream",
          "text": [
            "eigenvalues of A - B*K: [1.  0.3]\n",
            "system is  Lyapunov stable\n"
          ],
          "name": "stdout"
        }
      ]
    },
    {
      "cell_type": "markdown",
      "metadata": {
        "id": "tg1i-K27mBSa"
      },
      "source": [
        " $$x_{i+1} = \r\n",
        "\\begin{bmatrix} -5 & 0 \\\\ -0.1 & 1\r\n",
        "\\end{bmatrix}\r\n",
        "x_i\r\n",
        "+\r\n",
        "\\begin{bmatrix} \r\n",
        "0 \\\\ 0.5\r\n",
        "\\end{bmatrix}\r\n",
        "u_i, \\ \\ \\ \r\n",
        "u_i = \r\n",
        "\\begin{bmatrix} \r\n",
        "0 & 0.2\r\n",
        "\\end{bmatrix}\r\n",
        "x_i\r\n",
        "$$"
      ]
    },
    {
      "cell_type": "code",
      "metadata": {
        "colab": {
          "base_uri": "https://localhost:8080/"
        },
        "id": "nGh8XJoRp71x",
        "outputId": "2a63cae1-39c5-4aa1-e4a6-e5e4a3b7bc10"
      },
      "source": [
        "import numpy as np\r\n",
        "from numpy.linalg import eig\r\n",
        "from scipy.integrate import odeint\r\n",
        "from scipy.signal import place_poles\r\n",
        "\r\n",
        "n = 2\r\n",
        "A = np.array([[-5, 0], [-0.1, 1]])\r\n",
        "B = np.array([[0], [0.5]])\r\n",
        "\r\n",
        "K = np.array([[0, 0.2]])\r\n",
        "e, v = eig((A - B.dot(K)))\r\n",
        "print(\"eigenvalues of A - B*K:\", e)\r\n",
        "\r\n",
        "\r\n",
        "i,j = e\r\n",
        "if(abs(i)>1 )or (abs(j)>1):\r\n",
        "  print('system is unstable')\r\n",
        "elif(abs(i) == 1) or (abs(j)==1):\r\n",
        "  print(\"system is  Lyapunov stable\")\r\n",
        "else: \r\n",
        "  print(\"system is asymptotically stable\")"
      ],
      "execution_count": 24,
      "outputs": [
        {
          "output_type": "stream",
          "text": [
            "Eigenvalues of A:\n",
            " [ 0.9 -5. ]\n",
            "system is unstable\n"
          ],
          "name": "stdout"
        }
      ]
    },
    {
      "cell_type": "markdown",
      "metadata": {
        "id": "fQDUy83TmEEu"
      },
      "source": [
        " $$x_{i+1} = \r\n",
        "\\begin{bmatrix} -2.2 & -3 \\\\ 0 & 0.5\r\n",
        "\\end{bmatrix}\r\n",
        "x_i\r\n",
        "+\r\n",
        "\\begin{bmatrix} \r\n",
        "-1 \\\\ 1\r\n",
        "\\end{bmatrix}\r\n",
        "u_i, \\ \\ \\ \r\n",
        "u_i = 10\r\n",
        "$$"
      ]
    },
    {
      "cell_type": "code",
      "metadata": {
        "colab": {
          "base_uri": "https://localhost:8080/"
        },
        "id": "aukIBrDD9hkC",
        "outputId": "19eff077-4136-487b-c65e-93693fd4e8d0"
      },
      "source": [
        "import numpy as np\r\n",
        "from numpy.linalg import eig\r\n",
        "from scipy.integrate import odeint\r\n",
        "from scipy.signal import place_poles\r\n",
        "\r\n",
        "n = 2\r\n",
        "A = np.array([[-2.2, -3], [0, 0.5]])\r\n",
        "B = np.array([[-1], [1]])\r\n",
        "\r\n",
        "K = np.array([[10]])\r\n",
        "e, v = eig((A - B.dot(K)))\r\n",
        "print(\"eigenvalues of A - B*K:\", e)\r\n",
        "i,j = e\r\n",
        "if(abs(i)>1 )or (abs(j)>1):\r\n",
        "  print('system is unstable')\r\n",
        "elif(abs(i) == 1) or (abs(j)==1):\r\n",
        "  print(\"system is  Lyapunov stable\")\r\n",
        "else: \r\n",
        "  print(\"system is asymptotically stable\")"
      ],
      "execution_count": 28,
      "outputs": [
        {
          "output_type": "stream",
          "text": [
            "eigenvalues of A - B*K: [ 1.34601913 -3.04601913]\n",
            "system is unstable\n"
          ],
          "name": "stdout"
        }
      ]
    },
    {
      "cell_type": "markdown",
      "metadata": {
        "id": "YPTgZ3rvmGin"
      },
      "source": [
        "## Task 6.2 Propose control that makes the following systems stable:"
      ]
    },
    {
      "cell_type": "markdown",
      "metadata": {
        "id": "Vqr-bOjymMgG"
      },
      "source": [
        " $$x_{i+1} = \r\n",
        "\\begin{bmatrix} 1 & 1 \\\\ -0.4 & 0.1\r\n",
        "\\end{bmatrix}\r\n",
        "x_i\r\n",
        "+\r\n",
        "\\begin{bmatrix} \r\n",
        "0.5 \\\\ 0.5\r\n",
        "\\end{bmatrix}\r\n",
        "u_i\r\n",
        "$$"
      ]
    },
    {
      "cell_type": "code",
      "metadata": {
        "colab": {
          "base_uri": "https://localhost:8080/"
        },
        "id": "2JhIzRcpD7Za",
        "outputId": "cf512613-982c-4b9f-8aac-052e942281ba"
      },
      "source": [
        "import numpy as np\r\n",
        "from scipy.integrate import odeint\r\n",
        "from scipy import signal\r\n",
        "\r\n",
        "A = np.array([[1, 1], \r\n",
        "               [-0.4, 0.1]])\r\n",
        "\r\n",
        "B = np.array([[0.5], \r\n",
        "              [0.5]])\r\n",
        "\r\n",
        "C = np.array([[1, 1]])\r\n",
        "D = np.array([[0]])\r\n",
        "\r\n",
        "T = 0.1\r\n",
        "\r\n",
        "A_d, B_d, C_d, D_d, _ = signal.cont2discrete((A,B,C,D), T)\r\n",
        "\r\n",
        "e, v = eig(A_d)\r\n",
        "print(\"Eigenvalues of A:\\n\", e)\r\n",
        "\r\n",
        "#desired eigenvalues\r\n",
        "poles = np.array([0.5, 0.25])\r\n",
        "place_obj = signal.place_poles(A_d, B_d, poles)\r\n",
        "\r\n",
        "#found control gains\r\n",
        "K = place_obj.gain_matrix\r\n",
        "print(\"Matrix K:\\n\", K)\r\n",
        "\r\n",
        "#test that eigenvalues of the closed loop system are what they are supposed to be \r\n",
        "e, v = eig((A_d - B_d.dot(K)))\r\n",
        "print(\"Eigenvalues of A - B*K:\\n\", abs(e))"
      ],
      "execution_count": 29,
      "outputs": [
        {
          "output_type": "stream",
          "text": [
            "Eigenvalues of A:\n",
            " [1.05549745+0.04693824j 1.05549745-0.04693824j]\n",
            "Gain matrix K:\n",
            " [[ 44.02163414 -21.68621658]]\n",
            "Eigenvalues of A - B*K:\n",
            " [0.25 0.5 ]\n"
          ],
          "name": "stdout"
        }
      ]
    },
    {
      "cell_type": "markdown",
      "metadata": {
        "id": "PnX7mzdFmO_H"
      },
      "source": [
        "$$x_{i+1} = \r\n",
        "\\begin{bmatrix} 0.8 & -0.3 \\\\ 0 & 0.15\r\n",
        "\\end{bmatrix}\r\n",
        "x_i\r\n",
        "+\r\n",
        "\\begin{bmatrix} \r\n",
        "-1 \\\\ 1\r\n",
        "\\end{bmatrix}\r\n",
        "u_i\r\n",
        "$$"
      ]
    },
    {
      "cell_type": "code",
      "metadata": {
        "colab": {
          "base_uri": "https://localhost:8080/"
        },
        "id": "j0PiVBxQE50V",
        "outputId": "11d1e64e-8421-43f0-c576-afceb1cde8c0"
      },
      "source": [
        "import numpy as np\r\n",
        "from scipy.integrate import odeint\r\n",
        "from scipy import signal\r\n",
        "\r\n",
        "A = np.array([[0.8, -0.3], \r\n",
        "               [0, 0.15]])\r\n",
        "B = np.array([[-1], \r\n",
        "              [1]])\r\n",
        "C = np.array([[2, 1]])\r\n",
        "D = np.array([[2]])\r\n",
        "\r\n",
        "T = 0.1\r\n",
        "\r\n",
        "A_d, B_d, C_d, D_d, _ = signal.cont2discrete((A,B,C,D), T)\r\n",
        "\r\n",
        "e, v = eig(A_d)\r\n",
        "print(\"Eigenvalues of A:\\n\", e)\r\n",
        "\r\n",
        "#desired eigenvalues\r\n",
        "poles = np.array([-5, 0.25])\r\n",
        "place_obj = signal.place_poles(A_d, B_d, poles)\r\n",
        "\r\n",
        "#found control gains\r\n",
        "K = place_obj.gain_matrix\r\n",
        "print(\"Matrix K:\\n\", K)\r\n",
        "\r\n",
        "#test that eigenvalues of the closed loop system are what they are supposed to be \r\n",
        "e, v = eig((A_d - B_d.dot(K)))\r\n",
        "print(\"Eigenvalues of A - B*K:\\n\", abs(e))"
      ],
      "execution_count": 30,
      "outputs": [
        {
          "output_type": "stream",
          "text": [
            "Eigenvalues of A:\n",
            " [1.08328707 1.01511306]\n",
            "Matrix K:\n",
            " [[-488.67072632 -444.48208765]]\n",
            "Eigenvalues of A - B*K:\n",
            " [5.   0.25]\n"
          ],
          "name": "stdout"
        }
      ]
    },
    {
      "cell_type": "markdown",
      "metadata": {
        "id": "xRjR2hWCuT5v"
      },
      "source": [
        "## Task 6.3 Design point-to-point control and simulate two discrete systems:\n",
        "\n",
        "$$ x_{i+1} = Ax_i + Bu_i, \\qquad A = \n",
        "\\begin{bmatrix} 0.5 & 0.1 \\\\ -0.05 & 0.2\n",
        "\\end{bmatrix}$$\n",
        "\n"
      ]
    },
    {
      "cell_type": "markdown",
      "metadata": {
        "id": "S_lNN40_mpNd"
      },
      "source": [
        "* where $B \\in \\mathbb{R}^{2 \\times 1}$"
      ]
    },
    {
      "cell_type": "code",
      "metadata": {
        "colab": {
          "base_uri": "https://localhost:8080/",
          "height": 214
        },
        "id": "9t-wvAb3mv-x",
        "outputId": "e1297be6-f86d-4b30-afb6-f873a694be78"
      },
      "source": [
        "A = np.array([[0.5, 0.1], [-0.05, 0.2]])\r\n",
        "B = np.array([[1], [0]])\r\n",
        "e, v = eig(A)\r\n",
        "print(e)\r\n",
        "# eigen values are positive\r\n",
        "#desired eigenvalues\r\n",
        "poles = np.array([0.2, 0.7])\r\n",
        "place_obj = place_poles(A, B, poles)\r\n",
        "\r\n",
        "K = place_obj.gain_matrix;\r\n",
        "print(\"K:\", K)\r\n",
        "\r\n",
        "e, v = eig((A - B.dot(K)))\r\n",
        "print(\"eigenvalues of A - B*K:\", e)\r\n",
        "\r\n",
        "x_desired = np.array([1, 2])\r\n",
        "u_desired = np.array([2])\r\n",
        "\r\n",
        "\r\n",
        "def StateSpace(x):\r\n",
        "    u = -K.dot(x - x_desired) + u_desired\r\n",
        "    return A.dot(x) + B.dot(u)\r\n",
        "\r\n",
        "Count = 100\r\n",
        "time = np.zeros((Count))\r\n",
        "dt = 0.01\r\n",
        "\r\n",
        "x0 = np.random.rand(n) \r\n",
        "solution = np.zeros((Count, 2))\r\n",
        "solution[0, :] = x0\r\n",
        "\r\n",
        "\r\n",
        "\r\n",
        "for i in range(0, Count-1):\r\n",
        "    x = solution[i, :]\r\n",
        "    x = StateSpace(x)\r\n",
        "    solution[i+1, :] = np.reshape(x, (1, 2))\r\n",
        "    time[i] = dt*i\r\n",
        "\r\n",
        "plt.subplot(221)\r\n",
        "plt.plot(range(0, Count), solution, linewidth=2)\r\n",
        "plt.xlabel('time')\r\n",
        "plt.ylabel('x(t)')\r\n",
        "plt.grid(color='k', linestyle='--', linewidth=0.7, alpha=0.3)\r\n"
      ],
      "execution_count": null,
      "outputs": [
        {
          "output_type": "stream",
          "text": [
            "[0.48228757 0.21771243]\n",
            "K: [[-0.2  0.1]]\n",
            "eigenvalues of A - B*K: [0.2 0.7]\n"
          ],
          "name": "stdout"
        },
        {
          "output_type": "display_data",
          "data": {
            "image/png": "[encoded data removed]",
            "text/plain": [
              "<Figure size 432x288 with 1 Axes>"
            ]
          },
          "metadata": {
            "tags": [],
            "needs_background": "light"
          }
        }
      ]
    },
    {
      "cell_type": "markdown",
      "metadata": {
        "id": "FcMhgc18mpuY"
      },
      "source": [
        "* where $B \\in \\mathbb{R}^{2 \\times 2}$"
      ]
    },
    {
      "cell_type": "code",
      "metadata": {
        "colab": {
          "base_uri": "https://localhost:8080/",
          "height": 361
        },
        "id": "LSnplE53mwlq",
        "outputId": "cd874a0f-61c9-4813-e3ad-1e3599b369d3"
      },
      "source": [
        "from numpy.linalg import eig\r\n",
        "from scipy.integrate import odeint\r\n",
        "from scipy.signal import place_poles\r\n",
        "import matplotlib.pyplot as plt\r\n",
        "\r\n",
        "A = np.array([[-2, 8], [-6, 24]])\r\n",
        "B = np.array([[2, 4], [-3, 8]])\r\n",
        "\r\n",
        "#desired eigenvalues\r\n",
        "poles = np.array([-1, -2])\r\n",
        "place_obj = place_poles(A, B, poles)\r\n",
        "\r\n",
        "#found control gains\r\n",
        "K = place_obj.gain_matrix;\r\n",
        "print(\"K:\", K)\r\n",
        "\r\n",
        "#test that eigenvalues of the closed loop system are what they are supposed to be \r\n",
        "e, v = eig((A - B.dot(K)))\r\n",
        "print(\"eigenvalues of A - B*K:\", e)\r\n",
        "x_desired = np.array([1, 2])\r\n",
        "u_desired = np.array([2, -4.5])\r\n",
        "n=2\r\n",
        "\r\n",
        "Count = 100\r\n",
        "time = np.zeros((Count))\r\n",
        "dt = 0.01\r\n",
        "\r\n",
        "x0 = np.random.rand(n)  # initial state\r\n",
        "solution = np.zeros((Count, 2))\r\n",
        "solution[0, :] = x0\r\n",
        "\r\n",
        "for i in range(0, Count-1):\r\n",
        "    x = solution[i, :]\r\n",
        "    x = A.dot(x)\r\n",
        "    solution[i+1, :] = np.reshape(x, (1, 2))\r\n",
        "    time[i] = dt*i\r\n",
        "\r\n",
        "plt.plot(range(0, Count), solution, linewidth=2)\r\n",
        "plt.xlabel('time')\r\n",
        "plt.ylabel('x(t)')\r\n"
      ],
      "execution_count": 10,
      "outputs": [
        {
          "output_type": "stream",
          "text": [
            "K: [[ 0.85714286 -1.28571429]\n",
            " [-0.42857143  2.64285714]]\n",
            "eigenvalues of A - B*K: [-1. -2.]\n"
          ],
          "name": "stdout"
        },
        {
          "output_type": "execute_result",
          "data": {
            "text/plain": [
              "Text(0, 0.5, 'x(t)')"
            ]
          },
          "metadata": {
            "tags": []
          },
          "execution_count": 10
        },
        {
          "output_type": "display_data",
          "data": {
            "image/png": "[encoded data removed]",
            "text/plain": [
              "<Figure size 432x288 with 1 Axes>"
            ]
          },
          "metadata": {
            "tags": [],
            "needs_background": "light"
          }
        }
      ]
    }
  ]
}